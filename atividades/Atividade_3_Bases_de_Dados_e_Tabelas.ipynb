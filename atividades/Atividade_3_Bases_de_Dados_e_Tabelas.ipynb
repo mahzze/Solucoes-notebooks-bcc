{
  "nbformat": 4,
  "nbformat_minor": 0,
  "metadata": {
    "colab": {
      "provenance": []
    },
    "kernelspec": {
      "name": "python3",
      "display_name": "Python 3"
    },
    "language_info": {
      "name": "python"
    }
  },
  "cells": [
    {
      "cell_type": "markdown",
      "source": [
        "### Bases Computacionais da Ciência - Raphael Y. de Camargo - 2024.2\n",
        "\n",
        "## Lista 3 - Entregar até o dia 24/07"
      ],
      "metadata": {
        "id": "nQ9ja00_pZR4"
      }
    },
    {
      "cell_type": "markdown",
      "source": [
        "Vamos criar os problemas baseados no arquivo `base_dados_esportes.csv` fornecido pelo Moodle. Para todos os problemas, você deverá primeiro fazer o upload do arquivo e leitura em um dataframe, conforme visto em aula."
      ],
      "metadata": {
        "id": "CbCmfGpypaeI"
      }
    },
    {
      "cell_type": "markdown",
      "source": [
        "### Problema 1: Filtro de Jogadores por Time e Seleção de colunas\n",
        "Filtre e exiba apenas as colunas de nome, time e pontos por jogo dos jogadores que pertencem ao \"Time_1\"."
      ],
      "metadata": {
        "id": "96Lrn3W9ws-O"
      }
    },
    {
      "cell_type": "code",
      "source": [],
      "metadata": {
        "id": "PlNzPG_Yw97z"
      },
      "execution_count": null,
      "outputs": []
    },
    {
      "cell_type": "markdown",
      "source": [
        "### Problema 2: Histogramas\n",
        "Gere três histogramas contendo a distribuição de pontos por jogo, de assistências por jogo e de rebotes por jogo. Coloque legendas adequadas nos eixos dos histogramas."
      ],
      "metadata": {
        "id": "HX0ThhDjwvrY"
      }
    },
    {
      "cell_type": "code",
      "source": [],
      "metadata": {
        "id": "2sIdV9hMw9ZQ"
      },
      "execution_count": null,
      "outputs": []
    },
    {
      "cell_type": "markdown",
      "source": [
        "### Problema 3: Gráfico de Dispersão\n",
        "Crie um gráfico de dispersão para analisar a relação entre pontos por jogo e valor de mercado dos jogadores. Analise se há uma relação aparente entre essas duas variáveis."
      ],
      "metadata": {
        "id": "q3zQtvfiwwCv"
      }
    },
    {
      "cell_type": "code",
      "source": [],
      "metadata": {
        "id": "_ADM00kuw856"
      },
      "execution_count": null,
      "outputs": []
    },
    {
      "cell_type": "markdown",
      "source": [
        "### Problema 4: Estatíticas dos times\n",
        "Para cada time da competição, imprima quais os valores *médio* e *máximo* de pontos, assistências e rebotes por jogo, considerando todos os jogadores daquele time.\n",
        "\n",
        "*Dica:* Use of comando `groupby`\n"
      ],
      "metadata": {
        "id": "Lm7IMshhwwTD"
      }
    },
    {
      "cell_type": "code",
      "source": [],
      "metadata": {
        "id": "h1i-tix4w7rd"
      },
      "execution_count": null,
      "outputs": []
    },
    {
      "cell_type": "markdown",
      "source": [
        "### Problema 5: Estatíticas dos times\n",
        "Calcule qual o valor total de mercado dos jogadores de cada time. Em seguida, imprima o nome dos times e valor total de mercado em ordem decrescente de valor de mercado."
      ],
      "metadata": {
        "id": "GD1atapnwwoD"
      }
    },
    {
      "cell_type": "code",
      "source": [],
      "metadata": {
        "id": "6ijjM-LUw8X6"
      },
      "execution_count": null,
      "outputs": []
    }
  ]
}