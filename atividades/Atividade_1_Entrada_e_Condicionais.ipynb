{
  "nbformat": 4,
  "nbformat_minor": 0,
  "metadata": {
    "colab": {
      "provenance": []
    },
    "kernelspec": {
      "name": "python3",
      "display_name": "Python 3"
    },
    "language_info": {
      "name": "python"
    }
  },
  "cells": [
    {
      "cell_type": "markdown",
      "metadata": {
        "id": "1CPY8j3Lz8TK"
      },
      "source": [
        "### Bases Computacionais da Ciência - Raphael Y. de Camargo - 2024.2\n",
        "\n",
        "## Lista 1 - Entregar até o dia 10/07\n",
        "\n",
        "\n",
        "\n",
        "No Python, temos as seguintes operações:\n",
        "\n",
        "```\n",
        "+ (soma), - (subtração), * (multiplicação), / (divisão) e ** (exponencial).\n",
        "```\n",
        "\n",
        "---\n",
        "\n",
        "As operações seguem a mesma ordem do que estamos acostumados na matemática:\n",
        "\n",
        "\n",
        "\n",
        "```\n",
        "**   >   *, /   >   +, -\n",
        "```\n",
        "\n",
        "\n",
        "\n",
        "Além disso, podemos usar os parênteses para indicar precedência de operações. Exemplo:\n",
        "\n",
        "\n",
        "\n",
        "```\n",
        "(5 + 3) * 10\n",
        "```\n",
        "\n",
        "---\n",
        "\n",
        "***Importante:*** *Além desta lista existem outros exercícios para serem feitos na seção 'Sequencial' da aba BCM0505-15SA/SB - Processamento da Informação - EPs - 2022.2, onde vocês foram também adicionados.*\n"
      ]
    },
    {
      "cell_type": "markdown",
      "metadata": {
        "id": "sCbhW_qkWVUi"
      },
      "source": [
        "### Exercício 1:\n",
        "\n",
        "Escreva um código que solitcita o valor de `x` para o usuários e imprime o valor das seguintes equações usando o Python e armazena nas variáveis indicadas. A variável x é definida anteriormente.\n",
        "\n",
        "$$ a ← x \\times 17 $$\n",
        "\n",
        "$$ b ← \\frac{x \\times 17 + 13}{5} $$\n",
        "\n",
        "$$ c ← x^5 $$\n",
        "\n",
        "$$ d ← \\frac{x \\times 5^7}{250} $$\n"
      ]
    },
    {
      "cell_type": "code",
      "source": [
        "### Resposta\n",
        "x = float(input(\"Digite o valor de x: \"))\n",
        "\n",
        "a = x*17\n",
        "b = (x*17+13)/5\n",
        "c = x**5\n",
        "d = x*(5**7)/250\n",
        "\n",
        "print(\"a: \", a)\n",
        "print(\"b: \", b)\n",
        "print(\"c: \", c)\n",
        "print(\"d: \", d)"
      ],
      "metadata": {
        "id": "1r5VwgrhIjXv",
        "outputId": "7aca0071-c6d4-48d1-e96c-37116f285216",
        "colab": {
          "base_uri": "https://localhost:8080/"
        }
      },
      "execution_count": 3,
      "outputs": [
        {
          "output_type": "stream",
          "name": "stdout",
          "text": [
            "Digite o valor de x: 2\n",
            "a:  34.0\n",
            "b:  9.4\n",
            "c:  32.0\n",
            "d:  625.0\n"
          ]
        }
      ]
    },
    {
      "cell_type": "markdown",
      "metadata": {
        "id": "YvnfEUeQYeKX"
      },
      "source": [
        "### Exercício 2:\n",
        "\n",
        "Faremos agora o cálculo com juros compostos. Ao aplicar um valor no banco, você recebe um valor em juros por mês, por exemplo 0.5%. Neste caso, se você tinha 1000 reais no banco, você receberá 5 reais de juros. A conta pode ser feita pela fórmula:\n",
        "\n",
        "1000 * (1 + 0.005).\n",
        "\n",
        "Caso você tenha por dois meses, serão aplicados 0.5% sobre o valor de 1005, o que são os juros compostos. Neste caso, o cálculo ficaria\n",
        "\n",
        "1000 * (1 + 0.005)**2\n",
        "\n",
        "---\n",
        "\n",
        "Escreva o código para calcular e imprimir o resultado para as seguintes questões abaixo:\n",
        "\n",
        "a) Qual o valor que você terá se colocar 1000 reais no banco agora e mantiver por 1 ano, 10 anos e 40 anos?\n",
        "\n",
        "Armazene o resultado nas variaveis *valor1, valor10 e valor40* e imprima seus valores."
      ]
    },
    {
      "cell_type": "code",
      "source": [
        "### Resposta\n",
        "# Mantendo os 0.5%/mês\n",
        "valor1 = 1000 * (1 + 0.005)**12\n",
        "valor10 = 1000 * (1 + 0.005)**(12*10)\n",
        "valor40 = 1000 * (1 + 0.005)**(12*40)\n",
        "\n",
        "# Para mostrar apenas até os centavos, bastaria colocar %.2f, mas\n",
        "# como o enunciado não mencionou nada sobre, não coloquei.\n",
        "print(\"1 ano:\", valor1)\n",
        "print(\"10 anos:\", valor10)\n",
        "print(\"40 anos:\", valor40)"
      ],
      "metadata": {
        "id": "4-7CalYiL7fT",
        "outputId": "9415c3e6-fc89-43eb-a274-58a2c59b8b86",
        "colab": {
          "base_uri": "https://localhost:8080/"
        }
      },
      "execution_count": 9,
      "outputs": [
        {
          "output_type": "stream",
          "name": "stdout",
          "text": [
            "1 ano: 1061.6778118644984\n",
            "10 anos: 1819.3967340322902\n",
            "40 anos: 10957.453671655105\n"
          ]
        }
      ]
    },
    {
      "cell_type": "markdown",
      "source": [
        "b) Agora suponha que você tem uma dívida de 1000 reais com juros de 1% ou mês. Qual será sua dívida após 1, 10 e 40 anos?\n",
        "\n",
        "Armazene o resultado nas variaveis *divida1, divida10 e divida40* e imprima seus valores."
      ],
      "metadata": {
        "id": "qL-aWvZDLz9M"
      }
    },
    {
      "cell_type": "code",
      "source": [
        "### Resposta\n",
        "divida1 = 1000 * (1 + 0.01)**12\n",
        "divida10 = 1000 * (1 + 0.01)**(12*10)\n",
        "divida40 = 1000 * (1 + 0.01)**(12*40)\n",
        "\n",
        "print(\"1 ano:\", divida1)\n",
        "print(\"10 anos:\", divida10)\n",
        "print(\"40 anos:\", divida40)"
      ],
      "metadata": {
        "id": "mRBKmpkrL74T",
        "outputId": "b98b612b-defb-4a6c-e05f-7a72f88c41b7",
        "colab": {
          "base_uri": "https://localhost:8080/"
        }
      },
      "execution_count": 10,
      "outputs": [
        {
          "output_type": "stream",
          "name": "stdout",
          "text": [
            "1 ano: 1126.8250301319697\n",
            "10 anos: 3300.3868945736685\n",
            "40 anos: 118647.72510251563\n"
          ]
        }
      ]
    },
    {
      "cell_type": "markdown",
      "source": [
        "c) Agora suponha que você tem uma dívida de 1000 reais com juros de 3% ou mês. Qual será sua dívida após 1, 10 e 40 anos?\n",
        "\n",
        "Armazene o resultado nas variaveis *megadivida1, megadivida10 e megadivida40* e imprima seus valores."
      ],
      "metadata": {
        "id": "iVHUpeGDL1Ej"
      }
    },
    {
      "cell_type": "code",
      "source": [
        "### Resposta\n",
        "megadivida1 = 1000 * (1 + 0.03)**12\n",
        "megadivida10 = 1000 * (1 + 0.03)**(12*10)\n",
        "megadivida40 = 1000 * (1 + 0.03)**(12*40)\n",
        "\n",
        "print(\"1 ano:\", megadivida1)\n",
        "print(\"10 anos:\", megadivida10)\n",
        "print(\"40 anos:\", megadivida40)"
      ],
      "metadata": {
        "id": "ZU0FUjpoLjeV",
        "outputId": "2a008950-cb9a-417c-d82a-580be8f296cc",
        "colab": {
          "base_uri": "https://localhost:8080/"
        }
      },
      "execution_count": 8,
      "outputs": [
        {
          "output_type": "stream",
          "name": "stdout",
          "text": [
            "1 ano: 1425.7608868461793\n",
            "10 anos: 34710.98713560147\n",
            "40 ano: 1451669855.0247438\n"
          ]
        }
      ]
    },
    {
      "cell_type": "markdown",
      "metadata": {
        "id": "-zxyCK7QzAgt"
      },
      "source": [
        "### Exercício 3\n",
        "\n",
        "Escreva um progrma que solicita como entrada a renda anual de uma pessoa e devolva o valor que ela deve pagar de IRPF. Para tal, encontre em qual faixa de renda ela se encontra, calcule o imposto pela alíquota e deduza a parcela indicada naquela faixa. Em seguida, imprima qual a alíquota efetiva para aquela pessoa, isto é, o imposto pago dividido pela base de cálculo.\n",
        "\n",
        "```\n",
        "| Base de cálculo anual, em R$        | Alíquota | Parcela a deduzir do IR, em R$ |\n",
        "|-------------------------------------|----------|-------------------------------|\n",
        "| Até 22.847,76                       | isento   | isento                        |\n",
        "| De 22.847,77 até 33.919,80          | 7.5%     | 1.713,58                      |\n",
        "| De 33.919,81 até 45.012,60          | 15%      | 4.257,57                      |\n",
        "| De 45.012,61 até 55.976,16          | 22.5%    | 7.633,51                      |\n",
        "| Acima de 55.976,16                  | 27.5%    | 10.432,32                     |\n",
        "\n",
        "```"
      ]
    },
    {
      "cell_type": "markdown",
      "source": [
        "\n",
        "O valor devolvido deve conter 2 casas decimais representando os centavos. Use o método round().\n",
        "\n",
        "Exemplo: `round(123.456789,2)` devolve o valor `123.45`"
      ],
      "metadata": {
        "id": "Lxx9Qqou6zIg"
      }
    },
    {
      "cell_type": "code",
      "source": [
        "### Resposta\n",
        "renda = input(\"Digite a sua renda anual: \")\n",
        "\n"
      ],
      "metadata": {
        "id": "kHQIVavM6zk7"
      },
      "execution_count": null,
      "outputs": []
    },
    {
      "cell_type": "markdown",
      "metadata": {
        "id": "UXcbQYiX625b"
      },
      "source": [
        "# Exercício 4 - Média Geométrica\n",
        "\n",
        "Escreva um programa que solicitar 2 números e imprime a raiz quadrada do produto destes números com *3 casas decimais*. Se eles forem negativos, você deve considerar a parte imaginária $i$ = $\\sqrt{-1}$. Exemplos:\n",
        "\n",
        "- números 2 e 4, você deve imprimir $2.828$, o que corresponde à $\\sqrt{2*4}$.\n",
        "- números 2 e -4, você deve imprimir $2.828 i$.\n",
        "\n",
        "\n",
        "\n"
      ]
    },
    {
      "cell_type": "code",
      "source": [
        "### Resposta\n"
      ],
      "metadata": {
        "id": "F8LwoU3cYTH7"
      },
      "execution_count": null,
      "outputs": []
    }
  ]
}