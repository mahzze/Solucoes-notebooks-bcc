{
  "nbformat": 4,
  "nbformat_minor": 0,
  "metadata": {
    "colab": {
      "provenance": []
    },
    "kernelspec": {
      "name": "python3",
      "display_name": "Python 3"
    },
    "language_info": {
      "name": "python"
    }
  },
  "cells": [
    {
      "cell_type": "markdown",
      "metadata": {
        "id": "1CPY8j3Lz8TK"
      },
      "source": [
        "### Bases Computacionais da Ciência - Raphael Y. de Camargo - 2024.2\n",
        "\n",
        "## Lista 1 - Entregar até o dia 10/07\n",
        "\n",
        "\n",
        "\n",
        "No Python, temos as seguintes operações:\n",
        "\n",
        "```\n",
        "+ (soma), - (subtração), * (multiplicação), / (divisão) e ** (exponencial).\n",
        "```\n",
        "\n",
        "---\n",
        "\n",
        "As operações seguem a mesma ordem do que estamos acostumados na matemática:\n",
        "\n",
        "\n",
        "\n",
        "```\n",
        "**   >   *, /   >   +, -\n",
        "```\n",
        "\n",
        "\n",
        "\n",
        "Além disso, podemos usar os parênteses para indicar precedência de operações. Exemplo:\n",
        "\n",
        "\n",
        "\n",
        "```\n",
        "(5 + 3) * 10\n",
        "```\n",
        "\n",
        "---\n",
        "\n",
        "***Importante:*** *Além desta lista existem outros exercícios para serem feitos na seção 'Sequencial' da aba BCM0505-15SA/SB - Processamento da Informação - EPs - 2022.2, onde vocês foram também adicionados.*\n"
      ]
    },
    {
      "cell_type": "markdown",
      "metadata": {
        "id": "sCbhW_qkWVUi"
      },
      "source": [
        "### Exercício 1:\n",
        "\n",
        "Escreva um código que solitcita o valor de `x` para o usuários e imprime o valor das seguintes equações usando o Python e armazena nas variáveis indicadas. A variável x é definida anteriormente.\n",
        "\n",
        "$$ a ← x \\times 17 $$\n",
        "\n",
        "$$ b ← \\frac{x \\times 17 + 13}{5} $$\n",
        "\n",
        "$$ c ← x^5 $$\n",
        "\n",
        "$$ d ← \\frac{x \\times 5^7}{250} $$\n"
      ]
    },
    {
      "cell_type": "code",
      "source": [
        "### Resposta\n",
        "\n"
      ],
      "metadata": {
        "id": "1r5VwgrhIjXv"
      },
      "execution_count": null,
      "outputs": []
    },
    {
      "cell_type": "markdown",
      "metadata": {
        "id": "YvnfEUeQYeKX"
      },
      "source": [
        "### Exercício 2:\n",
        "\n",
        "Faremos agora o cálculo com juros compostos. Ao aplicar um valor no banco, você recebe um valor em juros por mês, por exemplo 0.5%. Neste caso, se você tinha 1000 reais no banco, você receberá 5 reais de juros. A conta pode ser feita pela fórmula:\n",
        "\n",
        "1000 * (1 + 0.005).\n",
        "\n",
        "Caso você tenha por dois meses, serão aplicados 0.5% sobre o valor de 1005, o que são os juros compostos. Neste caso, o cálculo ficaria\n",
        "\n",
        "1000 * (1 + 0.005)**2\n",
        "\n",
        "---\n",
        "\n",
        "Escreva o código para calcular e imprimir o resultado para as seguintes questões abaixo:\n",
        "\n",
        "a) Qual o valor que você terá se colocar 1000 reais no banco agora e mantiver por 1 ano, 10 anos e 40 anos?\n",
        "\n",
        "Armazene o resultado nas variaveis *valor1, valor10 e valor40* e imprima seus valores."
      ]
    },
    {
      "cell_type": "code",
      "source": [
        "### Resposta\n"
      ],
      "metadata": {
        "id": "4-7CalYiL7fT"
      },
      "execution_count": null,
      "outputs": []
    },
    {
      "cell_type": "markdown",
      "source": [
        "b) Agora suponha que você tem uma dívida de 1000 reais com juros de 1% ou mês. Qual será sua dívida após 1, 10 e 40 anos?\n",
        "\n",
        "Armazene o resultado nas variaveis *divida1, divida10 e divida40* e imprima seus valores."
      ],
      "metadata": {
        "id": "qL-aWvZDLz9M"
      }
    },
    {
      "cell_type": "code",
      "source": [
        "### Resposta\n"
      ],
      "metadata": {
        "id": "mRBKmpkrL74T"
      },
      "execution_count": null,
      "outputs": []
    },
    {
      "cell_type": "markdown",
      "source": [
        "c) Agora suponha que você tem uma dívida de 1000 reais com juros de 3% ou mês. Qual será sua dívida após 1, 10 e 40 anos?\n",
        "\n",
        "Armazene o resultado nas variaveis *megadivida1, megadivida10 e megadivida40* e imprima seus valores."
      ],
      "metadata": {
        "id": "iVHUpeGDL1Ej"
      }
    },
    {
      "cell_type": "code",
      "source": [
        "### Resposta\n",
        "\n"
      ],
      "metadata": {
        "id": "ZU0FUjpoLjeV"
      },
      "execution_count": null,
      "outputs": []
    },
    {
      "cell_type": "markdown",
      "metadata": {
        "id": "-zxyCK7QzAgt"
      },
      "source": [
        "### Exercício 3\n",
        "\n",
        "Escreva um progrma que solicita como entrada a renda anual de uma pessoa e devolva o valor que ela deve pagar de IRPF. Para tal, encontre em qual faixa de renda ela se encontra, calcule o imposto pela alíquota e deduza a parcela indicada naquela faixa. Em seguida, imprima qual a alíquota efetiva para aquela pessoa, isto é, o imposto pago dividido pela base de cálculo.\n",
        "\n",
        "```\n",
        "| Base de cálculo anual, em R$        | Alíquota | Parcela a deduzir do IR, em R$ |\n",
        "|-------------------------------------|----------|-------------------------------|\n",
        "| Até 22.847,76                       | isento   | isento                        |\n",
        "| De 22.847,77 até 33.919,80          | 7.5%     | 1.713,58                      |\n",
        "| De 33.919,81 até 45.012,60          | 15%      | 4.257,57                      |\n",
        "| De 45.012,61 até 55.976,16          | 22.5%    | 7.633,51                      |\n",
        "| Acima de 55.976,16                  | 27.5%    | 10.432,32                     |\n",
        "\n",
        "```"
      ]
    },
    {
      "cell_type": "markdown",
      "source": [
        "\n",
        "O valor devolvido deve conter 2 casas decimais representando os centavos. Use o método round().\n",
        "\n",
        "Exemplo: `round(123.456789,2)` devolve o valor `123.45`"
      ],
      "metadata": {
        "id": "Lxx9Qqou6zIg"
      }
    },
    {
      "cell_type": "code",
      "source": [
        "### Resposta\n",
        "\n"
      ],
      "metadata": {
        "id": "kHQIVavM6zk7"
      },
      "execution_count": null,
      "outputs": []
    },
    {
      "cell_type": "markdown",
      "metadata": {
        "id": "UXcbQYiX625b"
      },
      "source": [
        "# Exercício 4 - Média Geométrica\n",
        "\n",
        "Escreva um programa que solicitar 2 números e imprime a raiz quadrada do produto destes números com *3 casas decimais*. Se eles forem negativos, você deve considerar a parte imaginária $i$ = $\\sqrt{-1}$. Exemplos:\n",
        "\n",
        "- números 2 e 4, você deve imprimir $2.828$, o que corresponde à $\\sqrt{2*4}$.\n",
        "- números 2 e -4, você deve imprimir $2.828 i$.\n",
        "\n",
        "\n",
        "\n"
      ]
    },
    {
      "cell_type": "code",
      "source": [
        "### Resposta\n"
      ],
      "metadata": {
        "id": "F8LwoU3cYTH7"
      },
      "execution_count": null,
      "outputs": []
    }
  ]
}