{
  "nbformat": 4,
  "nbformat_minor": 0,
  "metadata": {
    "colab": {
      "provenance": []
    },
    "kernelspec": {
      "name": "python3",
      "display_name": "Python 3"
    },
    "language_info": {
      "name": "python"
    }
  },
  "cells": [
    {
      "cell_type": "markdown",
      "source": [
        "### Bases Computacionais da Ciência - Raphael Y. de Camargo - 2024.2\n",
        "\n",
        "## Lista 2 - Entregar até o dia 17/07"
      ],
      "metadata": {
        "id": "7DgtTPk4F9y7"
      }
    },
    {
      "cell_type": "markdown",
      "source": [
        "### Exercício 1: Múltiplos Gráficos\n",
        "\n",
        "Plote no mesmo gráfico as funções $ f(x) = x^2 $, $ g(x) = -x^2 + 50$ e $ h(x) = x + 20 $. Utilize cores diferentes e estilos de linha variados para cada função. Em seguida, use o gráfico para determinar em qual ponto $x$ as figuras se cruzam."
      ],
      "metadata": {
        "id": "dc5DoKgyIC_2"
      }
    },
    {
      "cell_type": "code",
      "source": [],
      "metadata": {
        "id": "I0E8DY-mICiM"
      },
      "execution_count": null,
      "outputs": []
    },
    {
      "cell_type": "markdown",
      "source": [
        "### Exercício 2: Customização de Gráficos\n",
        "Modifique o gráfico do exercício anterior para ter as seguintes características:\n",
        "- Título: \"Comparação de Funções\"\n",
        "- Rótulo do eixo x: \"Valor de X\"\n",
        "- Rótulo do eixo y: \"Valor da Função\"\n",
        "- Mude a cor da linha de \\( f(x) \\) para azul contínuo, de \\( g(x) \\) para vermelho tracejado, e de \\( h(x) \\) para verde pontilhado.\n",
        "- Adicione marcadores de dados (círculos, quadrados, etc.) para indicar os pontos de cada função."
      ],
      "metadata": {
        "id": "1DsocmH0IpA5"
      }
    },
    {
      "cell_type": "code",
      "source": [],
      "metadata": {
        "id": "Hf21Aui8IqyH"
      },
      "execution_count": null,
      "outputs": []
    },
    {
      "cell_type": "markdown",
      "source": [
        "### Exercício 3: Análise de Trajetória\n",
        "\n",
        "Um objeto é lançado verticalmente para cima com uma velocidade inicial de 50 m/s. A aceleração devido à gravidade é de\n",
        "$9,8 \\, \\text{m/s}^2$. *Plote* o gráfico da altura do objeto em função do tempo até que ele retorne ao solo. Use o gráfico para determinar o tempo total de voo e a altura máxima alcançada.\n",
        "\n",
        "Dica: A equação da altura é dada por:\n",
        "$ h(t) = v_0 t - \\frac{1}{2} g t^2 $."
      ],
      "metadata": {
        "id": "unvNehGnGCLK"
      }
    },
    {
      "cell_type": "code",
      "source": [],
      "metadata": {
        "id": "e7c8dA_iHgCR"
      },
      "execution_count": null,
      "outputs": []
    },
    {
      "cell_type": "markdown",
      "source": [
        "### Exercício 4: Crescimento Populacional\n",
        "**Enunciado:** A população de uma cidade cresce de acordo com a função $P(t) = P_0 e^{rt} $, onde $ P_0 $ é a população inicial, $ r $ é a taxa de crescimento e $ t $ é o tempo em anos. Suponha que $ P_0 = 1000 $ e $ r = 0,05 $. Plote o gráfico da população em função do tempo para os próximos 20 anos. Use o gráfico para determinar a população após 10 e 20 anos."
      ],
      "metadata": {
        "id": "C8BcenVhGtDE"
      }
    },
    {
      "cell_type": "code",
      "source": [],
      "metadata": {
        "id": "kuLqtZXmHs4V"
      },
      "execution_count": null,
      "outputs": []
    },
    {
      "cell_type": "markdown",
      "source": [
        "### Exercício 5: Comparação de Decaimento Radioativo\n",
        "\n",
        "Dois isótopos radioativos, A e B, decaem de acordo com as seguintes funções:\n",
        "- Isótopo A: $ N_A(t) = N_{A0} e^{-\\lambda_A t} $, com $ N_{A0} = 100 $ e $ \\lambda_A = 0,1 $.\n",
        "- Isótopo B: $ N_B(t) = N_{B0} e^{-\\lambda_B t} $, com $ N_{B0} = 200 $ e $ \\lambda_B = 0,05 $.\n",
        "\n",
        "onde $ N_{A0} $ e $ N_{B0} $ são as quantidades iniciais de cada isótopo.\n",
        "\n",
        "Plote os gráficos de $ N_A(t) $ e $ N_B(t) $ no mesmo gráfico para um intervalo de tempo de 0 a 50 anos. Use os gráficos para determinar:\n",
        "1. Após quantos anos os dois isótopos terão a mesma quantidade.\n",
        "2. Qual a meia vida de cada isótopo.\n"
      ],
      "metadata": {
        "id": "wYWFFUhYJNir"
      }
    },
    {
      "cell_type": "code",
      "source": [],
      "metadata": {
        "id": "sjMTGQ4OJN4Z"
      },
      "execution_count": null,
      "outputs": []
    }
  ]
}