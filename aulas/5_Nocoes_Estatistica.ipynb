{
  "nbformat": 4,
  "nbformat_minor": 0,
  "metadata": {
    "kernelspec": {
      "display_name": "Python 3",
      "language": "python",
      "name": "python3"
    },
    "language_info": {
      "codemirror_mode": {
        "name": "ipython",
        "version": 3
      },
      "file_extension": ".py",
      "mimetype": "text/x-python",
      "name": "python",
      "nbconvert_exporter": "python",
      "pygments_lexer": "ipython3",
      "version": "3.6.5"
    },
    "colab": {
      "provenance": []
    }
  },
  "cells": [
    {
      "cell_type": "markdown",
      "metadata": {
        "id": "jN8oak-uBpS-"
      },
      "source": [
        "# Noções básicas de Estatística\n",
        "\n",
        "A Estatística é um ramo da Matemática que tem um papel fundamental nas pesquisas científicas.\n",
        "\n",
        "Vamos ver um exemplo onde a Estatística é utilizada.\n",
        "\n",
        "Este exemplo é de um ramo da Estatística conhecido como **Inferência Estatística**.\n",
        "\n",
        "Suponha que você queira saber a média das alturas dos brasileiros de 18 anos.\n",
        "\n",
        "> O que você faria?\n",
        "\n",
        "Uma maneira direta seria: medir a altura de todos os brasileiros de 18 anos e calcular a média.\n",
        "\n",
        "> O que você acha disso?\n",
        "\n",
        "Apesar desta maneira ser matematicamente correta, ela é totalmente inviável.\n",
        "\n",
        "> Então, o que fazer?\n",
        "\n",
        "Na prática, é possível trabalhar apenas com uma pequena parte da população. Essa pequena parte é chamada de amostra e iremos calcular a média apenas dessa amostra?\n",
        "\n",
        "> Mas como saber se o que valor para a média da amostra é próximo da média da população?\n",
        "\n",
        "Os métodos de Inferência Estatística nos auxiliam a decidir como escolher a amostra para que possamos obter um valor relevante para a média que queremos calcular."
      ]
    },
    {
      "cell_type": "markdown",
      "metadata": {
        "id": "xP0rNm_JBpS_"
      },
      "source": [
        "Outro papel fundamental da Estatística é relacionado à descrição de dados. Isso é feito através de cálculos de funções estatísticas (como média, desvio padrão, etc), por representações gráficas, dentre outros.\n",
        "\n",
        "Nesta unidade, o nosso foco será nessa parte da Estatística."
      ]
    },
    {
      "cell_type": "markdown",
      "metadata": {
        "id": "6_23eOG4noj9"
      },
      "source": [
        "<hr>"
      ]
    },
    {
      "cell_type": "markdown",
      "metadata": {
        "id": "z8i1DtpMz7ln"
      },
      "source": [
        "# Média, mediana, quartis, moda"
      ]
    },
    {
      "cell_type": "markdown",
      "metadata": {
        "id": "DEIDP9EBBpTA"
      },
      "source": [
        "\n",
        "## Média e Mediana\n",
        "\n",
        "Suponha que você fez uma prova e o professor disponibilizou uma planilha com notas.\n",
        "\n",
        "Vamos importar a biblioteca e carregar a planilha:"
      ]
    },
    {
      "cell_type": "code",
      "metadata": {
        "id": "vLtujRyVBpTG"
      },
      "source": [
        "import pandas as pd\n",
        "df = pd.read_csv(\"https://drive.google.com/u/1/uc?id=16Xv85THn5BF1bBDDXLTT8nGxCP321QPv&export=download\")\n",
        "df"
      ],
      "execution_count": null,
      "outputs": []
    },
    {
      "cell_type": "markdown",
      "metadata": {
        "id": "djp83blEBpTP"
      },
      "source": [
        "> Depois de ver a sua nota (claro :-D), o que você calcula para saber como a turma foi como um todo?\n",
        "\n",
        "Em geral, calculamos a média. Então acessamos a coluna de notas e calculamos a média.\n",
        "\n",
        "Para acessar a coluna de notas:"
      ]
    },
    {
      "cell_type": "code",
      "metadata": {
        "id": "xxNGlNUtBpTP"
      },
      "source": [
        "df[\"Nota\"]"
      ],
      "execution_count": null,
      "outputs": []
    },
    {
      "cell_type": "markdown",
      "metadata": {
        "id": "u0U81gIzD-ar"
      },
      "source": [
        "Para calcular a média:"
      ]
    },
    {
      "cell_type": "code",
      "metadata": {
        "id": "T1a6pvm7EBNt"
      },
      "source": [
        "df[\"Nota\"].mean()"
      ],
      "execution_count": null,
      "outputs": []
    },
    {
      "cell_type": "markdown",
      "metadata": {
        "id": "FUN1dsydBpTR"
      },
      "source": [
        "A média é uma **medida de tendência central**.\n",
        "\n",
        "A partir de medidas de tendência central, tentamos descobrir os valores ***típicos*** dos dados.\n",
        "\n",
        "> Mas, no nosso caso, você acha que a média que obtivemos descreve bem a nota  \"típica\"?\n",
        "\n",
        "Vamos ver a planilha ordenada por nota:"
      ]
    },
    {
      "cell_type": "code",
      "metadata": {
        "id": "ge7zH7HyBpTS"
      },
      "source": [
        "df.sort_values(by=\"Nota\")"
      ],
      "execution_count": null,
      "outputs": []
    },
    {
      "cell_type": "markdown",
      "metadata": {
        "id": "z6xgF9KsBpTU"
      },
      "source": [
        "Como você pode ver, temos 7 alunos com nota baixa e 3 alunos com nota muito alta.\n",
        "\n",
        "Então, a média neste caso não descreve bem o que está acontecendo!\n",
        "\n",
        "Uma outra medida de tendência central é a **mediana**:\n",
        "\n",
        "Ela é calculada da seguinte maneira: após ordenarmos os dados\n",
        "\n",
        "- Se a quantidade de dados for ímpar, a mediana é o valor exatamente na posição do meio.\n",
        "\n",
        "- Se a quantidade de dados for par, a mediana é a média dos dois valores mais centrais.\n",
        "\n",
        "\n",
        "Exemplo:\n",
        "- para (3,4,6) , a mediana é 4\n",
        "- para (1,2,3,4), a mediana é (2+3)/2 = 2.5\n",
        "\n",
        "Temos\n",
        "- $50\\%$ dos dados $\\leq$ a mediana\n",
        "- $50\\%$ dos dados $\\geq$ a mediana.\n",
        "\n",
        "Vamos calcular a mediana:"
      ]
    },
    {
      "cell_type": "code",
      "metadata": {
        "id": "w6NlBToJBpTU"
      },
      "source": [
        "df[\"Nota\"].median()"
      ],
      "execution_count": null,
      "outputs": []
    },
    {
      "cell_type": "markdown",
      "metadata": {
        "id": "Z8L1unh5BpTY"
      },
      "source": [
        "A mediana neste caso é muito mais baixa que a média!\n",
        "\n",
        "Então note que a partir da média e da mediana juntas. Podemos deduzir que:\n",
        "\n",
        "* A maioria dos alunos foi mal\n",
        "* Uma minoria dos alunos foi muito bem (a ponto de puxar a média para cima)"
      ]
    },
    {
      "cell_type": "markdown",
      "metadata": {
        "id": "xay0ToLNBpTY"
      },
      "source": [
        "### Exercício\n",
        "\n",
        "Considere a planilha em:\n",
        "\n",
        "https://drive.google.com/u/1/uc?id=182_Z-bL7n9itkupECYhIOEGuIjfQbF0Z&export=download\n",
        "\n",
        "Calcule a média e a mediana da temperatura.\n",
        "\n",
        "Interprete o seu resultado."
      ]
    },
    {
      "cell_type": "code",
      "metadata": {
        "id": "dq82h2yfUMMq"
      },
      "source": [
        "# Sua resposta\n"
      ],
      "execution_count": null,
      "outputs": []
    },
    {
      "cell_type": "markdown",
      "metadata": {
        "id": "yu4cbqckBpTZ"
      },
      "source": [
        "## Percentis (quartis)\n",
        "\n",
        "Uma forma mais detalhada para olhar a distribuição de dados são os **percentis**.\n",
        "\n",
        "Existe mais de uma definição para percentis! Vamos apresentar uma das possibilidades.\n",
        "\n",
        "Considere um conjunto de valores valores $v_1,v_2,\\dotsc,v_{n}$ ordenados do menor para maior e um valor $P$ em $(0,100)$,\n",
        "o $P$-ésimo **percentil** é o valor na posição $P(n+1)/100$.\n",
        "\n",
        "Quando o valor posição não é um valor inteiro, o percentil é calculado a partir das posições inteiras mais próximas.\n",
        "\n",
        "A ideia é calcular uma posição que separe os $P\n",
        "\\%$ menores valores dos maiores\n",
        "\n",
        "Por exemplo, a ideia é que o $25$ᵒ percentil divida os 25% menores valores dos 75% valores maiores.\n",
        "\n",
        "Os 25ᵒ, 50ᵒ e 75ᵒ percentis são chamados de quartis.\n",
        "\n",
        "- O 25ᵒ percentil é chamado de primeiro quartil.\n",
        "- O 50ᵒ percentil é chamado de segundo quartil.\n",
        "- O 75ᵒ percentil é chamado de terceiro quartil.\n",
        "\n",
        "Para calcular os percentis, utilizamos e a função percentile. Veja como ela funciona:\n",
        "\n",
        "25ᵒ Percentil das notas:"
      ]
    },
    {
      "cell_type": "code",
      "metadata": {
        "id": "NT0U_-a0BpTZ"
      },
      "source": [
        "import numpy as np    # precisamos de biblioteca numpy para calcular Percentil\n",
        "df = pd.read_csv(\"https://drive.google.com/u/1/uc?id=16Xv85THn5BF1bBDDXLTT8nGxCP321QPv&export=download\")\n",
        "np.percentile(df[\"Nota\"], q=25)"
      ],
      "execution_count": null,
      "outputs": []
    },
    {
      "cell_type": "markdown",
      "metadata": {
        "id": "bSlz3x9FBpTb"
      },
      "source": [
        "50ᵒ Percentil das notas:"
      ]
    },
    {
      "cell_type": "code",
      "metadata": {
        "id": "A8xfN_6IBpTc"
      },
      "source": [
        "np.percentile(df[\"Nota\"],q=50)"
      ],
      "execution_count": null,
      "outputs": []
    },
    {
      "cell_type": "markdown",
      "metadata": {
        "id": "OZAWdUNnBpTe"
      },
      "source": [
        "75ᵒ Percentil das notas:"
      ]
    },
    {
      "cell_type": "code",
      "metadata": {
        "id": "LIMm5qC-BpTe"
      },
      "source": [
        "np.percentile(df[\"Nota\"],q=75)"
      ],
      "execution_count": null,
      "outputs": []
    },
    {
      "cell_type": "markdown",
      "metadata": {
        "id": "H6t9N06UBpTi"
      },
      "source": [
        "### Exercício\n",
        "\n",
        "Considere a planilha em:\n",
        "\n",
        "https://drive.google.com/u/1/uc?id=182_Z-bL7n9itkupECYhIOEGuIjfQbF0Z&export=download\n",
        "\n",
        "Calcule os percentis: 25ᵒ, 50ᵒ, 75ᵒ."
      ]
    },
    {
      "cell_type": "code",
      "metadata": {
        "id": "RgT7ei3YUHmn"
      },
      "source": [
        "# Sua resposta\n"
      ],
      "execution_count": null,
      "outputs": []
    },
    {
      "cell_type": "markdown",
      "metadata": {
        "id": "5Z6GS8KJBpTj"
      },
      "source": [
        "## Moda"
      ]
    },
    {
      "cell_type": "markdown",
      "metadata": {
        "id": "ZZvlI2YDBpTk"
      },
      "source": [
        "As modas de um conjunto de dados são os valores que aparecem com maior frequência.\n",
        "\n",
        "Ou seja, os valores que estão \"na moda\".\n",
        "\n",
        "Para calcular as modas, usamos a função ``mode()``:"
      ]
    },
    {
      "cell_type": "code",
      "metadata": {
        "id": "UD2z0iL_BpTk"
      },
      "source": [
        "df = pd.read_csv(\"https://drive.google.com/u/1/uc?id=16Xv85THn5BF1bBDDXLTT8nGxCP321QPv&export=download\")\n",
        "df[\"Nota\"].mode()"
      ],
      "execution_count": null,
      "outputs": []
    },
    {
      "cell_type": "markdown",
      "metadata": {
        "id": "KjxF31wCBpTn"
      },
      "source": [
        "Ou seja, as notas que apareceram com maior frequência foram 30 e 90.\n",
        "\n",
        "OBS: Note que existem conjuntos com uma única moda."
      ]
    },
    {
      "cell_type": "markdown",
      "metadata": {
        "id": "Ic_-6X2wBpTn"
      },
      "source": [
        "### Exercício\n",
        "\n",
        "Considere a planilha em:\n",
        "\n",
        "https://drive.google.com/u/1/uc?id=182_Z-bL7n9itkupECYhIOEGuIjfQbF0Z&export=download\n",
        "\n",
        "Calcule as modas."
      ]
    },
    {
      "cell_type": "code",
      "metadata": {
        "id": "q1l-Xe41BpTn"
      },
      "source": [
        "# Sua resposta\n"
      ],
      "execution_count": null,
      "outputs": []
    },
    {
      "cell_type": "markdown",
      "metadata": {
        "id": "BLQx51DUnvaP"
      },
      "source": [
        "<hr>"
      ]
    },
    {
      "cell_type": "markdown",
      "metadata": {
        "id": "r7mwwy_gBpTq"
      },
      "source": [
        "# Medidas de dispersão\n",
        "\n",
        "Em contraste com as medidas que vimos até agora, as medidas de dispersão procuram saber o quão \"espalhados\" estão os dados e quais são os valores extremos.\n",
        "\n",
        "> Se você parar para pensar em medidas muito simples para valores extremos, quais seriam elas?\n",
        "\n",
        "Provavelmente você pensaria no mínimo e máximo."
      ]
    },
    {
      "cell_type": "code",
      "metadata": {
        "id": "iYx_OKtcBpTq"
      },
      "source": [
        "df = pd.read_csv(\"https://drive.google.com/u/1/uc?id=16Xv85THn5BF1bBDDXLTT8nGxCP321QPv&export=download\")\n",
        "df[\"Nota\"].min()"
      ],
      "execution_count": null,
      "outputs": []
    },
    {
      "cell_type": "code",
      "metadata": {
        "id": "tk1TlGTIWNV5"
      },
      "source": [
        "df[\"Nota\"].max()"
      ],
      "execution_count": null,
      "outputs": []
    },
    {
      "cell_type": "markdown",
      "metadata": {
        "id": "JuY8PoexWQyN"
      },
      "source": [
        "A diferença entre o maior valor e o menor valor é chamada de **amplitude**:"
      ]
    },
    {
      "cell_type": "code",
      "metadata": {
        "id": "1m8GRxltWXwP"
      },
      "source": [
        "df[\"Nota\"].max()-df[\"Nota\"].min()"
      ],
      "execution_count": null,
      "outputs": []
    },
    {
      "cell_type": "markdown",
      "metadata": {
        "id": "i08aI0WdWiPu"
      },
      "source": [
        "Uma medida de dispersão que usamos com frequência é a **variância**.\n",
        "\n",
        "A variância busca medir a distância dos pontos em relação à média.\n",
        "\n",
        "Para uma ideia intuitiva: quanto maior é a variância, mais espalhados estão nossos dados.\n",
        "\n",
        "Por exemplo, se todos os valores são iguais, a variância é 0.\n"
      ]
    },
    {
      "cell_type": "code",
      "metadata": {
        "id": "pxVbKL0GBpTt"
      },
      "source": [
        "df[\"Nota\"].var()"
      ],
      "execution_count": null,
      "outputs": []
    },
    {
      "cell_type": "markdown",
      "metadata": {
        "id": "-Nmb8cz6XMX8"
      },
      "source": [
        "A definição de variância calcula as distâncias **ao quadrado** utilizando em relação à média.\n",
        "\n",
        "Por isso, também olhamos com frequência o valor do **desvio padrão** que é simplesmente a raiz quadrada da variância."
      ]
    },
    {
      "cell_type": "code",
      "metadata": {
        "id": "xHG3JgszYu_T"
      },
      "source": [
        "df[\"Nota\"].std()"
      ],
      "execution_count": null,
      "outputs": []
    },
    {
      "cell_type": "markdown",
      "metadata": {
        "id": "CImBnBBxEFgx"
      },
      "source": [
        "O que você pode deduzir sobre as notas a partir do valor desvio padrão obtido; as notas são homogêneas?"
      ]
    },
    {
      "cell_type": "markdown",
      "metadata": {
        "id": "m6XuFjTiXgcW"
      },
      "source": [
        "### Exercício\n",
        "Considere a planilha em:\n",
        "\n",
        "https://drive.google.com/u/1/uc?id=182_Z-bL7n9itkupECYhIOEGuIjfQbF0Z&export=download\n",
        "\n",
        "Calcule para a temperatura as seguintes medidas:\n",
        "- mínimo\n",
        "- máximo\n",
        "- amplitude\n",
        "- variância\n",
        "- desvio padrão"
      ]
    },
    {
      "cell_type": "code",
      "metadata": {
        "id": "vzyp4cB3XueH"
      },
      "source": [
        "# Sua resposta\n"
      ],
      "execution_count": null,
      "outputs": []
    },
    {
      "cell_type": "markdown",
      "metadata": {
        "id": "Znt24NpjXuDc"
      },
      "source": [
        "Como as medidas que apresentamos são usadas muito frequentemente, existe uma função que as agrega:"
      ]
    },
    {
      "cell_type": "code",
      "metadata": {
        "id": "kawlcdLBBpTv"
      },
      "source": [
        "df = pd.read_csv(\"https://drive.google.com/u/1/uc?id=16Xv85THn5BF1bBDDXLTT8nGxCP321QPv&export=download\")\n",
        "df[\"Nota\"].describe()"
      ],
      "execution_count": null,
      "outputs": []
    },
    {
      "cell_type": "markdown",
      "metadata": {
        "id": "s6XyYZT4nyE7"
      },
      "source": [
        "<hr>"
      ]
    },
    {
      "cell_type": "markdown",
      "metadata": {
        "id": "Cveu6jEoBpTx"
      },
      "source": [
        "# Operações nas planilhas\n",
        "\n",
        "É muito comum que tenhamos que adicionar colunas a uma planilha para fazer os cálculos que desejamos.\n",
        "\n",
        "Suponha que queiramos criar uma nova coluna com nome \"Calcula\" e que, para cada aluno, o seu valor seja\n",
        "\n",
        "$$(-1)^{\\text{identificação do aluno}}\\cdot (\\text{nota do aluno})$$\n",
        "\n",
        "Note que a nova coluna é automaticamente adicionada:"
      ]
    },
    {
      "cell_type": "code",
      "metadata": {
        "id": "cKhl2HpJBpTz"
      },
      "source": [
        "df = pd.read_csv(\"https://drive.google.com/u/1/uc?id=16Xv85THn5BF1bBDDXLTT8nGxCP321QPv&export=download\")\n",
        "df[\"Calcula\"] = (-1)**df[\"Aluno\"]*df[\"Nota\"]\n",
        "df"
      ],
      "execution_count": null,
      "outputs": []
    },
    {
      "cell_type": "markdown",
      "metadata": {
        "id": "3ZnC8JA1ZcLP"
      },
      "source": [
        "### Exercício\n",
        "\n",
        "Considere a planilha em:\n",
        "\n",
        "https://drive.google.com/u/1/uc?id=182_Z-bL7n9itkupECYhIOEGuIjfQbF0Z&export=download\n",
        "\n",
        "Crie uma nova coluna com o nome \"razão\" para qual o valor para cada período é a temperatura dividida pelo período.\n",
        "\n",
        "Calcule sua média."
      ]
    },
    {
      "cell_type": "code",
      "metadata": {
        "id": "I9GNwQeNaDEH"
      },
      "source": [
        "# Sua resposta\n"
      ],
      "execution_count": null,
      "outputs": []
    },
    {
      "cell_type": "markdown",
      "metadata": {
        "id": "I3R1GC9Xnz9m"
      },
      "source": [
        "<hr>"
      ]
    },
    {
      "cell_type": "markdown",
      "metadata": {
        "id": "p5TRv5DFBpT1"
      },
      "source": [
        "# Gráficos"
      ]
    },
    {
      "cell_type": "markdown",
      "metadata": {
        "id": "0cPwo9CLac5i"
      },
      "source": [
        "Criar gráficos para representar os nossos dados, pode ser muito útil para rapidamente obter informações.\n",
        "\n",
        "Um gráfico muito simples é o **histograma** que divide os dados em categorias e apresenta quantos valores estão em cada categoria:"
      ]
    },
    {
      "cell_type": "code",
      "metadata": {
        "id": "8bvS5Quta5w6"
      },
      "source": [
        "df = pd.read_csv(\"https://drive.google.com/u/1/uc?id=16Xv85THn5BF1bBDDXLTT8nGxCP321QPv&export=download\")\n",
        "df.hist(column=\"Nota\")"
      ],
      "execution_count": null,
      "outputs": []
    },
    {
      "cell_type": "markdown",
      "metadata": {
        "id": "nAKimMVebT3G"
      },
      "source": [
        "\n",
        "Note como a partir dos histogramas, conseguimos rapidamente visualizar a performance dos alunos.\n",
        "\n",
        "Por padrão são criadas 10 categorias.\n",
        "\n",
        "No nosso caso, as categorias dividem os valores de 20 (menor nota) a 100 (maior nota) e cada categoria é formada por 8 notas.\n",
        "\n",
        "Por exemplo, a primeira categoria são as notas de 20 a 28. A segunda até 36 (e assim por diante).\n",
        "\n",
        "Podemos especificar o número de categorias. Veja um exemplo com apenas 2 categorias:"
      ]
    },
    {
      "cell_type": "code",
      "metadata": {
        "id": "Lzbh1v7xc09Z"
      },
      "source": [
        "df.hist(column=\"Nota\", bins=2)"
      ],
      "execution_count": null,
      "outputs": []
    },
    {
      "cell_type": "markdown",
      "metadata": {
        "id": "ayoLpevTfE1r"
      },
      "source": [
        "Outro tipo de gráfico muito usado em Estatística é o box plot."
      ]
    },
    {
      "cell_type": "code",
      "metadata": {
        "id": "lK5B9s-mBpT1"
      },
      "source": [
        "df.boxplot(column=\"Nota\")"
      ],
      "execution_count": null,
      "outputs": []
    },
    {
      "cell_type": "markdown",
      "metadata": {
        "id": "FEna3hnGfWrt"
      },
      "source": [
        "O box plot apresenta várias informações úteis:\n",
        "- A linha verde dentro da caixa é a mediana\n",
        "- A linha inferior da caixa é o primeiro quartil (Q1), ou seja, o 25 percentil.\n",
        "- A linha superior da caixa é o terceiro quartil (Q3), ou seja, o 75 percentil.\n",
        "- o traço inferior em preto é o menor valor nos dados que fica acima de $Q1-1.5 IQR$, onde $IQR = Q3-Q1$.\n",
        "- o traço superior em preto é o maior valor nos dados fica abaixo de\n",
        "$Q3+1.5 IQR$\n",
        "\n",
        "O valor IQR é chamado de **amplitude interquartil**.\n",
        "\n",
        "Pontos abaixo do traço inferior ou acima do traço superior são chamados de **discrepantes**.\n",
        "\n",
        "No nosso caso, não havia pontos discrepantes. Quando eles existem, são representados por círculos.\n",
        "\n",
        "Veja um exemplo:\n",
        "\n"
      ]
    },
    {
      "cell_type": "code",
      "metadata": {
        "id": "csSir9y1hmoM"
      },
      "source": [
        "df = pd.read_csv(\"https://drive.google.com/u/1/uc?id=10yl6WEW0-PZKWYpkzGswvP3p105n831w&export=download\")\n",
        "df.boxplot(column=\"valores\")"
      ],
      "execution_count": null,
      "outputs": []
    },
    {
      "cell_type": "markdown",
      "metadata": {
        "id": "kgnAvH0qbkE_"
      },
      "source": [
        "### Exercício\n",
        "\n",
        "Considere a planilha em:\n",
        "\n",
        "https://drive.google.com/u/1/uc?id=182_Z-bL7n9itkupECYhIOEGuIjfQbF0Z&export=download\n",
        "\n",
        "Crie para a temperatura:\n",
        "- um histograma com $3$ categorias\n",
        "- o boxplot\n"
      ]
    },
    {
      "cell_type": "code",
      "metadata": {
        "id": "u_rGaG5KbyUb"
      },
      "source": [
        "# Sua resposta\n"
      ],
      "execution_count": null,
      "outputs": []
    },
    {
      "cell_type": "markdown",
      "metadata": {
        "id": "lo5Xu3XCO-tV"
      },
      "source": [
        "# Correlação e Regressão - Introdução\n",
        "\n",
        "\n",
        "Na unidade anterior, vimos como calcular várias funções estatísticas para\n",
        "**um conjunto de dados**.\n",
        "\n",
        "Esta unidade será focada nas **relações entre dados**.\n",
        "\n",
        "Por exemplo, veja este gráfico.\n"
      ]
    },
    {
      "cell_type": "markdown",
      "metadata": {
        "id": "Hy0mnBcLtj9l"
      },
      "source": [
        "![image.png](data:image/png;base64,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)"
      ]
    },
    {
      "cell_type": "markdown",
      "metadata": {
        "id": "_2VO6NuNotZ_"
      },
      "source": [
        "\n",
        " Cada ponto representa um aluno:\n",
        " - na coordenada x, temos o número de horas estudadas pelo aluno;\n",
        " - na coordenada y, temos a nota na prova.\n",
        "\n",
        "**OBSERVAÇÃO IMPORTANTE:**\n",
        "\n",
        "Muitas vezes, na literatura,\n",
        "\n",
        "- a coluna/atributo representada no eixo horizontal x é chamada de **variável independente**,  e\n",
        "\n",
        "- a coluna/atributo representada no eixo vertical y é chamada de **variável dependente**.\n",
        "\n",
        "> O que você consegue perceber a partir desse gráfico?\n",
        "\n",
        "Fica bem claro que quanto mais horas estudadas, mais alta foi a nota em geral (com exceções!)\n",
        "\n",
        "Agora veja este gráfico."
      ]
    },
    {
      "cell_type": "markdown",
      "metadata": {
        "id": "9MjHNTRCuDyw"
      },
      "source": [
        "![image.png](data:image/png;base64,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)"
      ]
    },
    {
      "cell_type": "markdown",
      "metadata": {
        "id": "Zft2-klNuC3M"
      },
      "source": [
        "Novamente, cada ponto representa um aluno:\n",
        "- na coordenada x, temos o número de faltas;\n",
        "- na coordenada y, temos a nota na prova.\n",
        "\n",
        "> E agora o que você percebe?\n",
        "\n",
        "A situação é oposta! Quanto mais faltas, mais baixa tende a ser a nota em geral.\n",
        "\n",
        "E neste gráfico?"
      ]
    },
    {
      "cell_type": "markdown",
      "metadata": {
        "id": "0PaMTBv3uvig"
      },
      "source": [
        "![image.png](data:image/png;base64,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)"
      ]
    },
    {
      "cell_type": "markdown",
      "metadata": {
        "id": "y76DDyrNukat"
      },
      "source": [
        "- na coordenada x, temos o quanto o aluno gosta de chocolate;\n",
        "- na coordenada y, temos a nota na prova.\n",
        "\n",
        "Dá para ver que ~~infelizmente~~ claramente que gostar de chocolate tem pouco efeito na nota.\n",
        "\n",
        "Então, intuitivamente conseguimos entender quando dados são relacionados positivamente e negativamente.\n",
        "\n",
        "> Será possível quantificar a relação entre dois conjuntos de dados?\n",
        "\n"
      ]
    },
    {
      "cell_type": "markdown",
      "metadata": {
        "id": "xZVMA-Q2LBRi"
      },
      "source": [
        "<hr>"
      ]
    },
    {
      "cell_type": "markdown",
      "metadata": {
        "id": "Pz4r3dMiK7au"
      },
      "source": [
        "# Coeficiente de Correlação"
      ]
    },
    {
      "cell_type": "markdown",
      "metadata": {
        "id": "ax5bJHmjKyXN"
      },
      "source": [
        "Uma das funções estatísticas usada para isso é o **coeficiente de correlação** (de Pearson).\n",
        "\n",
        "Vamos ver o valor do coeficiente para os exemplos acima.\n",
        "\n",
        "Vamos começar importando algumas bibliotecas e a nossa planilha."
      ]
    },
    {
      "cell_type": "code",
      "metadata": {
        "id": "A6m7JJGIRPCU"
      },
      "source": [
        "import pandas as pd\n",
        "import numpy as np\n",
        "import matplotlib.pyplot as plt\n",
        "%matplotlib inline"
      ],
      "execution_count": null,
      "outputs": []
    },
    {
      "cell_type": "markdown",
      "metadata": {
        "id": "Y-lf-2J0SY7v"
      },
      "source": [
        "Aqui está a planilha:"
      ]
    },
    {
      "cell_type": "code",
      "metadata": {
        "id": "TZD5G3yJSVpm"
      },
      "source": [
        "df = pd.read_csv(\"https://drive.google.com/u/1/uc?id=1pygGDM-F4quUo2Jl4ri-vJosb3FkRQNx&export=download\")\n",
        "df"
      ],
      "execution_count": null,
      "outputs": []
    },
    {
      "cell_type": "markdown",
      "metadata": {
        "id": "FdQ1tUqMwday"
      },
      "source": [
        "**Para calcular o coeficiente de correlação entre Horas e Nota, usamos a função ``corr``:**"
      ]
    },
    {
      "cell_type": "code",
      "metadata": {
        "id": "wgCl7UYOxMlI"
      },
      "source": [
        "df['Horas'].corr(df['Nota'])"
      ],
      "execution_count": null,
      "outputs": []
    },
    {
      "cell_type": "markdown",
      "metadata": {
        "id": "MYK23sfTxbHP"
      },
      "source": [
        "**Veja que a ordem não faz diferença!**"
      ]
    },
    {
      "cell_type": "code",
      "metadata": {
        "id": "BeM7ozKbxnhK"
      },
      "source": [
        "df['Nota'].corr(df['Horas'])"
      ],
      "execution_count": null,
      "outputs": []
    },
    {
      "cell_type": "markdown",
      "metadata": {
        "id": "Fuy4vOge5z6j"
      },
      "source": [
        "OBSERVAÇÃO:\n",
        "\n",
        "poderia colocar os nomes de atributos entre aspas duplas também:"
      ]
    },
    {
      "cell_type": "code",
      "metadata": {
        "id": "NpkQkqDQ6FCX"
      },
      "source": [
        "df[\"Nota\"].corr(df[\"Horas\"])"
      ],
      "execution_count": null,
      "outputs": []
    },
    {
      "cell_type": "markdown",
      "metadata": {
        "id": "hU39WLGNSjy1"
      },
      "source": [
        "Como você pode ver, o valor é positivo.\n",
        "\n",
        "Quando isso acontece, isso significa que os valores tendem a crescer juntos.\n",
        "\n",
        "Nesse caso, dizemos que os valores são **positivamente correlacionados**.\n",
        "\n",
        "Assim, no nosso exemplo, a quantidade de horas de estudo e a nota na prova são positivamente correlacionados.\n",
        "\n",
        "Para Faltas e Nota, temos a relação oposta:"
      ]
    },
    {
      "cell_type": "code",
      "metadata": {
        "id": "Yupp4qiGWKiU"
      },
      "source": [
        "df['Faltas'].corr(df['Nota'])"
      ],
      "execution_count": null,
      "outputs": []
    },
    {
      "cell_type": "markdown",
      "metadata": {
        "id": "N20ObzpjWscz"
      },
      "source": [
        "Como você pode ver, o coeficiente é negativo.\n",
        "\n",
        "Quando isso acontece, isso significa que quando os valores no eixo x crescem, o valores no eixo y tendem a diminuir (e vice-versa).\n",
        "\n",
        "Nesse caso, dizemos que os valores são **negativamente correlacionados**.\n",
        "\n",
        "Assim, no nosso exemplo, as faltas e a nota na prova são negativamente correlacionadas.\n",
        "\n",
        "E para Chocolate e Nota, em que há pouca relação entre os valores?"
      ]
    },
    {
      "cell_type": "code",
      "metadata": {
        "id": "EE2VckYWXovT"
      },
      "source": [
        "df['Chocolate'].corr(df['Nota'])"
      ],
      "execution_count": null,
      "outputs": []
    },
    {
      "cell_type": "markdown",
      "metadata": {
        "id": "1-B4w1YlXvQS"
      },
      "source": [
        "O valor obtido é próximo de zero!\n",
        "\n",
        "O coeficiente de correlação é sempre um valor entre -1 e 1 e pode ser interpretado da seguinte forma:\n",
        "- **Quanto mais perto de 1, mais fortemente positivamente correlacionados são os dados.**\n",
        "- **Quanto mais perto de -1, mais fortemente negativamente correlacionados são os dados.**\n",
        "- **Quanto mais perto de 0, mais fracamente os dados são relacionados linearmente.**\n",
        "\n",
        "Como um guia inicial, você pode se basear nos seguintes valores (independente do sinal):\n",
        "- 0.00 a 0.19 - Correlação muito fraca.\n",
        "- 0.20 a 0.39 - Correlação fraca.\n",
        "- 0.40 a 0.69 - Correlação moderada.\n",
        "- 0.70 a 0.89 - Correlação forte.\n",
        "- 0.90 a 1.00 - Correlação muito forte.\n",
        "\n",
        "Na prática, quais valores são considerados fracos ou fortes depende da aplicação."
      ]
    },
    {
      "cell_type": "markdown",
      "metadata": {
        "id": "fr3Di2TmaC2j"
      },
      "source": [
        "Um ponto importante é que o coeficiente de correlação é apenas uma **medida** da relação, mas não nos explica a **natureza** dessa relação:\n",
        "\n",
        "- Será que estudar mais horas para a prova foi o que causou a nota boa?\n",
        "\n",
        "- Será que faltar mais foi o que causou a nota baixa?"
      ]
    },
    {
      "cell_type": "markdown",
      "metadata": {
        "id": "yjPRbszcZ1bo"
      },
      "source": [
        "## Exercício\n",
        "Considere a planilha neste link:\n",
        "\n",
        "https://drive.google.com/u/1/uc?id=1ASOWhw5tp-kUbZcIlkg5eCKwZNJt6MwQ&export=download\n",
        "\n",
        "Leia a planilha e calcule o coeficiente de correlação entre\n",
        "- Prova 1 e Prova 2\n",
        "- Prova 1 e Trabalho\n",
        "- Prova 2 e Trabalho\n",
        "\n",
        "> Quais é o par mais fortemente correlacionado?"
      ]
    },
    {
      "cell_type": "code",
      "metadata": {
        "id": "GdEhpL0NZ04D"
      },
      "source": [
        "# Sua resposta\n"
      ],
      "execution_count": null,
      "outputs": []
    },
    {
      "cell_type": "markdown",
      "metadata": {
        "id": "whLmmUuZafse"
      },
      "source": [
        "<hr>"
      ]
    },
    {
      "cell_type": "markdown",
      "metadata": {
        "id": "K5kx0_71bbxi"
      },
      "source": [
        "# Regressão linear\n",
        "\n"
      ]
    },
    {
      "cell_type": "markdown",
      "metadata": {
        "id": "luFXHp_r16U3"
      },
      "source": [
        "Gráficos como o seguinte são chamados de **gráficos de dispersão**:\n",
        "\n",
        "![image.png](data:image/png;base64,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)"
      ]
    },
    {
      "cell_type": "markdown",
      "metadata": {
        "id": "DB9YrlDr43qq"
      },
      "source": [
        "Eles são criados facilmente utilizando o função ``plot`` do ``matplotlib.pyplot``."
      ]
    },
    {
      "cell_type": "markdown",
      "metadata": {
        "id": "2lxWTewUI7Z3"
      },
      "source": [
        "Para acessar a coluna Horas da planilha, fazemos assim:"
      ]
    },
    {
      "cell_type": "code",
      "metadata": {
        "id": "yiEVjCGZI7Z4"
      },
      "source": [
        "df[\"Horas\"]"
      ],
      "execution_count": null,
      "outputs": []
    },
    {
      "cell_type": "markdown",
      "metadata": {
        "id": "TgqygLX1I7Z5"
      },
      "source": [
        "E similarmente para a Nota:"
      ]
    },
    {
      "cell_type": "code",
      "metadata": {
        "id": "XH7agLPgI7Z6"
      },
      "source": [
        "df[\"Nota\"]"
      ],
      "execution_count": null,
      "outputs": []
    },
    {
      "cell_type": "markdown",
      "metadata": {
        "id": "v6G77St2I7Z8"
      },
      "source": [
        "Vamos guardar a coluna de Horas em uma variável ``x`` e a coluna de Nota em uma variável ``y``:"
      ]
    },
    {
      "cell_type": "code",
      "metadata": {
        "id": "43NCo1thI7Z8"
      },
      "source": [
        "x = df[\"Horas\"]\n",
        "y = df[\"Nota\"]"
      ],
      "execution_count": null,
      "outputs": []
    },
    {
      "cell_type": "markdown",
      "metadata": {
        "id": "us196ngII7Z-"
      },
      "source": [
        "Agora podemos fazer o gráfico como temos feito até agora:"
      ]
    },
    {
      "cell_type": "code",
      "metadata": {
        "id": "yeGs8imhI7Z-"
      },
      "source": [
        "plt.plot(x,y,'.')"
      ],
      "execution_count": null,
      "outputs": []
    },
    {
      "cell_type": "markdown",
      "metadata": {
        "id": "3vsH87znI7aA"
      },
      "source": [
        "Ou até mesmo fazer direto sem as variáveis ``x`` e ``y``:"
      ]
    },
    {
      "cell_type": "code",
      "metadata": {
        "id": "3uy_RZnQI7aA"
      },
      "source": [
        "plt.plot(df[\"Horas\"],df[\"Nota\"],'.')"
      ],
      "execution_count": null,
      "outputs": []
    },
    {
      "cell_type": "markdown",
      "metadata": {
        "id": "JKzj51Rb6f8k"
      },
      "source": [
        "OBSERVAÇÃO:\n",
        "\n",
        "poderia colocar os nomes de atributos entre aspas simples também:\n"
      ]
    },
    {
      "cell_type": "code",
      "metadata": {
        "id": "KK_o3a4M6slM"
      },
      "source": [
        "plt.plot(df['Horas'],df['Nota'],'.')\n"
      ],
      "execution_count": null,
      "outputs": []
    },
    {
      "cell_type": "markdown",
      "metadata": {
        "id": "PQXhx9CTb5eu"
      },
      "source": [
        "Cada ponto corresponde a uma entrada de dados.\n",
        "\n",
        "No nosso exemplo, cada ponto corresponde a um aluno e\n",
        " - na coordenada x, temos o número de horas estudadas pelo aluno;\n",
        " - na coordenada y, temos a nota na prova.\n",
        "\n",
        "Como vimos o número de horas e a nota tem coeficiente de correlação próximo a $+1$, o que indica que são fortemente positivamente correlacionados.\n",
        "\n",
        "Suponha que você queira fazer uma predição a partir desse conjunto de dados.\n",
        "\n",
        "> Se você estudar 15 horas, qual seria uma boa predição para a sua nota?\n",
        "\n",
        "Uma possível abordagem é criar uma **reta de regressão linear**.\n",
        "\n",
        "Essa é a reta que melhor se ***encaixa*** nos dados\n",
        "\n",
        "(matematicamente, ela minimiza a soma das distância ao quadrado dos pontos para a reta).\n",
        "\n",
        "Para relembrar: uma reta tem a fórmula\n",
        "$$y = ax+b,$$\n",
        "onde $a$ é a inclinação e $b$ é o intercepto (o valor de y para $x=0$)\n",
        "\n",
        "**A biblioteca ``numpy`` calcula para nós os valores de $a$ e $b$ para a reta de regressão linear:**"
      ]
    },
    {
      "cell_type": "code",
      "metadata": {
        "id": "P4fkv6FOb5FV"
      },
      "source": [
        "(a, b) = np.polyfit(x=df[\"Horas\"], y=df[\"Nota\"], deg = 1)\n",
        "print(a,b)"
      ],
      "execution_count": null,
      "outputs": []
    },
    {
      "cell_type": "markdown",
      "metadata": {
        "id": "asVlBwor56P2"
      },
      "source": [
        "O ``deg = 1`` serve para indicar que é uma reta (uma reta é um polinômio de grau $1$, portanto, estamos especificando que queremos grau $1$).\n",
        "\n",
        "Agora que temos os valores de $a$ e $b$ é fácil de fazer uma predição para a nota com $15$ horas de estudos.\n",
        "\n",
        "Utilizando a fórmula:\n",
        "$$y=ax+b$$\n",
        "e lembrando que a Nota se refere ao eixo y e as Horas ao eixo x, basta substituir o valor de x por 15:"
      ]
    },
    {
      "cell_type": "code",
      "metadata": {
        "id": "_QW3NKnH61w_"
      },
      "source": [
        "a*15+b"
      ],
      "execution_count": null,
      "outputs": []
    },
    {
      "cell_type": "markdown",
      "metadata": {
        "id": "Yh_yG-3K69i3"
      },
      "source": [
        "Ou seja, a predição para a Nota para 15 horas de estudo é de 41.62."
      ]
    },
    {
      "cell_type": "markdown",
      "metadata": {
        "id": "aSaQ-ET37FY-"
      },
      "source": [
        "## Exercício\n",
        "\n",
        "Considere a planilha neste link:\n",
        "\n",
        "https://drive.google.com/u/1/uc?id=1ASOWhw5tp-kUbZcIlkg5eCKwZNJt6MwQ&export=download\n",
        "\n",
        "- Quais são os valores de $a$ e $b$ para a reta $ax+b$ de regressão linear com a Prova 1 no eixo x e a Prova 2 no eixo y?\n",
        "\n",
        "- Qual seria a predição baseada nessa reta para a nota na Prova 2 se a nota na Prova 1 for 65?\n"
      ]
    },
    {
      "cell_type": "code",
      "metadata": {
        "id": "Qum07eNr7FJD"
      },
      "source": [
        "# Sua resposta\n"
      ],
      "execution_count": null,
      "outputs": []
    },
    {
      "cell_type": "markdown",
      "metadata": {
        "id": "M5_8U2-vakEb"
      },
      "source": [
        "<hr>"
      ]
    },
    {
      "cell_type": "markdown",
      "metadata": {
        "id": "HzqmUCAf7KHS"
      },
      "source": [
        "# Gráfico\n",
        "\n",
        "Visualmente, é muito útil ter um gráfico da reta de regressão linear junto com o gráfico de dispersão.\n",
        "\n",
        "Como fazer um gráfico da reta?\n",
        "\n",
        "Basta calcular os valores para os extremos do segmento da reta no gráfico.\n",
        "\n",
        "Escolhemos 0 e 50 para os pontos no eixo x e calculamos os valores de y usando a fórmula da reta.\n",
        "\n",
        "Em seguida basta fazer o gráfico."
      ]
    },
    {
      "cell_type": "code",
      "metadata": {
        "id": "WjsiToNP3zqH"
      },
      "source": [
        "x0 = 0\n",
        "x1 = 50\n",
        "y0 = a*x0 + b\n",
        "y1 = a*x1 + b\n",
        "plt.plot([x0,x1],[y0,y1],'r')"
      ],
      "execution_count": null,
      "outputs": []
    },
    {
      "cell_type": "markdown",
      "metadata": {
        "id": "4pt9CWyw8Vvc"
      },
      "source": [
        "Ou:"
      ]
    },
    {
      "cell_type": "code",
      "metadata": {
        "id": "_Zp8dOdr35ev"
      },
      "source": [
        "x = np.arange(0,51)\n",
        "y = a*x+b\n",
        "plt.plot(x,y,'r')"
      ],
      "execution_count": null,
      "outputs": []
    },
    {
      "cell_type": "markdown",
      "metadata": {
        "id": "yZO0P9zj2zl4"
      },
      "source": [
        "> Para pensar: qual a diferença dessas duas maneiras?\n"
      ]
    },
    {
      "cell_type": "markdown",
      "metadata": {
        "id": "skjuuKFH8mJc"
      },
      "source": [
        "Por fim, juntamos o gráfico de dispersão com o gráfico da reta.\n",
        "\n",
        "Veja como a reta se encaixa bem nos nossos dados."
      ]
    },
    {
      "cell_type": "code",
      "metadata": {
        "id": "uxiS7NYr8r0v"
      },
      "source": [
        "# relendo a planilha\n",
        "df = pd.read_csv(\"https://drive.google.com/u/1/uc?id=1pygGDM-F4quUo2Jl4ri-vJosb3FkRQNx&export=download\")\n",
        "\n",
        "# grafico de dispersao\n",
        "plt.plot(df[\"Horas\"],df[\"Nota\"],'.')\n",
        "\n",
        "# reta\n",
        "x = np.arange(0,51)\n",
        "y = a*x+b\n",
        "plt.plot(x,y,'r')"
      ],
      "execution_count": null,
      "outputs": []
    },
    {
      "cell_type": "markdown",
      "metadata": {
        "id": "OEkCx8giktjd"
      },
      "source": [
        "## Exercício\n",
        "Considere a planilha no link\n",
        "\n",
        "https://drive.google.com/u/1/uc?id=1ASOWhw5tp-kUbZcIlkg5eCKwZNJt6MwQ&export=download\n",
        "\n",
        "Faça o gráfico de dispersão com reta de regressão linear com:\n",
        "\n",
        "- Trabalho no eixo x\n",
        "- Prova 2 no eixo y\n"
      ]
    },
    {
      "cell_type": "code",
      "metadata": {
        "id": "cqrkUMnt5sw-"
      },
      "source": [
        "# Sua resposta\n"
      ],
      "execution_count": null,
      "outputs": []
    },
    {
      "cell_type": "markdown",
      "metadata": {
        "id": "1wHuzdMcanv9"
      },
      "source": [
        "<hr>"
      ]
    },
    {
      "cell_type": "markdown",
      "metadata": {
        "id": "HR3PbKmWiuqC"
      },
      "source": [
        "# Coeficiente de determinação\n",
        "\n",
        "O **coeficiente de determinação** $R^2$ é um valor utilizado para indicar o quão bem a reta de regressão linear se encaixa aos dados disponibilizados.\n",
        "\n",
        "Para regressão linear, $R^2$ é simplesmente o **quadrado do coeficiente de correlação**.\n",
        "\n",
        "Uma de suas interpretações para o significado de $R^2$ é a porcentagem de variabilidade da variável no eixo y que é explicada pela variável no eixo x.\n",
        "\n",
        "Para o nosso exemplo de Horas e Notas:"
      ]
    },
    {
      "cell_type": "code",
      "metadata": {
        "id": "TnJ7vDPmj8L9"
      },
      "source": [
        "# relendo a planilha\n",
        "df = pd.read_csv(\"https://drive.google.com/u/1/uc?id=1pygGDM-F4quUo2Jl4ri-vJosb3FkRQNx&export=download\")\n",
        "\n",
        "ccor = df['Horas'].corr(df['Nota'])\n",
        "cdet = ccor**2\n",
        "cdet"
      ],
      "execution_count": null,
      "outputs": []
    },
    {
      "cell_type": "markdown",
      "metadata": {
        "id": "BC66LPYxBKSL"
      },
      "source": [
        "Esse valor alto era de se esperar, pois a reta se encaixou muito bem aos dados."
      ]
    },
    {
      "cell_type": "markdown",
      "metadata": {
        "id": "gQD2Q4TO8471"
      },
      "source": [
        "## Exercício\n",
        "\n",
        "Considere a planilha no link\n",
        "\n",
        "https://drive.google.com/u/1/uc?id=1ASOWhw5tp-kUbZcIlkg5eCKwZNJt6MwQ&export=download\n",
        "\n",
        "Calcule o coeficiente de determinação entre Trabalho e Prova 1."
      ]
    },
    {
      "cell_type": "code",
      "metadata": {
        "id": "B1bKSu_w6Ocm"
      },
      "source": [
        "# Sua resposta\n"
      ],
      "execution_count": null,
      "outputs": []
    },
    {
      "cell_type": "markdown",
      "metadata": {
        "id": "aGmd9fjUaqYM"
      },
      "source": [
        "<hr>"
      ]
    }
  ]
}