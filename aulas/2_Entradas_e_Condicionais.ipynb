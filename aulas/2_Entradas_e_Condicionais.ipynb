{
  "nbformat": 4,
  "nbformat_minor": 0,
  "metadata": {
    "colab": {
      "provenance": []
    },
    "kernelspec": {
      "name": "python3",
      "display_name": "Python 3"
    }
  },
  "cells": [
    {
      "cell_type": "markdown",
      "metadata": {
        "id": "oey2MP7B62VT"
      },
      "source": [
        "# 1. Utilizando biblioteca: a biblioteca ``math``\n",
        "\n",
        "Vamos ver agora como importar bibliotecas no notebook.\n",
        "\n",
        "O que é uma biblioteca? Uma biblioteca contém códigos prontos para serem usados.\n",
        "\n",
        "Uma biblioteca muito útil é a ``math``, que contém várias funções e constantes matemáticas.\n",
        "\n",
        "Veja como importar a biblioteca ``math``:"
      ]
    },
    {
      "cell_type": "code",
      "metadata": {
        "id": "EdOXlIB94CXk"
      },
      "source": [
        "import math"
      ],
      "execution_count": 1,
      "outputs": []
    },
    {
      "cell_type": "markdown",
      "metadata": {
        "id": "pxHUFGOw-o9u"
      },
      "source": [
        "A ``math ``contém algumas constantes como $\\pi$ e a de Euler $e$ (aproximações para essas constantes, é claro).\n",
        "\n",
        "Veja como acessá-las:"
      ]
    },
    {
      "cell_type": "code",
      "metadata": {
        "id": "xmuFPZjG4ble",
        "colab": {
          "base_uri": "https://localhost:8080/"
        },
        "outputId": "68bda81e-9e46-4850-a02d-7982da1e408d"
      },
      "source": [
        "math.pi"
      ],
      "execution_count": 2,
      "outputs": [
        {
          "output_type": "execute_result",
          "data": {
            "text/plain": [
              "3.141592653589793"
            ]
          },
          "metadata": {},
          "execution_count": 2
        }
      ]
    },
    {
      "cell_type": "code",
      "metadata": {
        "id": "0ZcSayeq4ir_",
        "colab": {
          "base_uri": "https://localhost:8080/"
        },
        "outputId": "38de83da-34f3-410d-ecdb-44e4e56f6e60"
      },
      "source": [
        "math.e"
      ],
      "execution_count": 3,
      "outputs": [
        {
          "output_type": "execute_result",
          "data": {
            "text/plain": [
              "2.718281828459045"
            ]
          },
          "metadata": {},
          "execution_count": 3
        }
      ]
    },
    {
      "cell_type": "markdown",
      "metadata": {
        "id": "smeRQYkw_Do8"
      },
      "source": [
        "Para usar as funções matemáticas da ``math``, colocamos os **parâmetros** da função entre ``(`` e ``)``.\n",
        "\n",
        "Veja como calcular $3!$:"
      ]
    },
    {
      "cell_type": "code",
      "metadata": {
        "id": "hyqZahzT4EWa",
        "colab": {
          "base_uri": "https://localhost:8080/"
        },
        "outputId": "16cfacfb-ebfa-4322-c28c-b7391b5147f1"
      },
      "source": [
        "math.factorial(3)"
      ],
      "execution_count": 4,
      "outputs": [
        {
          "output_type": "execute_result",
          "data": {
            "text/plain": [
              "6"
            ]
          },
          "metadata": {},
          "execution_count": 4
        }
      ]
    },
    {
      "cell_type": "markdown",
      "metadata": {
        "id": "z8QDQeIYBLTJ"
      },
      "source": [
        "### Exercício:\n",
        "Use a função acima para calcular $10!$"
      ]
    },
    {
      "cell_type": "code",
      "metadata": {
        "id": "EfDO5kGEBLk2",
        "colab": {
          "base_uri": "https://localhost:8080/"
        },
        "outputId": "fbe89f71-d349-4977-b163-b0d6ccf0f865"
      },
      "source": [
        "# Sua resposta\n",
        "math.factorial(10)"
      ],
      "execution_count": 5,
      "outputs": [
        {
          "output_type": "execute_result",
          "data": {
            "text/plain": [
              "3628800"
            ]
          },
          "metadata": {},
          "execution_count": 5
        }
      ]
    },
    {
      "cell_type": "markdown",
      "metadata": {
        "id": "zsk803Uk_asl"
      },
      "source": [
        "Veja um exemplo com a fórmula de Bhaskara (com apenas uma das raízes).\n",
        "\n",
        "A função ``math.sqrt(x)`` calcula o valor da raiz quadrada de ``x``.\n",
        "\n",
        "OBS: O que a função recebe como parâmetro pode ser uma expressão"
      ]
    },
    {
      "cell_type": "markdown",
      "metadata": {
        "id": "cMTeDcpNBUMa"
      },
      "source": [
        "### Exercício:\n",
        "\n",
        "Calcule a segunda raiz usando a fórmula de Bhaskara.\n",
        "\n",
        "Para refrescar sua memória:\n",
        "\n",
        "As raízes de  $ax^2 + bx + c = 0$ são:\n",
        "\n",
        "$\\frac{-b + \\sqrt{\\Delta}}{2a}$ e $\\frac{-b - \\sqrt{\\Delta}}{2a}$\n",
        "\n",
        "onde $\\Delta = b^2 - 4ac$ (e elas só existem se $\\Delta\\geq 0$)."
      ]
    },
    {
      "cell_type": "code",
      "metadata": {
        "id": "_dDBvHqHBUTy",
        "colab": {
          "base_uri": "https://localhost:8080/"
        },
        "outputId": "f8650aa9-7cb8-4365-87d8-e69cbfd3a151"
      },
      "source": [
        "# Sua resposta\n",
        "a = 2\n",
        "b = 5\n",
        "c = 2\n",
        "\n",
        "delta = b*b - 4*a*c\n",
        "raiz_neg = (-b-math.sqrt(delta))/(2*a)\n",
        "raiz_pos = (-b+math.sqrt(delta))/(2*a)\n",
        "if raiz_pos > raiz_neg:\n",
        "  print(raiz_pos)\n",
        "else:\n",
        "  print(raiz_neg)"
      ],
      "execution_count": 10,
      "outputs": [
        {
          "output_type": "stream",
          "name": "stdout",
          "text": [
            "-0.5\n"
          ]
        }
      ]
    },
    {
      "cell_type": "markdown",
      "metadata": {
        "id": "e-PH-emtAf5x"
      },
      "source": [
        "Algumas funções precisam de mais de um parâmetro.\n",
        "\n",
        "Por exemplo, a função ``math.gcd(x,y)`` calcula o valor do máximo divisor comum (mdc) entre ``x`` e ``y``."
      ]
    },
    {
      "cell_type": "code",
      "metadata": {
        "id": "xJq8Mhew4sG8"
      },
      "source": [
        "math.gcd(35,28)"
      ],
      "execution_count": null,
      "outputs": []
    },
    {
      "cell_type": "markdown",
      "metadata": {
        "id": "V49v9bChFick"
      },
      "source": [
        "O uso de bibliotecas ilustra dois conceitos importantes em Computação:\n",
        "* **modularização**: ao invés de escrevermos todo o código de uma vez em um só lugar, o código é dividido em partes;\n",
        "* **reutilização**: não precisamos escrever o código do zero toda vez que programamos."
      ]
    },
    {
      "cell_type": "markdown",
      "metadata": {
        "id": "otC-hj-yCI0l"
      },
      "source": [
        "### Exercício:\n",
        "\n",
        "Calcule o mínimo múltiplo comum (mmc) entre $35$ e $28$.\n",
        "\n",
        "Dica: use a fórmula\n",
        "$$\\text{mmc}(x,y) = \\frac{xy}{\\text{mdc}(x,y)}$$"
      ]
    },
    {
      "cell_type": "code",
      "metadata": {
        "id": "pi9_sD6mCJFR",
        "colab": {
          "base_uri": "https://localhost:8080/"
        },
        "outputId": "4fd37dd4-c5be-4e36-8bc5-6b2fab948f91"
      },
      "source": [
        "# Sua resposta\n",
        "x = 35\n",
        "y = 28\n",
        "print((x*y)/math.gcd(x,y))"
      ],
      "execution_count": 13,
      "outputs": [
        {
          "output_type": "stream",
          "name": "stdout",
          "text": [
            "140.0\n"
          ]
        }
      ]
    },
    {
      "cell_type": "markdown",
      "metadata": {
        "id": "MlCyFirl5Vgw"
      },
      "source": [
        "**Aqui está uma lista das funções e constantes na** [``math``](https://docs.python.org/3.6/library/math.html)\n",
        "\n",
        "<hr>"
      ]
    },
    {
      "cell_type": "markdown",
      "metadata": {
        "id": "9Jl4T-_wm8Ja"
      },
      "source": [
        "# 2. Exibindo mensagens\n",
        "A função ``print`` é utilizada para mostrar mensagens/valores na tela.\n",
        "\n",
        "A mensagem é colocada entre parênteses ``(`` e ``)``.\n",
        "\n",
        "Veja o resultado da execução das células abaixo."
      ]
    },
    {
      "cell_type": "code",
      "metadata": {
        "id": "kJCpwypunIQ4",
        "colab": {
          "base_uri": "https://localhost:8080/"
        },
        "outputId": "8333b645-b49b-48fe-c31d-00fdd68039fa"
      },
      "source": [
        "print(120)"
      ],
      "execution_count": 48,
      "outputs": [
        {
          "output_type": "stream",
          "name": "stdout",
          "text": [
            "120\n"
          ]
        }
      ]
    },
    {
      "cell_type": "markdown",
      "metadata": {
        "id": "rrv5NQ5inzxn"
      },
      "source": [
        "Quando a mensagem é um **texto**, ela deve estar escrita **entre aspas** como a seguir."
      ]
    },
    {
      "cell_type": "code",
      "metadata": {
        "id": "X6EzGZFznfpC",
        "colab": {
          "base_uri": "https://localhost:8080/"
        },
        "outputId": "be780015-e0b4-4cf6-c08f-0b411c22c9bd"
      },
      "source": [
        "print(\"Olá! Como vai?\")"
      ],
      "execution_count": 49,
      "outputs": [
        {
          "output_type": "stream",
          "name": "stdout",
          "text": [
            "Olá! Como vai?\n"
          ]
        }
      ]
    },
    {
      "cell_type": "markdown",
      "metadata": {
        "id": "J0YaL7Yan6OE"
      },
      "source": [
        "**Podemos misturar números e textos na mensagem. Basta separá-los por vírgulas**:\n",
        "\n",
        "*Observação:* Note que esta vírgula cria um espaço em branco, ou seja, é adicionado um espaço em branco após o ``?`` abaixo."
      ]
    },
    {
      "cell_type": "code",
      "metadata": {
        "id": "ieJJ2geqnxTg",
        "colab": {
          "base_uri": "https://localhost:8080/"
        },
        "outputId": "b449983e-c444-450a-f929-85f9f83c9c4a"
      },
      "source": [
        "print(\"Olá! Como vai?\", 120)"
      ],
      "execution_count": 50,
      "outputs": [
        {
          "output_type": "stream",
          "name": "stdout",
          "text": [
            "Olá! Como vai? 120\n"
          ]
        }
      ]
    },
    {
      "cell_type": "markdown",
      "metadata": {
        "id": "1jC57uUupp-3"
      },
      "source": [
        "**Podemos colocar várias mensagens e valores separando-los por vírgulas:**\n",
        "\n",
        "*Observação:* Note que no exemplo abaixo é adicionado um espaço em branco entre textos (mensagens) e valores também.\n"
      ]
    },
    {
      "cell_type": "code",
      "metadata": {
        "id": "L6_O5YYKpwL9",
        "colab": {
          "base_uri": "https://localhost:8080/"
        },
        "outputId": "f461177e-dde6-4124-d427-1d9106d2f696"
      },
      "source": [
        "print(\"Olá! Como vai?\",120,\"Vou bem, obrigado!\",201)"
      ],
      "execution_count": 15,
      "outputs": [
        {
          "output_type": "stream",
          "name": "stdout",
          "text": [
            "Olá! Como vai? 120 Vou bem, obrigado! 201\n"
          ]
        }
      ]
    },
    {
      "cell_type": "markdown",
      "metadata": {
        "id": "DuiOY_kip0fb"
      },
      "source": [
        "A função `print ` adiciona uma quebra-de-linha/enter ao fim da mensagem.\n",
        "\n",
        "Veja o que acontece com duas chamadas de `print` seguidas:"
      ]
    },
    {
      "cell_type": "code",
      "metadata": {
        "id": "JJROUJc-pz6x",
        "colab": {
          "base_uri": "https://localhost:8080/"
        },
        "outputId": "443e49db-33be-453b-e887-3a2ecf5c16db"
      },
      "source": [
        "print(\"Olá! Como vai?\",120)\n",
        "print(\"Vou bem, obrigado!\",201)"
      ],
      "execution_count": 14,
      "outputs": [
        {
          "output_type": "stream",
          "name": "stdout",
          "text": [
            "Olá! Como vai? 120\n",
            "Vou bem, obrigado! 201\n"
          ]
        }
      ]
    },
    {
      "cell_type": "markdown",
      "metadata": {
        "id": "umGLuzPjokNh"
      },
      "source": [
        "**Podemos também usar variáveis nas mensagens:**"
      ]
    },
    {
      "cell_type": "code",
      "metadata": {
        "id": "Z1FQHG0NoEMr",
        "colab": {
          "base_uri": "https://localhost:8080/"
        },
        "outputId": "3ed36651-e83b-4142-9f73-e2429dc0b540"
      },
      "source": [
        "C = 120\n",
        "print(\"Olá! Como vai?\", C)"
      ],
      "execution_count": 16,
      "outputs": [
        {
          "output_type": "stream",
          "name": "stdout",
          "text": [
            "Olá! Como vai? 120\n"
          ]
        }
      ]
    },
    {
      "cell_type": "markdown",
      "metadata": {
        "id": "P7CuNZhUovWd"
      },
      "source": [
        "**Podemos até fazer operações:**"
      ]
    },
    {
      "cell_type": "code",
      "metadata": {
        "id": "ieX46TB4osAT",
        "colab": {
          "base_uri": "https://localhost:8080/"
        },
        "outputId": "5d4efcc0-45d3-4008-ef32-7008273c0e86"
      },
      "source": [
        "C = 120\n",
        "print(\"Olá! Como vai?\", (C+C*31)/2)"
      ],
      "execution_count": 17,
      "outputs": [
        {
          "output_type": "stream",
          "name": "stdout",
          "text": [
            "Olá! Como vai? 1920.0\n"
          ]
        }
      ]
    },
    {
      "cell_type": "markdown",
      "metadata": {
        "id": "yn9PGccqo9OK"
      },
      "source": [
        "**Quando o número a ser exibido é um número com várias casas decimais, podemos definir quantas casas decimais serão mostradas.**\n",
        "\n",
        "**Note que ao invés da vírgula usamos agora o símbolo**``%``:\n"
      ]
    },
    {
      "cell_type": "code",
      "metadata": {
        "id": "C6Sy-xE4o3jY",
        "colab": {
          "base_uri": "https://localhost:8080/"
        },
        "outputId": "c9ef4b46-7d7f-444f-8533-c3c05894cb2e"
      },
      "source": [
        "C = 120.994901\n",
        "print(\"O valor da variável C é %.2f\" % C)"
      ],
      "execution_count": 18,
      "outputs": [
        {
          "output_type": "stream",
          "name": "stdout",
          "text": [
            "O valor da variável C é 120.99\n"
          ]
        }
      ]
    },
    {
      "cell_type": "markdown",
      "metadata": {
        "id": "ou8V2wBMrooR"
      },
      "source": [
        "Aqui note que o **%.2f** é substituído pelo valor da variável C arredondada para **2 casas decimais**.\n",
        "\n",
        "%.2f:\n",
        "- %: indica onde deve aparecer o valor da variável especificada em seguida\n",
        "- f: indica que queremos mostrar um número que pode ter casas decimais\n",
        "- .2: indica que queremos 2 casas depois da vírgula\n",
        "\n",
        "Assim para mostrar 4 casas decimais:"
      ]
    },
    {
      "cell_type": "code",
      "metadata": {
        "id": "NHwiZQKVsivv",
        "colab": {
          "base_uri": "https://localhost:8080/"
        },
        "outputId": "6573c947-4fa6-4bf9-95b0-9627b0bcd99f"
      },
      "source": [
        "C = 120.994901\n",
        "print(\"O valor da variável C é %.4f\"% C)"
      ],
      "execution_count": 51,
      "outputs": [
        {
          "output_type": "stream",
          "name": "stdout",
          "text": [
            "O valor da variável C é 120.9949\n"
          ]
        }
      ]
    },
    {
      "cell_type": "markdown",
      "metadata": {
        "id": "9ZtDQS4j2XgB"
      },
      "source": [
        "## Transformando os valores em INTEIRO ou VALOR COM CASAS DECIMAIS (número de ponto flutuante)\n",
        "O comando `print()` é utilizado para mostrar mensagens/valores na tela.\n",
        "\n",
        "O comando `int(x)` transforma o valor de x em inteiro.\n",
        "\n",
        "O comando `float(x)` transforma o valor de x em um número com casas decimais (ou seja, número de ponto flutuante).\n",
        "\n",
        "Veja exemplos:\n"
      ]
    },
    {
      "cell_type": "code",
      "metadata": {
        "id": "4Oqkl1K3AG0L",
        "colab": {
          "base_uri": "https://localhost:8080/"
        },
        "outputId": "6162dfd1-4da2-42db-fe20-06c41a103820"
      },
      "source": [
        "C1 = 1202.54\n",
        "C2 = int(C1) # transforma o valor de C1 em inteiro e atribui este valor à variável C2\n",
        "print(C2)"
      ],
      "execution_count": 19,
      "outputs": [
        {
          "output_type": "stream",
          "name": "stdout",
          "text": [
            "1202\n"
          ]
        }
      ]
    },
    {
      "cell_type": "markdown",
      "metadata": {
        "id": "A3027aU2AhpF"
      },
      "source": [
        "Ou (equivalente):"
      ]
    },
    {
      "cell_type": "code",
      "metadata": {
        "id": "jCTnUNsY2XgM",
        "colab": {
          "base_uri": "https://localhost:8080/"
        },
        "outputId": "f95f5d23-47e5-4f4d-f5bc-37c9d973164d"
      },
      "source": [
        "print(int(1202.54))"
      ],
      "execution_count": 20,
      "outputs": [
        {
          "output_type": "stream",
          "name": "stdout",
          "text": [
            "1202\n"
          ]
        }
      ]
    },
    {
      "cell_type": "markdown",
      "metadata": {
        "id": "_dt0Z_LhAmZ9"
      },
      "source": [
        "Para transformar um número inteiro em um número com casas decimais:"
      ]
    },
    {
      "cell_type": "code",
      "metadata": {
        "id": "LvlYc18M3PlD",
        "colab": {
          "base_uri": "https://localhost:8080/"
        },
        "outputId": "61b3b021-391a-4734-9f21-046f4aba3725"
      },
      "source": [
        "print(float(122))"
      ],
      "execution_count": 21,
      "outputs": [
        {
          "output_type": "stream",
          "name": "stdout",
          "text": [
            "122.0\n"
          ]
        }
      ]
    },
    {
      "cell_type": "markdown",
      "metadata": {
        "id": "n5HuNqqUZMhM"
      },
      "source": [
        "## Para imprimir um número com casas decimais sem a parte decimal, ou seja, descartando os valores das casas decimais:\n",
        "\n",
        "O comando %.0f NÃO funciona\n",
        "\n",
        "Comando %.0f pode arredondar tanto pra cima como para baixo dependendo do valor, mas se você não sabe o valor a priori, você não sabe se ele vai arredondar para cima ou para baixo."
      ]
    },
    {
      "cell_type": "markdown",
      "metadata": {
        "id": "QEo2JrYR90nN"
      },
      "source": [
        "Assim, em vez de usar :\n"
      ]
    },
    {
      "cell_type": "code",
      "metadata": {
        "id": "SninfXot90FP",
        "colab": {
          "base_uri": "https://localhost:8080/"
        },
        "outputId": "510b227c-113d-413a-a270-d5a4466c7ceb"
      },
      "source": [
        "print(\"%.0f\" %1202.54)"
      ],
      "execution_count": 22,
      "outputs": [
        {
          "output_type": "stream",
          "name": "stdout",
          "text": [
            "1203\n"
          ]
        }
      ]
    },
    {
      "cell_type": "markdown",
      "metadata": {
        "id": "lA-nfV7_98Qr"
      },
      "source": [
        "Para  imprimir o número  1202.54 sem a parte decimal, pode ser usado o comando `int(x) ` que transforma o valor x em inteiro:\n"
      ]
    },
    {
      "cell_type": "code",
      "metadata": {
        "id": "mX4j2FSa-Jhh",
        "colab": {
          "base_uri": "https://localhost:8080/"
        },
        "outputId": "5198770a-eed9-441d-8baa-e69c234f4f98"
      },
      "source": [
        "print(int(1202.54))"
      ],
      "execution_count": null,
      "outputs": [
        {
          "output_type": "stream",
          "name": "stdout",
          "text": [
            "1202\n"
          ]
        }
      ]
    },
    {
      "cell_type": "markdown",
      "metadata": {
        "id": "hyNm2ZTmQDE4"
      },
      "source": [
        "Ou então o comando ` math.floor() `:\n",
        "\n",
        "Retorna o **piso** de x, o maior inteiro menor ou igual a x.\n"
      ]
    },
    {
      "cell_type": "code",
      "metadata": {
        "id": "MIx4ieAORtos",
        "colab": {
          "base_uri": "https://localhost:8080/"
        },
        "outputId": "118cd77d-97a1-4045-af6a-fa171931cffc"
      },
      "source": [
        "import math                     # para usar math.floor precisamos importar biblioteca math\n",
        "print (math.floor(1202.54))"
      ],
      "execution_count": 23,
      "outputs": [
        {
          "output_type": "stream",
          "name": "stdout",
          "text": [
            "1202\n"
          ]
        }
      ]
    },
    {
      "cell_type": "markdown",
      "metadata": {
        "id": "hDNlu5IwWrLv"
      },
      "source": [
        "---\n",
        "\n",
        "# 3. Recebendo/Lendo dados\n",
        "\n",
        "Na Unidade 1, a entrada de dados foi feita diretamente no programa, atribuindo um valor fixo para variável.\n",
        "\n",
        "Nesta unidade veremos **como receber dados do usuário (que ele digita via teclado)**.\n",
        "\n",
        "**Para receber dados do usuário, utilizamos a função ``input``.**\n",
        "\n",
        "\n",
        "É sempre bom exibir para o usuário a mensagem que explica qual dado ele deve digitar. **O texto de mensagem deve ficar entre aspas duplas**, ou seja,\n",
        "\n",
        "**``input(\"texto_da_mensagem\")``**\n",
        "\n",
        "Execute a célula abaixo. Deve aparecer uma caixa para você digitar o valor de C.\n",
        "Após digitar o valor para C, pressione a tecla enter."
      ]
    },
    {
      "cell_type": "code",
      "metadata": {
        "id": "2JNDxnWoZgBd",
        "colab": {
          "base_uri": "https://localhost:8080/"
        },
        "outputId": "22f21790-87bb-4d19-84b9-3e490e0fcafe"
      },
      "source": [
        "C = input(\"Digite a temperatura em Celsius: \") # Eh exibido texto \"Digite a temperatura em Celsius\" para o suario.\n",
        "                                               # O que usuario digitar eh atribuido a variavel C"
      ],
      "execution_count": 24,
      "outputs": [
        {
          "name": "stdout",
          "output_type": "stream",
          "text": [
            "Digite a temperatura em Celsius: 6\n"
          ]
        }
      ]
    },
    {
      "cell_type": "code",
      "metadata": {
        "id": "j48KQUOxZ0r3",
        "colab": {
          "base_uri": "https://localhost:8080/"
        },
        "outputId": "d754a406-378f-46b4-df0c-82a91b90b1e3"
      },
      "source": [
        "print(\"A temperatura digitada é\", C ,\"graus Celsius\") # Imprima o texto (que esta entre aspas duplas), o conteudo da variavel C, e o segundo texto"
      ],
      "execution_count": 25,
      "outputs": [
        {
          "output_type": "stream",
          "name": "stdout",
          "text": [
            "A temperatura digitada é 6 graus Celsius\n"
          ]
        }
      ]
    },
    {
      "cell_type": "markdown",
      "metadata": {
        "id": "EV4kMFwoBQhd"
      },
      "source": [
        "**O `input ` considera como padrão o que usuário digita como um texto.**\n",
        "\n",
        "Abaixo digite 10 como o valor para C.\n",
        "\n",
        "Veja o que acontece quando tentamos calcular C+C."
      ]
    },
    {
      "cell_type": "code",
      "metadata": {
        "id": "bpCnnVXPBGGx",
        "colab": {
          "base_uri": "https://localhost:8080/"
        },
        "outputId": "6131055a-5318-4c32-c6e5-1c73bd623706"
      },
      "source": [
        "C = input(\"Digite a temperatura em Celsius: \")\n",
        "print(\"A temperatura digitada é\", C,\"graus Celsius\")\n",
        "D = C+C\n",
        "print(\"C+C é\", D)"
      ],
      "execution_count": 26,
      "outputs": [
        {
          "output_type": "stream",
          "name": "stdout",
          "text": [
            "Digite a temperatura em Celsius: 10\n",
            "A temperatura digitada é 10 graus Celsius\n",
            "C+C é 1010\n"
          ]
        }
      ]
    },
    {
      "cell_type": "markdown",
      "metadata": {
        "id": "N_Jnp17MCfDT"
      },
      "source": [
        "O valor de D é 1010 quando o valor de C é 10. Por quê?\n",
        "\n",
        "É porque, **quando lidamos com textos, a operação ``+`` é a operação de concatenar (grudar) os textos.**\n",
        "\n",
        "Ou seja D é ``\"10\"+\"10\"``, que é ``\"1010\"``.\n",
        "\n",
        "Para que C seja considerado como número, **temos que fazer uma conversão**.\n",
        "\n",
        "Abaixo recebemos o valor na variável ``C_texto`` e **convertemos texto para um número que possivelmente pode ter casas decimais**.\n",
        "\n",
        "**Este tipo de número é chamado de ``float``**."
      ]
    },
    {
      "cell_type": "code",
      "metadata": {
        "id": "OVj27P1WCa8b",
        "colab": {
          "base_uri": "https://localhost:8080/"
        },
        "outputId": "6e199b04-b6b7-401f-c96d-d95aaa09adf1"
      },
      "source": [
        "C_texto = input(\"Digite a temperatura em Celsius: \")\n",
        "C = float(C_texto)\n",
        "print(\"A temperatura digitada é\",C,\"graus Celsius\")\n",
        "D = C+C\n",
        "print(\"C+C é\", D)"
      ],
      "execution_count": 27,
      "outputs": [
        {
          "output_type": "stream",
          "name": "stdout",
          "text": [
            "Digite a temperatura em Celsius: 10\n",
            "A temperatura digitada é 10.0 graus Celsius\n",
            "C+C é 20.0\n"
          ]
        }
      ]
    },
    {
      "cell_type": "markdown",
      "metadata": {
        "id": "U4pVI8R-DgMx"
      },
      "source": [
        "Na verdade, podemos usar a própria variável ``C`` como a seguir:"
      ]
    },
    {
      "cell_type": "code",
      "metadata": {
        "id": "FhBqA6YvDERh",
        "colab": {
          "base_uri": "https://localhost:8080/"
        },
        "outputId": "c0994964-18a1-4eee-ff4a-ad555fd186e5"
      },
      "source": [
        "C = input(\"Digite a temperatura em Celsius: \")\n",
        "C = float(C)\n",
        "print(\"A temperatura digitada é\",C,\"graus Celsius\")\n",
        "D = C+C\n",
        "print(\"C+C é\", D)"
      ],
      "execution_count": 28,
      "outputs": [
        {
          "output_type": "stream",
          "name": "stdout",
          "text": [
            "Digite a temperatura em Celsius: 10\n",
            "A temperatura digitada é 10.0 graus Celsius\n",
            "C+C é 20.0\n"
          ]
        }
      ]
    },
    {
      "cell_type": "markdown",
      "metadata": {
        "id": "j7CNUIuDDvXT"
      },
      "source": [
        "Ou até mesmo, fazer em uma única linha (juntar as primeiras duas linhas de código acima em uma única linha):"
      ]
    },
    {
      "cell_type": "code",
      "metadata": {
        "id": "-2GFSRsJDxUb"
      },
      "source": [
        "C = float(input(\"Digite a temperatura em Celsius: \"))\n",
        "print(\"A temperatura digitada é\",C,\"graus Celsius\")\n",
        "D = C+C\n",
        "print(\"C+C é\", D)"
      ],
      "execution_count": null,
      "outputs": []
    },
    {
      "cell_type": "markdown",
      "metadata": {
        "id": "_bRfGwFQD3nu"
      },
      "source": [
        "Você pode usar qual opção preferir. É bem comum fazer em uma única linha.\n",
        "\n",
        "Veja mais um exemplo.\n",
        "\n",
        "Suponha que você queira dividir $d$ reais igualmente entre $n$ pessoas.\n",
        "\n",
        "Nesse caso, $d$ é um número possivelmente com casas decimais e $n$ é um número inteiro.\n",
        "\n",
        "**Para números inteiros, ao invés de ``float``, usamos ``int``**:"
      ]
    },
    {
      "cell_type": "code",
      "metadata": {
        "id": "-9GENKNBD29J"
      },
      "source": [
        "d = float(input(\"Digite a quantidade de dinheiro: \"))\n",
        "n = int(input(\"Digite o número de pessoas.\"))\n",
        "r = d/n\n",
        "print(\"Cada pessoa vai receber\",r,\"reais\")"
      ],
      "execution_count": null,
      "outputs": []
    },
    {
      "cell_type": "markdown",
      "metadata": {
        "id": "FZ7GCLeaFVy5"
      },
      "source": [
        "## Exercício: quilômetros percorridos\n",
        "\n",
        "Considere um carro com tanque com capacidade $C$ em litros e eficiência $E$ em km/litro. Queremos saber quantos quilômetros o carro anda com $C$ litros (assumindo que a eficiência vai ser exata).\n",
        "\n",
        "Faça um programa que\n",
        "- Recebe o valor de $C$\n",
        "- Recebe o valor de $E$\n",
        "- Mostre a resposta formatada com duas casas decimais como neste exemplo:\n",
        "O carro vai andar 256.79 quilômetros."
      ]
    },
    {
      "cell_type": "code",
      "source": [
        "C = float(input(\"Digite a quantidade de litros\"))\n",
        "E = float(input(\"Digite o valor da eficiência (km/litro)\"))\n",
        "print(\"O carro vai andar %.2f quilômetros\" % (C*E))"
      ],
      "metadata": {
        "colab": {
          "base_uri": "https://localhost:8080/"
        },
        "id": "gvVIZjkXsQse",
        "outputId": "f2fc5ebf-0420-4f74-f0e2-12ecfe79f893"
      },
      "execution_count": 53,
      "outputs": [
        {
          "output_type": "stream",
          "name": "stdout",
          "text": [
            "Digite a quantidade de litros10\n",
            "Digite o valor da eficiência (km/litro)26\n",
            "O carro vai andar 260.00 quilômetros\n"
          ]
        }
      ]
    },
    {
      "cell_type": "markdown",
      "metadata": {
        "id": "2oeJxx-arFZ3"
      },
      "source": [
        "<hr>"
      ]
    },
    {
      "cell_type": "markdown",
      "metadata": {
        "id": "nHDjj00Hk1nw"
      },
      "source": [
        "# 4. Condicionais em Python\n",
        "\n",
        "Uma das habilidades fundamentais quando estamos aprendendo a programar é conseguir traduzir nossos processos mentais em um programa de computador.\n",
        "\n",
        "Vamos ver um exemplo simples.\n",
        "\n",
        "Suponha que você queira comprar um pacote de farinha e existem duas opções de tamanho:\n",
        "* pacotes de 3kg\n",
        "* pacotes de 5kg.\n",
        "\n",
        "Suponha que você não se importe tanto em comprar 3kg ou 5kg: o que você quer é comprar a **melhor oferta** (ou seja, a opção com melhor custo-benefício).\n",
        "\n",
        "> O que você faz?\n",
        "\n",
        "Em geral, sabemos que o pacote maior costuma valer mais a pena.\n",
        "\n",
        "No entanto, muitas vezes isso não é verdade!\n",
        "\n",
        "> Se o pacote de 5kg custa 18 reais e o pacote de 3kg custa 10 reais, qual vale mais a pena?\n",
        "\n",
        "Acho que você provavelmente faria a conta de quantos reais são pagos por quilo:\n",
        "\n",
        "* 18 reais / 5kg = 3.6 reais/kg\n",
        "* 10 reais / 3kg = 3.33 reais/kg\n",
        "\n",
        "Aqui o custo-benefício é melhor para o pacote de 3kg.\n",
        "\n",
        "> Se o pacote de 5kg custa 16 reais e o pacote de 3kg custa 10 reais, qual vale mais a pena?\n",
        "\n",
        "* 16 reais / 5kg = 3.2 reais/kg\n",
        "* 10 reais / 3kg = 3.33 reais/kg\n",
        "\n",
        "Agora o pacote de 5kg vale mais a pena.\n",
        "\n",
        "Então dá para perceber que o processo é sempre o mesmo:\n",
        "\n",
        "1) Calcular preço do kg para o pacote de 5 kg: preço/5\n",
        "\n",
        "2) Calcular preço do kg para o pacote de 3kg: preço/3\n",
        "\n",
        "3) Escolher o menor entre os dois.\n",
        "\n",
        "> Como transformar esse processo em um programa?\n",
        "\n",
        "Veja os primeiros dois passos.\n",
        "\n",
        "Pedimos para o usuário digitar os preços. Teste com\n",
        "- 18 reais para o pacote de 5kg e\n",
        "- 10 reais para o pacote de 3kg."
      ]
    },
    {
      "cell_type": "code",
      "metadata": {
        "id": "qY2CYuTknyKt"
      },
      "source": [
        "preco5 = float(input(\"Digite o preço do pacote de 5kg: \"))\n",
        "preco3 = float(input(\"Digite o preço do pacote de 3kg: \"))\n",
        "razao5 = preco5 / 5\n",
        "razao3 = preco3 / 3\n",
        "print(\"O preço por kg do pacote de 5kg é\", razao5)\n",
        "print(\"O preço por kg do pacote de 3kg é\", razao3)"
      ],
      "execution_count": null,
      "outputs": []
    },
    {
      "cell_type": "markdown",
      "metadata": {
        "id": "Qwq0FAVXkVmG"
      },
      "source": [
        "> E o passo 3?\n",
        "\n",
        "3) Escolher o menor entre os dois.\n",
        "\n",
        "Este passo depende dos valores calculados para ``razao5`` e ``razao3``.\n",
        "\n",
        "> Como fazer o programa lidar com isso sozinho?\n"
      ]
    },
    {
      "cell_type": "markdown",
      "metadata": {
        "id": "KNiieLT5PS2t"
      },
      "source": [
        "<hr>"
      ]
    },
    {
      "cell_type": "markdown",
      "metadata": {
        "id": "XFknvvSpfLyq"
      },
      "source": [
        "## O comando ``if``"
      ]
    },
    {
      "cell_type": "markdown",
      "metadata": {
        "id": "zy807uVxPINv"
      },
      "source": [
        "Digamos que queremos mostrar uma mensagem no caso de ``razao3`` ser menor.\n",
        "\n",
        "No caso de ``razao5`` ser menor, não vamos fazer nada por enquanto.\n",
        "\n",
        "Usamos o comando ``if``:"
      ]
    },
    {
      "cell_type": "code",
      "metadata": {
        "id": "KETJNz52nxvH",
        "colab": {
          "base_uri": "https://localhost:8080/"
        },
        "outputId": "179d070f-b93a-4a98-b4b0-53652803476e"
      },
      "source": [
        "if razao3 < razao5:\n",
        "  print(\"A segunda opção é melhor\")"
      ],
      "execution_count": 54,
      "outputs": [
        {
          "output_type": "stream",
          "name": "stdout",
          "text": [
            "A segunda opção é melhor\n"
          ]
        }
      ]
    },
    {
      "cell_type": "markdown",
      "metadata": {
        "id": "Cn9bqsexokx-"
      },
      "source": [
        "E o nosso programa inteiro ficaria assim:"
      ]
    },
    {
      "cell_type": "code",
      "metadata": {
        "id": "DgMfwnhaojLC",
        "colab": {
          "base_uri": "https://localhost:8080/"
        },
        "outputId": "b0a1eb6e-830d-4fdb-e1f1-2b8a0a0ec37d"
      },
      "source": [
        "preco5 = float(input(\"Digite o preço do pacote de 5kg: \"))\n",
        "preco3 = float(input(\"Digite o preço do pacote de 3kg: \"))\n",
        "razao5  = preco5 / 5\n",
        "razao3 = preco3 / 3\n",
        "print(\"O preço por kg do pacote de 5kg é\", razao5)\n",
        "print(\"O preço por kg do pacote de 3kg é\", razao3)\n",
        "if razao3 < razao5:\n",
        "  print(\"A segunda opção é melhor\")"
      ],
      "execution_count": 59,
      "outputs": [
        {
          "output_type": "stream",
          "name": "stdout",
          "text": [
            "Digite o preço do pacote de 5kg: 4\n",
            "Digite o preço do pacote de 3kg: 1\n",
            "O preço por kg do pacote de 5kg é 0.8\n",
            "O preço por kg do pacote de 3kg é 0.3333333333333333\n",
            "A segunda opção é melhor\n"
          ]
        }
      ]
    },
    {
      "cell_type": "markdown",
      "metadata": {
        "id": "8ZhUfaiGo4Hc"
      },
      "source": [
        "É importante notar que o nosso processo de decidir qual pacote tem o melhor custo-benefício funciona para quaisquer dados (válidos) que o usuário digitar.\n"
      ]
    },
    {
      "cell_type": "markdown",
      "metadata": {
        "id": "Xm0AkfmNotX7"
      },
      "source": [
        "## Exercício:\n",
        "\n",
        "Modificar o exemplo para que,\n",
        "- se o pacote com 5 kg for a melhor oferta, imprimir \"A primeira opção é melhor\"\n",
        "- se ambas as ofertas forem iguais, imprimir \"Ambas as opções são equivalentes\"\n",
        "\n",
        "**Dica:** Use `==` no lugar de `>` ou `<`"
      ]
    },
    {
      "cell_type": "code",
      "metadata": {
        "id": "C50pAUymo1M4",
        "colab": {
          "base_uri": "https://localhost:8080/"
        },
        "outputId": "a220cefb-e701-424d-d3fc-972c1e782919"
      },
      "source": [
        "# Sua resposta\n",
        "preco5 = float(input(\"Digite o preço do pacote de 5kg: \"))\n",
        "preco3 = float(input(\"Digite o preço do pacote de 3kg: \"))\n",
        "\n",
        "razao5  = preco5 / 5\n",
        "razao3 = preco3 / 3\n",
        "\n",
        "print(\"O preço por kg do pacote de 5kg é\", razao5)\n",
        "print(\"O preço por kg do pacote de 3kg é\", razao3)\n",
        "\n",
        "if razao3 < razao5:\n",
        "  print(\"A segunda opção é melhor\")\n",
        "if razao3 > razao5:\n",
        "  print(\"A primeira opção é melhor\")\n",
        "if razao5 == razao3:\n",
        "  print(\"Ambas as opções são equivalentes\")"
      ],
      "execution_count": 62,
      "outputs": [
        {
          "output_type": "stream",
          "name": "stdout",
          "text": [
            "Digite o preço do pacote de 5kg: 10\n",
            "Digite o preço do pacote de 3kg: 24\n",
            "O preço por kg do pacote de 5kg é 2.0\n",
            "O preço por kg do pacote de 3kg é 8.0\n",
            "A primeira opção é melhor\n"
          ]
        }
      ]
    },
    {
      "cell_type": "markdown",
      "metadata": {
        "id": "zrLrwoLbpTVz"
      },
      "source": [
        "## Estrutura do comando ``if``\n",
        "\n",
        "O comando ``if`` tem a seguinte estrutura:\n",
        "\n",
        "(**IMPORTANTE: Observe o espaçamento na frente de comandos dentro de comando ``if``**)\n",
        "\n",
        "Se a condição é verdadeira, os comando são executados\n",
        "\n",
        "```\n",
        "if condicao:\n",
        "  comandos\n",
        "  comandos\n",
        "  comandos\n",
        "```\n",
        "\n",
        "Vamos ver um exemplo:"
      ]
    },
    {
      "cell_type": "code",
      "metadata": {
        "id": "TpjtuoQfs3XA",
        "colab": {
          "base_uri": "https://localhost:8080/"
        },
        "outputId": "33d28955-41d9-4fe7-b372-d24c32841f31"
      },
      "source": [
        "a = 2\n",
        "b = 3\n",
        "if a<b:\n",
        "  print(\"A condição vale!\")\n",
        "  print(a,\"<\", b)"
      ],
      "execution_count": 63,
      "outputs": [
        {
          "output_type": "stream",
          "name": "stdout",
          "text": [
            "A condição vale!\n",
            "2 < 3\n"
          ]
        }
      ]
    },
    {
      "cell_type": "markdown",
      "metadata": {
        "id": "2yiCKaC-s37b"
      },
      "source": [
        "No nosso caso, a condição é ``a < b`` que vale\n",
        "- ``True`` se o valor de ``a`` é menor que se o valor de ``b``  e\n",
        "- ``False`` caso contrário.\n",
        "\n",
        "Como, no exemplo, ``a=2`` e ``b=3``, a condição vale.\n",
        "\n",
        "Veja aqui:"
      ]
    },
    {
      "cell_type": "code",
      "metadata": {
        "id": "0aumnQ2BotDg",
        "colab": {
          "base_uri": "https://localhost:8080/"
        },
        "outputId": "d7582882-cc17-4d28-962a-43393abc071e"
      },
      "source": [
        "a < b"
      ],
      "execution_count": 64,
      "outputs": [
        {
          "output_type": "execute_result",
          "data": {
            "text/plain": [
              "True"
            ]
          },
          "metadata": {},
          "execution_count": 64
        }
      ]
    },
    {
      "cell_type": "markdown",
      "metadata": {
        "id": "0Zwx5-pBoz8L"
      },
      "source": [
        "**Observação 1:** Na tabela abaixo estão todos os operadores de comparação em Python.\n",
        "\n",
        "![Captura de Tela 2020-12-29 às 03.04.56.png](data:image/png;base64,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)"
      ]
    },
    {
      "cell_type": "markdown",
      "metadata": {
        "id": "Pwo8pFrHGBTk"
      },
      "source": [
        "**Observação 2:**\n",
        "\n",
        "**Note que, após a condição no ``if``, colocamos um ``:`` (dois-pontos)**\n",
        "\n",
        "```if a < b:```\n",
        "\n",
        "**Em seguida, colocamos os comandos a serem executados quando a condição é verdadeira**\n",
        "\n",
        "\n",
        "No nosso caso, temos dois comandos:\n",
        "```\n",
        "  print(\"A condição vale!\")\n",
        "  print(a,\"<\", b)\n",
        "```\n",
        "\n",
        "mas poderíamos ter incluído mais comandos!"
      ]
    },
    {
      "cell_type": "markdown",
      "metadata": {
        "id": "l1A_03kDygwR"
      },
      "source": [
        "## Exercício\n",
        "\n",
        "Modifique o código de modo que a condição seja falsa (e nada deve ser impresso!)"
      ]
    },
    {
      "cell_type": "code",
      "metadata": {
        "id": "kOXlIpwxyfx6"
      },
      "source": [
        "# Sua resposta\n",
        "a = 3\n",
        "b = 2\n",
        "if a<b:\n",
        "  print(\"A condição vale!\")\n",
        "  print(a,\"<\", b)"
      ],
      "execution_count": 69,
      "outputs": []
    },
    {
      "cell_type": "markdown",
      "metadata": {
        "id": "JNZw05E-ytvl"
      },
      "source": [
        "\n",
        "## Importante!!\n",
        "**Todos os comandos a serem executados quando a condição é verdadeira são identificados pelo número de espaços no começo da linha**.\n",
        "\n",
        "  Eles devem estar **deslocados para a direita**."
      ]
    },
    {
      "cell_type": "markdown",
      "metadata": {
        "id": "XWW3EFVGqdEM"
      },
      "source": [
        "No código a seguir, o comando ``print(a,\"<\", b)`` está fora do bloco do ``if``.\n",
        "\n",
        "Veja como a execução fica errada.\n",
        "\n",
        "100 não é menor que 3, e portanto o programa não deve executar nada. Mas, ele imprime  \"100 < 3\" somente pois a última linha não é descolada para a direita, e portanto esta linha não faz  parte do bloco do `if`:"
      ]
    },
    {
      "cell_type": "code",
      "metadata": {
        "id": "kxGtP-3cp_K_",
        "colab": {
          "base_uri": "https://localhost:8080/"
        },
        "outputId": "6aed9303-aee5-42ba-df30-e6b2266c77e9"
      },
      "source": [
        "a = 100\n",
        "b = 3\n",
        "if a<b:\n",
        "  print(\"A condição vale!\")\n",
        "print(a,\"<\", b) # esta linha nao eh deslocada para a direita e portanto na faz parte de bloco do if"
      ],
      "execution_count": 70,
      "outputs": [
        {
          "output_type": "stream",
          "name": "stdout",
          "text": [
            "100 < 3\n"
          ]
        }
      ]
    },
    {
      "cell_type": "markdown",
      "metadata": {
        "id": "G-v6fhUUrrV_"
      },
      "source": [
        "\n",
        "O uso de espaços no código é chamado de **indentação**.\n",
        "\n",
        "Na maioria das linguagens, a indentação tem um papel de organização/estético, mas em Python o uso correto de indentação é crucial.\n",
        "\n",
        "**Colocar espaços extras ou a menos no começo das linhas pode causar muitos problemas!**\n",
        "\n",
        "Para deslocar o seu código para a direita é melhor usar o ``TAB``, mas você pode usar a tecla de espaço em branco também (em Notebook os espaços em branco são colocados automaticamente depis de comando if)."
      ]
    },
    {
      "cell_type": "markdown",
      "metadata": {
        "id": "zzzUjU1iLKH1"
      },
      "source": [
        "<hr>"
      ]
    },
    {
      "cell_type": "markdown",
      "metadata": {
        "id": "yR2uAQQ9pql1"
      },
      "source": [
        "# 5. Os comandos ``if`` / ``else``"
      ]
    },
    {
      "cell_type": "markdown",
      "metadata": {
        "id": "HgD_MbCM8u5j"
      },
      "source": [
        "No exemplo para os pacotes de farinha, mostramos uma mensagem apenas no caso em que ``razao3 < razao5``.\n",
        "\n",
        "Podemos usar o comando ``else`` para lidar com o caso oposto."
      ]
    },
    {
      "cell_type": "code",
      "metadata": {
        "id": "OtTVTFD9pvIO"
      },
      "source": [
        "preco5 = float(input(\"Digite o preço do pacote de 5kg: \"))\n",
        "preco3 = float(input(\"Digite o preço do pacote de 3kg: \"))\n",
        "razao5  = preco5 / 5\n",
        "razao3 = preco3 / 3\n",
        "print(\"O preço por kg do pacote de 5kg é\", razao5)\n",
        "print(\"O preço por kg do pacote de 3kg é\", razao3)\n",
        "if razao3 < razao5:\n",
        "  print(\"A segunda opção é melhor.\")\n",
        "else:\n",
        "  print(\"A primeira opção é melhor.\")"
      ],
      "execution_count": null,
      "outputs": []
    },
    {
      "cell_type": "markdown",
      "metadata": {
        "id": "Kv50BVs287Qa"
      },
      "source": [
        "**Os comandos dentro do bloco do ``else`` só serão executados se a condição do ``if`` for falsa.**\n",
        "\n",
        "> Mas, ao invés de ``if/else``, dava para usar dois ``if``'s?\n",
        "\n",
        "Sim. Logicamente não faz diferença:"
      ]
    },
    {
      "cell_type": "code",
      "metadata": {
        "id": "7lUUdQg486OG",
        "colab": {
          "base_uri": "https://localhost:8080/"
        },
        "outputId": "95bf9d47-c803-4891-e08a-98543c452170"
      },
      "source": [
        "preco5 = float(input(\"Digite o preço do pacote de 5kg: \"))\n",
        "preco3 = float(input(\"Digite o preço do pacote de 3kg: \"))\n",
        "razao5  = preco5 / 5\n",
        "razao3 = preco3 / 3\n",
        "print(\"O preço por kg do pacote de 5kg é\", razao5)\n",
        "print(\"O preço por kg do pacote de 3kg é\", razao3)\n",
        "if razao3 < razao5:\n",
        "  print(\"A segunda opção é melhor.\")\n",
        "if razao3 >= razao5:\n",
        "  print(\"A primeira opção é melhor.\")"
      ],
      "execution_count": 71,
      "outputs": [
        {
          "output_type": "stream",
          "name": "stdout",
          "text": [
            "Digite o preço do pacote de 5kg: 56\n",
            "Digite o preço do pacote de 3kg: 33\n",
            "O preço por kg do pacote de 5kg é 11.2\n",
            "O preço por kg do pacote de 3kg é 11.0\n",
            "A segunda opção é melhor.\n"
          ]
        }
      ]
    },
    {
      "cell_type": "markdown",
      "metadata": {
        "id": "VM_dwbo69JvB"
      },
      "source": [
        "Mas, **sempre que puder, use o ``else``.**\n",
        "\n",
        "**O código fica mais fácil de ler e tem menos chance de cometermos um erro.**"
      ]
    },
    {
      "cell_type": "markdown",
      "metadata": {
        "id": "Z9va_d2JLMkM"
      },
      "source": [
        "<hr>"
      ]
    },
    {
      "cell_type": "markdown",
      "metadata": {
        "id": "F6Kv8kwSpyUi"
      },
      "source": [
        "## O comando ``elif``\n",
        "\n",
        "\n",
        "Agora suponha que você considera que é um **empate** no caso em que a diferença de ``razao3`` e ``razao5`` seja de até 1 centavo.\n",
        "\n",
        "Vamos usar o comando ``elif``."
      ]
    },
    {
      "cell_type": "code",
      "metadata": {
        "id": "NFRAlX0fp5gT",
        "colab": {
          "base_uri": "https://localhost:8080/"
        },
        "outputId": "a9f4eab9-831f-4d44-ee1f-5ddbe64bb1e4"
      },
      "source": [
        "preco5 = float(input(\"Digite o preço do pacote de 5kg: \"))\n",
        "preco3 = float(input(\"Digite o preço do pacote de 3kg: \"))\n",
        "razao5  = preco5 / 5\n",
        "razao3 = preco3 / 3\n",
        "print(\"O preço por kg do pacote de 5kg é\", razao5)\n",
        "print(\"O preço por kg do pacote de 3kg é\", razao3)\n",
        "\n",
        "if razao3 < razao5-0.01:\n",
        "  print(\"A segunda opção é melhor.\")\n",
        "elif razao5 < razao3-0.01:\n",
        "  print(\"A primeira opção é melhor.\")\n",
        "else:\n",
        "  print(\"Empate\")"
      ],
      "execution_count": 66,
      "outputs": [
        {
          "output_type": "stream",
          "name": "stdout",
          "text": [
            "Digite o preço do pacote de 5kg: 5\n",
            "Digite o preço do pacote de 3kg: 3\n",
            "O preço por kg do pacote de 5kg é 1.0\n",
            "O preço por kg do pacote de 3kg é 1.0\n",
            "Empate\n"
          ]
        }
      ]
    },
    {
      "cell_type": "markdown",
      "metadata": {
        "id": "LMTcyAPSgadN"
      },
      "source": [
        "Agora o programa faz assim:\n",
        "- Primeiro ele checa se ``razao3 < razao5-0.01``.\n",
        "\n",
        "  Se é verdade, então ele executa ``print(\"A segunda opção é melhor.\")``.\n",
        "  Ele não checa a condição do ``elif`` e não executa o ``else``.\n",
        "\n",
        "- Se ``razao3 < razao5-0.01`` não vale, então ele checa a condição no ``elif``. Ou seja, se ``razao5 < razao3-0.01``\n",
        "  Se for verdadeiro, ele executa ``print(\"A primeira opção é melhor.\")``\n",
        "\n",
        "- Se nenhuma condição do ``if`` e do ``elif`` vale, ele executa o que está no ``else`` (se houver ``else``).\n"
      ]
    },
    {
      "cell_type": "markdown",
      "metadata": {
        "id": "yUjBpR71hPQp"
      },
      "source": [
        "Podemos usar vários ``elif``'s!\n",
        "\n",
        "### Exercício:\n",
        "\n",
        "Suponha que queremos converter uma nota para conceito com as seguintes regras:\n",
        "* $nota \\geq 95$: conceito A\n",
        "* $80 \\leq nota < 95$: conceito B\n",
        "* $60 \\leq nota < 80$: conceito C\n",
        "* $50 \\leq nota < 60$: conceito D\n",
        "* $nota < 50$: conceito F\n",
        "\n",
        "Escreva o código para resolvê-lo:"
      ]
    },
    {
      "cell_type": "code",
      "metadata": {
        "id": "RnRn9n_uSDXC",
        "colab": {
          "base_uri": "https://localhost:8080/"
        },
        "outputId": "5e506e4b-0aff-4d24-f55d-c783e5700587"
      },
      "source": [
        "nota = int(input(\"Nota final: \"))\n",
        "if nota > 95:\n",
        "  print(\"A\")\n",
        "elif nota >= 80:\n",
        "  print(\"B\")\n",
        "elif nota >= 60:\n",
        "  print(\"C\")\n",
        "elif nota >= 50:\n",
        "  print(\"D\")\n",
        "else:\n",
        "  print(\"F\")"
      ],
      "execution_count": 74,
      "outputs": [
        {
          "output_type": "stream",
          "name": "stdout",
          "text": [
            "Nota final: 94\n",
            "B\n"
          ]
        }
      ]
    },
    {
      "cell_type": "markdown",
      "metadata": {
        "id": "OM0h5hTc9Ug8"
      },
      "source": [
        "<hr>\n"
      ]
    },
    {
      "cell_type": "markdown",
      "metadata": {
        "id": "uHDW6orEqET1"
      },
      "source": [
        "# 6. Operadores lógicos `and ` e `or `"
      ]
    },
    {
      "cell_type": "markdown",
      "metadata": {
        "id": "G7UmvE3Jr8Ne"
      },
      "source": [
        "Suponha que, no nosso exemplo dos pacotes de farinha, agora tenhamos 3 tipos de pacotes:\n",
        "* Pacotes de 1kg\n",
        "* Pacotes de 3kg\n",
        "* Pacotes de 5 kg\n",
        "\n",
        "Agora temos as seguintes possibilidades:\n",
        "- Se ``razao3 <= razao5`` **E** ``razao3 <= razao1``, então o pacote com 3 kgs é a melhor oferta\n",
        "- Se ``razao5 <= razao3`` **E** ``razao5 <= razao1``,  então o pacote com 5 kgs é a melhor oferta:\n",
        "- Se nenhuma das opções acima vale, então a melhor oferta é o pacote com 1 kg.\n",
        "\n",
        "Então combinamos as condições usando ``and`` como a seguir."
      ]
    },
    {
      "cell_type": "code",
      "metadata": {
        "id": "pyIjFoNxqFxw",
        "colab": {
          "base_uri": "https://localhost:8080/"
        },
        "outputId": "1092ef81-7d6b-4cca-ccc6-3919ac9f7513"
      },
      "source": [
        "preco5 = float(input(\"Digite o preço do pacote de 5kg: \"))\n",
        "preco3 = float(input(\"Digite o preço do pacote de 3kg: \"))\n",
        "preco1 = float(input(\"Digite o preço do pacote de 1kg: \"))\n",
        "\n",
        "razao5  = preco5 / 5\n",
        "razao3 = preco3 / 3\n",
        "razao1 = preco1 / 1\n",
        "\n",
        "print(\"O preço por kg do pacote de 5kg é\", razao5)\n",
        "print(\"O preço por kg do pacote de 3kg é\", razao3)\n",
        "print(\"O preço por kg do pacote de 1kg é\", razao1)\n",
        "\n",
        "if razao3 <= razao5 and razao3 <= razao1:\n",
        "  print(\"Melhor comprar o pacote 3.\")\n",
        "elif razao5 <= razao3 and razao5 <= razao1:\n",
        "  print(\"Melhor comprar o pacote 5.\")\n",
        "else:\n",
        "  print(\"Melhor comprar o pacote 1.\")"
      ],
      "execution_count": 35,
      "outputs": [
        {
          "output_type": "stream",
          "name": "stdout",
          "text": [
            "Digite o preço do pacote de 5kg: 35\n",
            "Digite o preço do pacote de 3kg: 26\n",
            "Digite o preço do pacote de 1kg: 11\n",
            "O preço por kg do pacote de 5kg é 7.0\n",
            "O preço por kg do pacote de 3kg é 8.666666666666666\n",
            "O preço por kg do pacote de 1kg é 11.0\n",
            "Melhor comprar o pacote 5.\n"
          ]
        }
      ]
    },
    {
      "cell_type": "markdown",
      "metadata": {
        "id": "E2IYo398ulv1"
      },
      "source": [
        "**``condicao1 and condicao2``  \n",
        "vale verdadeiro quando ambas as condições valem ao mesmo tempo:**"
      ]
    },
    {
      "cell_type": "code",
      "metadata": {
        "id": "rBExErQTu2E4",
        "colab": {
          "base_uri": "https://localhost:8080/"
        },
        "outputId": "add781f1-6360-4ce0-a087-1a0acfc76b48"
      },
      "source": [
        "1 < 2 and 3==3"
      ],
      "execution_count": 42,
      "outputs": [
        {
          "output_type": "execute_result",
          "data": {
            "text/plain": [
              "True"
            ]
          },
          "metadata": {},
          "execution_count": 42
        }
      ]
    },
    {
      "cell_type": "code",
      "metadata": {
        "id": "_bN-FBF5u5xM",
        "colab": {
          "base_uri": "https://localhost:8080/"
        },
        "outputId": "5cfbcfd6-9e6e-4be3-e06b-552c76974cca"
      },
      "source": [
        "1 < 2 and 3>4"
      ],
      "execution_count": 43,
      "outputs": [
        {
          "output_type": "execute_result",
          "data": {
            "text/plain": [
              "False"
            ]
          },
          "metadata": {},
          "execution_count": 43
        }
      ]
    },
    {
      "cell_type": "markdown",
      "metadata": {
        "id": "lML0uli-u8qP"
      },
      "source": [
        "Podemos unir condições usando também um ``or``\n",
        "\n",
        "**``condicao1 or condicao2``**\n",
        "\n",
        "**vale verdadeiro quando pelo menos uma das condições é verdadeira (inclusive quando ambas são verdadeiras):**"
      ]
    },
    {
      "cell_type": "code",
      "metadata": {
        "id": "3paA762nvSHs",
        "colab": {
          "base_uri": "https://localhost:8080/"
        },
        "outputId": "a42c210d-139f-44b3-8823-2c20c36ccf54"
      },
      "source": [
        "1 < 2 or 3==3"
      ],
      "execution_count": 44,
      "outputs": [
        {
          "output_type": "execute_result",
          "data": {
            "text/plain": [
              "True"
            ]
          },
          "metadata": {},
          "execution_count": 44
        }
      ]
    },
    {
      "cell_type": "code",
      "metadata": {
        "id": "-PxeLvaxvSM4",
        "colab": {
          "base_uri": "https://localhost:8080/"
        },
        "outputId": "a2abf03a-1f1f-4af1-a75e-5e16e5813ba3"
      },
      "source": [
        "1 < 2 or 3>4"
      ],
      "execution_count": 45,
      "outputs": [
        {
          "output_type": "execute_result",
          "data": {
            "text/plain": [
              "True"
            ]
          },
          "metadata": {},
          "execution_count": 45
        }
      ]
    },
    {
      "cell_type": "code",
      "metadata": {
        "id": "8JK8UlCVvSR7",
        "colab": {
          "base_uri": "https://localhost:8080/"
        },
        "outputId": "04e2d20e-e301-4d34-fa41-a7a8bafae11a"
      },
      "source": [
        "1 > 2 or 3>4"
      ],
      "execution_count": 46,
      "outputs": [
        {
          "output_type": "execute_result",
          "data": {
            "text/plain": [
              "False"
            ]
          },
          "metadata": {},
          "execution_count": 46
        }
      ]
    },
    {
      "cell_type": "markdown",
      "metadata": {
        "id": "KN6WLimxIjei"
      },
      "source": [
        "## Exercício\n",
        "Atribua valores para $a$, $b$ e $c$ para obter ``True``."
      ]
    },
    {
      "cell_type": "code",
      "metadata": {
        "id": "x4-phEJfIiu9",
        "colab": {
          "base_uri": "https://localhost:8080/"
        },
        "outputId": "b5404804-0a6a-423e-88ac-c84203665511"
      },
      "source": [
        "a = -15\n",
        "b = 100\n",
        "c = 100\n",
        "a <= b and b==c"
      ],
      "execution_count": 37,
      "outputs": [
        {
          "output_type": "execute_result",
          "data": {
            "text/plain": [
              "True"
            ]
          },
          "metadata": {},
          "execution_count": 37
        }
      ]
    },
    {
      "cell_type": "code",
      "metadata": {
        "id": "m3pcW82aRMNo",
        "colab": {
          "base_uri": "https://localhost:8080/"
        },
        "outputId": "57822c94-769d-4173-c66f-45d0f6440ad6"
      },
      "source": [
        "a = 10\n",
        "b = 12\n",
        "c = 14\n",
        "a < b and b<c"
      ],
      "execution_count": 38,
      "outputs": [
        {
          "output_type": "execute_result",
          "data": {
            "text/plain": [
              "True"
            ]
          },
          "metadata": {},
          "execution_count": 38
        }
      ]
    },
    {
      "cell_type": "code",
      "metadata": {
        "id": "h7wmaAF-RM0c",
        "colab": {
          "base_uri": "https://localhost:8080/"
        },
        "outputId": "da6a03a6-66be-4f36-b01a-66764eccbc14"
      },
      "source": [
        "a = 1\n",
        "b = 1\n",
        "c = 1\n",
        "a <= b or b==c"
      ],
      "execution_count": 39,
      "outputs": [
        {
          "output_type": "execute_result",
          "data": {
            "text/plain": [
              "True"
            ]
          },
          "metadata": {},
          "execution_count": 39
        }
      ]
    },
    {
      "cell_type": "markdown",
      "metadata": {
        "id": "CiG2uAtIIr4x"
      },
      "source": [
        "## Exercício\n",
        "Atribua valores para $a$ e $b$ para obter ``False``."
      ]
    },
    {
      "cell_type": "code",
      "metadata": {
        "id": "WOhyjkuEI4rG",
        "colab": {
          "base_uri": "https://localhost:8080/"
        },
        "outputId": "5d06f480-3673-4057-aa50-d94a8ebb89de"
      },
      "source": [
        "a = -1\n",
        "b = 2\n",
        "c = 5\n",
        "a == b or b==c or a==c"
      ],
      "execution_count": 40,
      "outputs": [
        {
          "output_type": "execute_result",
          "data": {
            "text/plain": [
              "False"
            ]
          },
          "metadata": {},
          "execution_count": 40
        }
      ]
    },
    {
      "cell_type": "code",
      "metadata": {
        "id": "bGMYHpURROal",
        "colab": {
          "base_uri": "https://localhost:8080/"
        },
        "outputId": "6e50e7e3-72fc-4ae3-cc16-aa6c16311479"
      },
      "source": [
        "a = 100\n",
        "b = 10\n",
        "c = 1\n",
        "a <= b or a<=c"
      ],
      "execution_count": 41,
      "outputs": [
        {
          "output_type": "execute_result",
          "data": {
            "text/plain": [
              "False"
            ]
          },
          "metadata": {},
          "execution_count": 41
        }
      ]
    },
    {
      "cell_type": "markdown",
      "metadata": {
        "id": "m5M7TLFnkN5q"
      },
      "source": [
        "## Exercício\n",
        "\n",
        "Modifique o código abaixo supondo que ao invés de melhor custo-benefício, você quer comprar o pacote com o pior custo-benefício.\n",
        "\n",
        "Ou seja, com o valor de real por quilo mais caro."
      ]
    },
    {
      "cell_type": "code",
      "metadata": {
        "id": "aIz39NDVkN5q",
        "colab": {
          "base_uri": "https://localhost:8080/"
        },
        "outputId": "28ea49b7-ed26-413e-fb7f-151817897246"
      },
      "source": [
        "# Sua resposta\n",
        "preco5 = float(input(\"Digite o preço do pacote de 5kg: \"))\n",
        "preco3 = float(input(\"Digite o preço do pacote de 3kg: \"))\n",
        "preco1 = float(input(\"Digite o preço do pacote de 1kg: \"))\n",
        "razao5  = preco5 / 5\n",
        "razao3 = preco3 / 3\n",
        "razao1 = preco1 / 1\n",
        "print(\"O preço por kg do pacote de 5kg é\", razao5)\n",
        "print(\"O preço por kg do pacote de 3kg é\", razao3)\n",
        "print(\"O preço por kg do pacote de 1kg é\", razao1)\n",
        "if razao3 <= razao5 and razao3 <= razao1:\n",
        "  print(\"Melhor comprar o pacote 3.\")\n",
        "elif razao5 <= razao3 and razao5 <= razao1:\n",
        "  print(\"Melhor comprar o pacote 5.\")\n",
        "else:\n",
        "  print(\"Melhor comprar o pacote 1.\")"
      ],
      "execution_count": 36,
      "outputs": [
        {
          "output_type": "stream",
          "name": "stdout",
          "text": [
            "Digite o preço do pacote de 5kg: 2\n",
            "Digite o preço do pacote de 3kg: 1\n",
            "Digite o preço do pacote de 1kg: 0.2\n",
            "O preço por kg do pacote de 5kg é 0.4\n",
            "O preço por kg do pacote de 3kg é 0.3333333333333333\n",
            "O preço por kg do pacote de 1kg é 0.2\n",
            "Melhor comprar o pacote 1.\n"
          ]
        }
      ]
    },
    {
      "cell_type": "markdown",
      "metadata": {
        "id": "ETd8l1zzkN5q"
      },
      "source": [
        "# Observação"
      ]
    },
    {
      "cell_type": "markdown",
      "metadata": {
        "id": "1pL9DLNokN5q"
      },
      "source": [
        "Recomenda-se executar todos os programas desta unidade com pelo menos três  entradas diferentes (digitados via teclado) e comparar os resultados obtidos com os resultados esperados.\n"
      ]
    }
  ]
}