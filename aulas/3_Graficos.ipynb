{
    "nbformat": 4,
    "nbformat_minor": 0,
    "metadata": {
        "kernelspec": {
            "display_name": "Python 3",
            "language": "python",
            "name": "python3"
        },
        "language_info": {
            "codemirror_mode": {
                "name": "ipython",
                "version": 3
            },
            "file_extension": ".py",
            "mimetype": "text/x-python",
            "name": "python",
            "nbconvert_exporter": "python",
            "pygments_lexer": "ipython3",
            "version": "3.6.5"
        },
        "colab": {
            "provenance": []
        }
    },
    "cells": [
        {
            "cell_type": "markdown",
            "metadata": {
                "id": "O6KaR5-kI7Y5"
            },
            "source": [
                "# Representações gráficas\n",
                "\n",
                "Representações gráficas podem ser muito úteis para descobrir informações com agilidade.\n",
                "\n",
                "Vamos ver alguns exemplos.\n",
                "\n",
                "**Exemplo:** Considere a função\n",
                "$$f(x) = x^3 -20x^2 + 1000$$\n",
                "\n",
                "Este é o gráfico para $f(x)$ para $x$ de $-7$ a $20$:\n",
                "\n",
                "![image.png](data:image/png;base64,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)"
            ]
        },
        {
            "cell_type": "markdown",
            "metadata": {
                "id": "8kbR_IJ2I7Y6"
            },
            "source": [
                "O que você consegue dizer sobre $f(x)$ olhando para o gráfico?\n",
                "\n",
                "Dentre outros, é possível ver:\n",
                "\n",
                "+ O \"formato\" de $f$: a função $f(x)$ cresce até $x=0$, decresce de 0 até aproximadamente 14 e cresce novamente a partir daí.\n",
                "\n",
                "+ As raízes de $f$ são próximas de $-6$, $10$ e $16$.\n",
                "\n",
                "(As raízes de uma função $f$ são os valores de $x$ para os quais $f(x) = 0$.)\n",
                "\n",
                "Note que você consegue fazer essas observações sem fazer nenhum cálculo."
            ]
        },
        {
            "cell_type": "markdown",
            "metadata": {
                "id": "moV_Wsf4I7Y7"
            },
            "source": [
                "**Exemplo:** Considere o seguinte histograma de notas:\n",
                "\n",
                "![image.png](data:image/png;base64,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)"
            ]
        },
        {
            "cell_type": "markdown",
            "metadata": {
                "id": "KbtZ9lGiI7Y7"
            },
            "source": [
                "O que você consegue perceber a partir desse histograma?\n",
                "\n",
                "- As notas estão concentradas ao redor dos valores 30 e 80.\n",
                "\n",
                "\n",
                "Mas, somente olhando uma tabela com as notas, seria muito mais difícil de ver isso.\n",
                "\n",
                "Ou seja, a utilização de um gráfico bem pensado pode fazer toda a diferença na hora de analisar os dados."
            ]
        },
        {
            "cell_type": "markdown",
            "metadata": {
                "id": "TCdOdv5vB_hn"
            },
            "source": [
                "<hr>"
            ]
        },
        {
            "cell_type": "markdown",
            "metadata": {
                "id": "PoRMr0ljSSGM"
            },
            "source": [
                "# Biblioteca `matplotlib.pyplot` e comando `plot`"
            ]
        },
        {
            "cell_type": "markdown",
            "metadata": {
                "id": "KIxbykWQI7Y8"
            },
            "source": [
                "**Vamos ver agora como fazer gráficos em Python.**\n",
                "\n",
                "**Uma das bibliotecas para gráficos mais utilizadas atualmente é ``matplotlib.pyplot``**\n",
                "\n",
                "Precisamos importar esta biblioteca:"
            ]
        },
        {
            "cell_type": "code",
            "metadata": {
                "id": "UGsHcV9XI7Y8"
            },
            "source": [
                "import matplotlib.pyplot as plt\n",
                "%matplotlib inline"
            ],
            "execution_count": null,
            "outputs": []
        },
        {
            "cell_type": "markdown",
            "metadata": {
                "id": "hUboq4CGI7Y_"
            },
            "source": [
                "OBS: A opção ``%matplotlib inline`` serve para indicar a forma de exibição do gráfico. A outra opção é ``%matplotlib notebook`` (que tem algumas ferramentas extras)."
            ]
        },
        {
            "cell_type": "markdown",
            "metadata": {
                "id": "D0C9qghpI7Y_"
            },
            "source": [
                "**A função principal para criar gráficos é a ``plot``.**\n",
                "\n",
                "Veja como colocar um ponto com coordenadas $x=1$ e $y=2$ e outro com coordenadas $x=2$ e $y=3$."
            ]
        },
        {
            "cell_type": "code",
            "metadata": {
                "id": "Ydwn-BjXI7ZA"
            },
            "source": [
                "plt.plot(1,2,'.')\n",
                "plt.plot(2,3,'.')"
            ],
            "execution_count": null,
            "outputs": []
        },
        {
            "cell_type": "markdown",
            "metadata": {
                "id": "f_8NFtAoI7ZC"
            },
            "source": [
                "(Eles aparecem com cores diferentes mesmo.)\n",
                "\n",
                "Para um círculo maior, usamos a opção 'o':"
            ]
        },
        {
            "cell_type": "code",
            "metadata": {
                "id": "c2l6NQ0_I7ZD"
            },
            "source": [
                "plt.plot(1,2,'o')\n",
                "plt.plot(2,3,'o')"
            ],
            "execution_count": null,
            "outputs": []
        },
        {
            "cell_type": "markdown",
            "metadata": {
                "id": "CKFZvWRiI7ZF"
            },
            "source": [
                "### Exercício:\n",
                "Faça um gráfico com os pontos:\n",
                "- $x=1$, $y=1$\n",
                "- $x=2$, $y=-1$\n",
                "- $x=3$, $y=0$"
            ]
        },
        {
            "cell_type": "code",
            "metadata": {
                "id": "rzTxQVkDI7ZF"
            },
            "source": [
                "# Sua resposta\n"
            ],
            "execution_count": null,
            "outputs": []
        },
        {
            "cell_type": "markdown",
            "metadata": {
                "id": "Vad-5v8HI7ZH"
            },
            "source": [
                "Podemos fazer tudo em um única chamada de ``plot``.\n",
                "Suponha que os pontos agora são:\n",
                "- (1,2) (ou seja $x=1$ e $y=2$)\n",
                "- (3,4)\n",
                "- (5,-1)\n",
                "\n",
                "Colocamos todos os x's no primeiro parâmetro e todos os y's no segundo parâmetro, em ordem:"
            ]
        },
        {
            "cell_type": "code",
            "metadata": {
                "scrolled": true,
                "id": "UuAT6MWvI7ZI"
            },
            "source": [
                "plt.plot([1,3,5],[2,4,-1],'o')"
            ],
            "execution_count": null,
            "outputs": []
        },
        {
            "cell_type": "markdown",
            "metadata": {
                "id": "tQ-wtv1DI7ZK"
            },
            "source": [
                "Note que usamos ``[`` e ``]``, e separamos os números com vírgula.\n",
                "\n",
                "(Agora todos os pontos aparecem com a mesma cor.)\n",
                "\n",
                "Naturalmente, podemos usar variáveis:"
            ]
        },
        {
            "cell_type": "code",
            "metadata": {
                "id": "fP9yTErgI7ZL"
            },
            "source": [
                "x = [1,3,5]     # x é primeira variável\n",
                "y = [2,4,-1]    # y é segunda variável\n",
                "plt.plot(x, y,'o')"
            ],
            "execution_count": null,
            "outputs": []
        },
        {
            "cell_type": "markdown",
            "metadata": {
                "id": "S94XFTrMI7ZN"
            },
            "source": [
                "### Exercício:\n",
                "Usando apenas um comando ``plot``, faça um gráfico com os pontos:\n",
                "- $x=1$, $y=1$\n",
                "- $x=2$, $y=-1$\n",
                "- $x=3$, $y=0$"
            ]
        },
        {
            "cell_type": "code",
            "metadata": {
                "id": "0XqPFpDUI7ZN"
            },
            "source": [
                "# Sua resposta\n"
            ],
            "execution_count": null,
            "outputs": []
        },
        {
            "cell_type": "markdown",
            "metadata": {
                "id": "knC6_DkHyJC9"
            },
            "source": [
                "<hr>"
            ]
        },
        {
            "cell_type": "markdown",
            "metadata": {
                "id": "hiMwMNQXyMyN"
            },
            "source": [
                "# Biblioteca `numpy`"
            ]
        },
        {
            "cell_type": "markdown",
            "metadata": {
                "id": "RV8LLMmSI7ZQ"
            },
            "source": [
                "### Importante!\n",
                "\n",
                "Este tipo de gráfico é o que chamamos de **gráfico de dispersão**: temos um conjunto de pontos $(x_1,y_1), (x_2,y_2),\\dotsc, (x_n, y_n)$ e colocamos um círculo em cada um desses pontos.\n",
                "\n",
                "Olhe um exemplo de gráfico de dispersão com muitos pontos:\n",
                "\n",
                "![image.png](data:image/png;base64,iVBORw0KGgoAAAANSUhEUgAAAXwAAAD8CAYAAAB0IB+mAAAgAElEQVR4Ae2dfcx1WVnebwTEDzAOo6W08nZmqDGBpK1AAljFpsTwZWyCYyIJNk20k2jTEAwN8zJNCzGEABqpQNFESJVYUJumkBnNlC8JsREcEBioBWaQWo2NmsIfpv/YZJrfeff1zPXcs9b+OF/P+bhX8r5rr7Xvda97Xfuc31pn7f2cE1GpFCgFSoFSoBQoBUqBUqAUKAVKgVKgFCgFSoFSoBQoBUqBUqAUKAVKgVKgFCgFSoFSoBQoBUqBUqAUKAVKgVKgFCgFSoFSoBQoBUqBUqAUKAVKgVKgFCgFSoFSoBQoBUqBUqAUKAWuWIGbb775oWc+85n1rzSo10C9Buo1sOA1EBF/ccX4Xt49sK9UCpQCpUApsEyBiLhvOXGvuEUBf9lFLutSoBQoBVCggF+vg1KgFCgFzkSBAv6ZXOgaZilQCpQCBfx6DZQCpUApcCYKFPDP5ELXMEuBUqAUKODXa6AUKAVKgTNRoIB/Jhe6hlkKlALHr8B9X/k/D73tw196iHydVMBfR7VqUwqUAqXAnhUA8t/1r3/roVvvvHuVrwP9Av6eL1p1VwqUAqXAOgqwsgf2f+fVdz902513r1b6S/0U8JcqVvalQClQClyBAlrhA3tW+rXCv4KLUF2WAqVAKbAvBYB87eHvS+3qpxQoBUqBI1agtnSO+OJV6KVAKVAKLFGggL9ErbItBUqBUuCIFSjgH/HFq9BLgVKgFFiiQAF/iVplWwqUAqXAEStQwD/ii1ehlwKlQCmwRIFdAP8bIuITEfGZiPh8RLxu+L2UWyPi4xHxpYj49Yj4+qH+cUP5geH8LVO/r1I/gLLkEpdtKVAKXKUCmz5Kuc3YdwH8R0XE4wdoP3aA+HMi4jci4keH+l+MiJ8cjn8qIiiTOM9kMJoK+Nt8CZSvUqAU2JUC+mOpTb4OYZux7QL4DutviohPRcSzI+IvI+Ixw8nnRsS9wzE5ZRLnsWPS6KYC/jZfAuWrFCgFdqXANr4OYZux7Qr4j46IT0fEX0XEGyPi2yKCLRulp0TE54YC+XfoREQ8ONhb1eXDAv42XwLlqxS4GgUOaatjVwpohb/J1yFsM7ZdAV+E/taI+EhEfF8D+PcPRuzzZ+DfLAeW3zEEe9+1a9e2qUH5KgVKgT0rIBAeylbHLod/SBPbroEPr/9tRPyr2tLZ5UuqfJcCx6XAoW11HJd660e7C+B/e0Swsid9Y0R8LCJ+MCJ+M9205WYt6V+km7bc3B1NtaWz/gWvlqXAISigFf6hbHWsq8khrd7njGEXwP97EfEHEfHZYZ/+3wz0vm14XJO9fODP45gkHuOkTD2Pc2I3mgr4cy5t2ZQCh63AscEyq6lJS9tSv/Z7/3Pymyx9zH6cfe+qvAvgj8J6GycL+Lt6OZTfUqAUmKuAb0vd+uq7H3rq9XtGf43KJ4jvfM09D33nXZv9etXcON2ugO9q1HEpUAqUAjMVAOCA+5bhF6imfo3KJwja8G+TX6+aGeYlswL+JTmqUAqUAqXAPAVWwL/rt1bgfuqwYh+7J6EVPjZMFLddvwF82nJuH6mAvw+Vq49SoBQ4OgWAMKvyHox9xQ7Er//nz47aI4B8vuGe/75a3bPC5x/7//tIBfx9qFx9lAKlwFEpAJj53VjdkG1BXzZjq/reoF/+y793CfiUPWliaPXrdkuPC/hLFSv7UqAUOCgFdgHHvHqn3Eretx+3bL2OFb1W93mFj5+pycZ9LTku4C9Rq2xLgVJg5wosAeeu4Ci/c1fvsh/7RJCFA/qs7PN2zthks0Sb3B/lAn5LlaorBUqBK1FgKTjH4LjpAJbAdRtxqD8mAFb4ebLhvJ4KIqe8NBXwlypW9qVAKbAzBZaCE+i14LizADuON41D7fUJAeijhUOdm8K+DUR5aSrgL1Ws7EuBUmBnCgh8eXU71iFtMhxlP3ZONtvKe1s0c/wTv57L54+4KOf0mgR8yktTAX+pYmVfCpQCO1VgW5DW5KFVM+UlyePw45aPTftisvDVO+Wc6OPvvuaelR055aWpgL9UsbIvBUqBo1CAVTKwB6R8YvBV8xKAs1/uX4PQ2m4Z62uOWGPbNfrkwLP7tYc/R82yKQVKgbNTQKvuvD2k+rGVvwPcvwaBNq3vzJHP3Ndc0XvbNXnlr22fPIHN7adW+HOVKrtSoBS4+EtRAHeVif6B8lQcLTuHeQ+ctNPNYK3wsQX2Pei2+pqrEW35FIFvcsqk/AdaTDjrTir4K+DPvSJlVwqcuQKC4NjKeB8SbRqH2k+BEztNKjpmxa2JgLy1vTOmgfyQ59Q6l7+C4RXv+dRFTLn9nHIBf45KZVMKlAIr0AD71p74pvK0YNfzOWeF3mur+iX9qY1ytRX8506AtGOSmGtPf72tHsWyNC/gL1Ws7EuBM1VAwJpaGS+VR37nglD2245jadxLJx7s9SQOWzf5y9YYlz5RKJaxm7myWZLvAvhPGX64/A8jgh8of8XwoyevjYg/jYhPD/9ebD+Gcn34xasvRMQLrL55WD+AsuQSl20psD0FWlDa1HsGZwZhy/8u4mj1M1Y3NvG04svbM3w9sia53qcF/Gz6ZI6PYRfAf3JEPGMg9RMi4osR8bSIAPivahCcc58ZfvLw1oh4MCIe3bC7qCrg+yWs41LguBVwcOoGqUDIuV2nFpzn9tlqq/HkMeQbsFrt80mFc9i3tsuYDPSdO63+5saK3S6AfwHm4eB9EfEDI8Bndc8/pXsj4rkqtPIC/pJLXLalwOErIJCxZ90D3y5G0YPzJn3xiUVP8vhfzQJuQZ6cHz7RthTn/Ckdyvgh177/NibDXQP/loj444j4lgH4Xxl+3PxdEXHTAPO3RcTLDezvjIjbrfyIwwL+Ji/HalsKHK4CArBASHmXqQfnsT41OZH7sdpksFMmYftU/crV9Rs/ekL/8qOtGyYC7Jg00EEToCYRJgufSNTvnHyXwH98RHwyIl46EPtJw1bN10XE6yMC6JPe3gD+Dw/nPLtjCPa+a9euzRlb2ZQCpcARKtCCKMPo1W8yxB6cez6JwcHMcd666T1ZA9wFb0BOWcnP+acAjrHlnyYLnddEIh9z8l0B/7ERwdbMTzux7ZiV/+eGcm3pzLlSZVMKnJgCSwCOrbY2yClvIzlogbFDuBVffmpG8HWAZxvKJI0BW8YAsOmPev5pItGkIN///Fd+f2XHRKJVPrnHOleLXQD/URHxqxHxFgM8h9zMVXplRLx3KDw93bT9ct20nXv5yq4UOE4FBL+8Ou6NxsHscO3ZT9XTPz6BLvAVhKkn9eLLq3fatdoK3uTyKb/er8ZPHPpitNuu37Pa3wfq/le32GgSIKe8NO0C+N8bEdwN/mx6BPPdEXH/UP/+NAHcNTydw2OZL9Ks0MtrD3/pZS77UuCwFFgKcAE4wzWPCjt8O2Rlo3OCvMM2t+nFh4/WzdXcn/oi92PFkv3/0Fs/dgnmP/KO3714Mod4eUqHlb5W/+T4WJp2Afwep7dWX8BfepnLvhQ4LAWAYGtlPRZlC5xuL58COWUlP+ffh9O7+Sl7TTBAV5MC53Qs/71cfnJMqpf/n/iV378EfOxZ4bPa91U9nwLUBh9LUwF/qWJlXwqcsQJzYTfHbo7NEqnzqtlXwH5O++ACaW9rRPHlTwTUt5Ls/bz3C6g9JrfnWNtATEKKLed8EsCH99GKpVdXwO8pU/WlQClwSQEgw6o8r1YvGY3sf7fsWvByEOY2Y2XF11oBc05A5bygz1gcwu5fccz52wD3Tz/6REDuW0DY9ZL6Y+smg15l/lp3k1TA30S9alsKnJECgBFAAp+8WnUZ5tgBt9bk0at3/2PHgia5J8oCL9siQLk1MajNyv41N74KmcchaZNvosqWPD+ZowmFr0/QM/X06XFx7BOeyqtJYuhPegv4emLH/XgcU8cF/CmF6nwpUAqsFAAyc/bd59j1JoVe/aaXIPtl1e6wzf4zwNlmWQE/QVvtxlblgjUTDH7pN28TtcrY5b19fEx9wlJMrbyA31Kl6kqBUqCpgFahUyvMKbvepNCrJxj36cfNQFPlmF83ld8ewPNN3il7wZ7JgpU+nzIA9qUbxyPfpYN//vIWP7TTin/sE5aPJx8X8LMiVS4FSoGNFRAIyXupZ9Oqp05bQGyNCJzUjfXhfbf85vPqQ8/EC9ies4+eV+nEpG0fbeeoDWX+8cSNgJ1t8Omfnljxqw/9hS2QZ9zkS8btYyzguxp1XAqUAhsr4HBeF0w5CODnsBQw113pZv+Ue30I3Mrpk1h8lU6dtmvyNozaEbPGoJxz+tSgCWm1hz/83KHbYYtv4pw7yeVxFvCzIlUuBU5EAQFkXTisK4ODc1tAZgxaAWuFj+91J5SWNpf6uOu3Lm7s0o+g7bmgn+MA2G7XO2blntuief5rXm/PuU1SAX8T9aptKXAACozBCyitC8V1h+bgpG9tT1C/SfJx9o7n+Fd8LW2INX/3PHXaR+epGyYcgZqtmGzPSl+fQBzW+fj5P/uRS6t1jSl/QtAqny0jbDZJBfxN1Ku2pcAVK9CD1y5W2UuGKngBSwAJAMk3BZZiEJi19y14Uz+15dHThtj06Ca5YiXXPjq5IO99Y885xsnkoEmBeh0L3AL/C3/+o5cmCyZHbC754rHOLepXwNcrqPJS4AgVGIMXANFKVPDa9xDz442b7kETP1AXNMm1mgaW7KsL/r0xU9/SJm+l6Jn3/MQO/ulz7Cas2tKXT066GYwPHwO6qI5cj42Sq55ryfXeJBXwN1Gv2pYCV6xAD16Exbmp1e6uw88QFSQBLvGtk9hCcVgCRGCYb6KOwbGlTZ6c8IlvAdf71DHjkZ3qyAE+SdcHH4xZnw6e/3O/c2kMucwk4e3pg/ZzPsGsGnb+K+B3hKnqUuBYFGjB61BiJza2KLQi1mocgI0BWfG3xpZX+EAUX9S3Vu7y1cvVB+21/dSCuANdx/rEwrdbqs6BT1yaMMiZIG5o8cgVvrTRUzuK1+NjfJo8qF+aCvhLFSv7UqAUWKRABtbUajXbZ8BxXjdRyR18aut1Y8Fi5xDVCtonD+3fC+jcuAXOfk8ifzqgTJJ/xgzs5YNcgMe/90c8rfh98pg7YeaxF/CzIlUuBUqBnSkAyHw13oK5AKz9eOAI4LSv7XAFmvhbN41BVLH6Pjrx0j/tOC8b/3TgEwFxySY/fSP441P+lPt41H7OpODtWscF/JYqVVcKlAJbU0DAIlfqgdbr2doA+sBeT7sAx7xSZktnTvI4dJwhSjlDF1ttS5FrHKt6e4LG28o/uY4571tGAj4551qJtpoAyXUPoGff8uF1uwD+UyLiIxHxhxHx+Yh4xfDLJ0+MiA9ExJeG/Kahnp9E/IWIeGD4NaxnTP1SSv0Ail/COi4FHlZAcCHfd2r1nYGluFQPzH0Lg3pBkVwQZVUN7B2SOuYmbi/hD4DjR+D0ycMhCkxlMxaTxuCfNIiFMkljI97cl8bDpwZt6eQ9ex9LngB1D8AnHrefOt4F8PntWkH7CRHxxYh4WkS8KSLuHGBO/sbh+MUR8dsRAfifExEfL+BPXbY6Xwo8UgEHjQPrkZbLagRNga7VmnMOatk6sHxbhvP8m1pNC5DAWIDPOeeyH2LEvwDu20OA9gK2wxM+lInP6/FJIr+oty2k/AQSZdlrcqKd2uJfPhVbnvBWDuw/t8ufbNSfmU8e7gL4mdfvi4gfiAh+r1Y/ZE5OmfRLEfGy4ZjM7az64cNa4U9e1zI4IgVa4FsSvtr7KhjgCC5LfGVbfLdAnu3yalfPoWtlDdjyahffORGzw1KgJhc4WRGzH87Kvrcqx6/7yttD+mMm9ZUnEcrETiL386pfaTM8geQrbuqZaHzMLbBjR4wtHVwX2eV7APpE4bZTx7sG/i0R8ccR8S0R8bWHkb06+upQvjsi+OFzpQ9FxLNUaOUF/KnLWuePRQHBAfCssyr39vqjHsFJYBrTQjAhb6UM8h5k8moXwGlMxAHYaCvAklOnpDjySt4hr/1818mhTp/Zp8BLjm9NEprEFI80U+7bLPhUHOS5D8pZP42H3I813nVy/ChucspL0y6B//iI+GREvHSAdg/49zSA/8wG6O8Ygr3v2rVrS8dZ9qXAQSoALAQdAWsJILy9oAS0HFh54PIPiKcAkkHO8+ZAU5MJ+QVEJ563x1ZAJZcP4tFkJS04z3gc8thnuNLWoU7Zk48VO/z7pwXXjD55RDKvxntx04/85349ht5xbks/rm2rXW7Tshmr2xXwHxsR90bETxu4faumtnTGrkqdOxsFeAM7sHjTC0zkUyDx9toyycByMWUP+LBzAOuPiLDhH3AlHvwCRp4/d/tXvOdTl8raS9cYchz4E2B9Qmp9dYHaalWOT8VE7qlX7zY+MQr69OHwJyZiydDtxU2/S66Vx5Pb5k82jHcXaRfA5+brr0bEWwz2HL453bTlJi7pJemm7SeG+m5WWzq7eCmUz6tSwIHlYAJIlKeSt/fjVjv3L/gK4twUBIaaODgGaMCHdj/01o9dAvzff929l8qcx44YWnFQhz/BXH6/5w0fvOSHMn44L6DySYS4FBO+lqRe3+qDmOhDe/u+ZdJry6cf4kE/cmKem7BVW/p+9us/cEkDtNxF2gXw2Y9/aHjE8tMRwT+exLk5Itif57FMch7TJDFBvD0iHoyI+6f272lQwN/FS6F8HoICGS49sFEvuC6Jm3baxgE0gr3nTASaDLARyICj2+UVPrCcArLiFmixF/jkW99D41DsxbRk7PSZV++0V0z5kwZlaSwbj5vxKmZyzs1N+PPJr/fVDHP9zbXbBfBvYHyH/xfw517esjtGBQQX8lYSLKbg2mv78BbNw8ACqHrGm/10JgVgD5Q8Docm9XpUkFg0SXCsSSLHQBvOXVod2y9B0bf6I1eswJXjVky5j1YZX/q0QM44BHPZZ+AzjqwxbagD8Bovx75FJX/KNWaNq1XPOd3HcA1ku628gL8tJcvP2gr03hBrOzzxhg4dX4HPGba3BVy6KQpM9X3uwJ7V+/e/6cOrJ1t6fvMN3anVLtdZ0KUPB3gLwNjr0wh5y4bY5rx+fNyAmnFnmOfHHjUe11hjoI74iWtsEpJ97qul6ZxxtNotqSvgL1GrbLeuwJI3xNY7PzKHAgLgA5xjoOkNTXqrrSDqj0z6yhXoYdNK+ZFNAZLVLpMBkKU/JYcu/dM+28iWPNu3fGo8PaBKs3xTVLESB/2Q8gTGOenk45BPcrRpbRNpHHkM6kvnl+be99K22Bfw11Gt2mxNgW2/IbYW2I4djb1xW+eo0+q4tyUxN2T3r2OfRICngEgO0JRkT04bt9MjjVr5ZgjTxlfslMcS5zWx5U8gajv2+ln1d/GE0eXtK32ywb98uT39MT7863yOlXq/Jm6niYCJRmPwvrKvOeWx/ua0x6aAP1epstuJAnoRt1ZSO+nwAJxqzBmIhJbPCTq+AvdVKW0EF/Ilib4AGyt6B1y+GQu0SDk2VsSaHMhf9JaPPsSTO/x0n+o91l5/1PcS54Bu3m5BD4+p9foZW7FL19y3+ptT35ts8O0TIfqNTRy9sef6Xn/ZbqxcwB9Tp87tRYHem2wvnV9BJ2NvXD8HNLXXDJBb+8UZLnOgL73zTUoASSIGAYvJgLLqHeRAV6tX3bxVOwCcIdwb29jKl/HwCSM/xaJYiUvjyZAmPsVD7k/drAY08z/8EiNj91hVn8dJvN6vf0Ka2WVzTL3+5vrEroC/RK2yLQW2oMDYG9fPAXvtpwMVIAc0sVFaChf5B14Z0r1VM9ClX3IBXuDDH+e+Oz2TTznHqr4ZSx4btkry2dt3B6ZzJ7YlW0jqP+fE5hOdx6oJyePh2IHv59y3xknuiXIv7l4bbz92XMAfU6fOna0Cm76xpoRz/35MO0Fkzv7vUrgwaQheK+gPj1MCGHwJ0oqJOl/dEhOTDPWe8gqccivRjvb4aUGNftWf4nR4cky9Q7fVj+o0DvJ1k2LKK3nVE48mQPWhcWaddH6sbf5koolYbTfJC/ibqFdtT1KBsTfjtgec+wIQAh55D7AexxK4AFm2hwQv2gLP3C9xkTgn8PJpQ1tMGXDYy45c7T1OHytx8Ly57h/IPvfnsNdN4dy39zF2TB/4V19jtvlcq63Hip6U56axtkzKPm7fvprrv2dXwO8pU/Vnq8DYm3ETUeZAg9XvBThHALskjjwe9rLzKj3bUCYxETh8fItJNtgxttaK3eP0PvDjvrRdpYlHE5JPeC393H/rWG3kF23XnTCyf3zjS7FSnpvG2nLOb6Yv8TvVfwF/SqE6f9IK8GYCRP6m4njdN3JPLPkUcAAQ/QpEgoaXtZoGuJxvgbrXn9erb3wAkovvi7FHD+m3BZm8vUD8virHN+PwrSL6oU5JNj42/6Sxisl+GBy7fE3wJT/kcxJ2XEdizlpqgpnrq9ff0pjcz1jbsXPuY+lxAX+pYmV/MgrwphIQyCkrLX3DTdkDMMADvMn1NQbAzlex9C9fDkj92b1W27RpQVHx51w+85M5xEE8APhiIrD9/GyvVTm2ik/tGYtPXMSHjU8kPlbO8Ukj7//7t3ZqHMTfu1ayyfklzYdPS5r0GC9x5+uefZxauYB/ale0xjNbAQdCXpXOdjIA2mEEyARjgdbBB2gEbq3ee/BR+/xNlbeklfZUvPKTn2dXHL7FQixaEa9W38Nee46bmFSHfnwaEOSlR34SCDvaAFzt4cuHYlHZv1MGv5psxr63xnXQJEGfxKPrQpzqg3Nokre43M8pHRfwT+lq1lgWKZCBQHmd5BMHILmA5XCDlLoVOIdtC4AluHkOfPDlSaBmZey2fjx1U0/jXMWWvuFRnzT8y8mIX3AlJm1/3P6O370UA2VAKqBKP9fD4/Rj+Vcdsa0mnTQZsvrHXx4/8J6TpJ9io430IG5uBCsG8rl+5/R9iDYF/EO8KhXTWgq03txTjtZpk31eBsjDsFwBbIC7HwN8YEPdCrSdL+CSX2AIWLUdwl+yOqRYoY4lgElftFGuY3xzrC0abIGeg1wr47y9w0TAubw6VtyM0Sc6Hyvn8hjoO383PjaricomIcrYbpJ03Z//c79zKY5dfQ/9JrFus20Bf5tqlq8rU0CQERwp7zoJGuQ6dljmG5OUAZ1vL3hbjknyBVAFZNoJctQ7LCm3kvzk1TFbJfjL2y0AnT48Jo2HOHx7h2M/x5gUv4/BffkxbdGDCYhcbfOkonEySfLJQ/rJvjXuJXV5i2tq8lzi+xBtC/iHeFUqpsUKAKoWHFuOgIXA1jo/pw4fQK41wbj/3nGvD/frE4YDFRtWy8CQnLKS+gOoutErXQRP7bVn2OkGrveVdWVykXb5HOUlSbHm+DU2flJR+/yaYNT3kn7GbOlb2zrkHstYO51rjUHnDjHfBfDfFRF/HhGfs99AeW1E/Onw61f6BSydvh4RD0QEv3n7AlWO5fUDKIf4UrramHjjAaqpFaDsWqBeMoIx2G0CgexXcManEscAcLU6To9WahLKkBfsyflyNPrJK39t9/inCenV0nUVR2OVrjiVY7cE1LLvfQqQ323l9JO3peb4ljabvpbm9LUtm10A/3kR8YwG8F/VgPjTIuIzEfG4iLh1+JnDRzfsLlUV8Ld1+U/Lj0BB3ksZqJTXSXqzZxCqXhAAJi3Yeaz5eGri8jHQj24S+81WB3w+BuxqJ8iT97ZMcnwaD/U+8VDOaY5NbqOyj9MnIZ3fRk58miTJW2Po9bOP+Hp9r1u/C+AD51tmAp/VPf+U7o2I56rQywv4617uw2/HG05A8Wi93o/dpnfs9hw7UB3I2a4Vh/fRsvdH/oAooCL3fWrFAHQBJlsYK5u7bgDH/Xp/OlZ7fAPpDPS55Qx510J9ea5+NZn5WHtAnnu/wfvRsfrD91IYy8dUvgm09xHfVPxLz+8T+F8ZfticLZ+bBpi/LSJebmB/Z0TcbuXmYQF/6WU+Dnu9gQQUyiSvB5DAM9v0RuhtBQ3qeKMDOOoEXvnV3vmSPnr75Q5fAElyyPh5jns3YGlHvNp60Bjytoz741l9yozD6/2Y9lMTm7T1uIEwsfrkSUw5MWbvTxpku15Z42z57rVZUo/fqTGM+dt1fGN9r3NuX8B/UkSwVfN1EfH6iAD6pLc3gP/Dw7mc3TEEe9+1a9fWGWu1OXAFMlAok7yeVSn/gEhvVenD9LbZ3s+5Xz/Obdy3jntPljjoOBbMAXc+p3LvKZHchjKJMUgP+cg5YyBGJov8V62KSWMZy1tw9Emo1ZY2TKDESE55Ku0bolNjmIr3mM7vC/gOb9/uqS2dY3q17DjWFlDo0uu1wgdirMx4swK9Hkio7z2F0fOrFb76cN8c5/6e/7Mf6QJcf9hE3PIzBmkA3OoDWDvIKZMYv9cTM3BlzBdbRQbasRV3q998yd2G4zFtpZO3yf5yGVt96iKnvMu07/52OZY5vvcF/Ccb8V8ZEe8dyk9PN22/PHwSMPNHHtaWzpxLe5w2PTh4vY6B3RQcMhApe5Iv8t6x7Dnf6i+vmgVgtlK0svZ+5Qc45z383ph642CCUH/k9Adoscf3amVtk032wxM7TB5s7fjYKFOPfS/lxzr16YTxtfru+fF6YtcWFPpQ3mXad3+7HMsc37sA/nsi4s8i4q8j4k8i4scj4t0Rcf+wh//+iPAJ4K7h6Rwey3zRI/H+yJoC/pxLe/o2c96svZVxSx0Hfut87g/YUpe3dACVYM6nhda9AO/Lj3MflJWAb4Zw7psyyf3QPyt76sh7W0CqV66JpAf9/P0++ivVPAlRnpvQgokH/cgpbyu5zvK5y/7UxyHluwD+Iwm95ZoC/iG9hPYTy7pv1ryizfCSX+p9hUu9UrbJMAfqvn2i1TEr3qWrVfrqAU9xkOu4tcoG7MQgYJNzU5lYWHkTL2NQbLKj3KpnkmmlnratmFrte3UaG/m2ElpdTxwAACAASURBVL6mru82+9tW3Nv2U8DftqIn5m8Xb76lEuU3K6ABatT34vN67PPKmBiwAX6saB10HOM/22CrvlkpC5jYAzn68K0Rh2terXp8WY/WOeoELPkVwNlHZwzknKO+97gm5/TJhO0cwZ689wdZjEl651hb2uYtLspXnYjfr5eu71XHte/+C/j7VvyI+nPIZGDNHUYLXnPbys7frIIZeS+muXHnG5iAm3/uN9tQJqkP7JkIHLTaEuEcWyyabKQFkBS8yTWJcF6+M2BdA/yrD3RQH+SCms470HVMfyR8qo6cspJA7hOY6yK7Vt7b6mnZbrtOGktL+adM/Pn66vy55AX8c7nSa4zTIcMbxYEwx53eZGNwzn5ab1j5IQb/a9JeTHPjznvNAJO29KeUbXw/WrFSJ9CS6y9WL63E06SQ7aVRngwUi2ugZ/4Fa7aTaK+JB134p/OeMxHoOtKXn9NEoLGTT2kpDRQnbeb49T62dSyNpKXHRB+tWLfV97H4KeAfy5W6gjj1BgIec1d3HuYULNyWY/XXesPqzSogjsUkP2M26g8oA0Fy2uVEXc+mFxOrYlb1bPNopa0cwHKsSSFPYLRj/NgRv+CseCnzKSP7kz3nsMnbKi2w9z69uAZjWupc63pxnfTJxv3t8njp622XsRyq7wL+oV6ZHcUlSJHPSUvt3SdttUfu+9+9vue+YefE5DZ+7PFxPHZOti0b6pgEBTsAR/yakKhn5e2g9eP8OKQmJ7VXmX5yok66at8+22eYq2/i4hMJsfKJRvXkrU84YxrNvV45/l2VdU2yFrvq7xj9FvCP8aqtGbPeEIJUCyZrum42w7+2H/gDJCA11rfi2+YbVj7H+m0FTzuARt5arWbYCaKAlr4AqK/CHaxa4SsmfSKgH5L33YtNupLTTrGqLT69T+zQ9dI2k32PD5MT5xQTfpTkkzwfb7Ivnn1pDOp3ndx9rtP+1NsU8E/9Ctv4MqQor5vmvLGAoENHx4Cn1/ccv0tiXjJm9a1VNvDTX5IqdoeyYAco9VgmYGViY4y5Ld/vDuw5p0lh9etXw6854YcYplLWlTKJtvrUkX/chO0ltPAJiRg0UZFfxGTXx336ZEE/nOMffsmXpCm/S3yV7XwFCvjztTp6S73JAI7esOsMSn4AxJifvK1Av5v2vTRexTrVr+wYk++rC/TK9cdFxAH82afO++WUqc9PzehrFnxSyGAWvMfGmXWlTPLJLX+6kF9i1ljINYHlej4h4M8nAnzKL3pyft2UY92W33XjOZd2Bfwjv9KAijcP+Zy01N59qq2vEsfe+Nhrr5kcqCyJtdV3HqdiyvVz2mKj9g42QZ+x5R8cB+Jqp9W0VsYCKWX+aUWMHyYR2VGmP7TIf6QkeHv8+bgHZ+qJCf/+qcM/OdCn4MrYKJO8nvOKl+tGe/nUp5exiT7H2yqju8e6Lb+tvqruYQUK+A9rcXRHetMAkrlvQAGOfEnyvhxkU/0CoXWf1lCsApnGqT1vckABoMh7Y5KffJ4y8a/gbGCjjj6BILluvpLLB+cEcIE+50CSCYLxEyt+qXPN8JfHQB3+1Ve+TnmSIA5po7hp2/JDXS8O1Qv2jId4mYQUD/7XvZ55HB6fH2e7Km9PgQL+9rTcuyeHDm9MykqtN5De7IID5bkp96UV6piP3N8UjDwWb+sA0uo0w5Wyr45pT8z0CchaY85jcrCpPXnrGIC3YqCudYOUGHgy5/vf9OEV/Fs+1VcvXumT/7BJceTXgOxz7n37OdVLs9bkNBWb+6vjw1OggH9412R2RLxBeQPOfWNmwFGem3p9jbX3/tg+ELj1CaEFYUHn0hYLK83hxqZ+1EOQ85w2JMWKf/rUJJGBiJ2vrjUhCXg5vuzX+9Yx49TEQY4PzikG2fFpIfsndjSTLblfI2mTJxtNMLwWsFmS5JOccWv17vXy59czaymbyg9bgQL+YV+fyeiWvDGxbU0Qk50MBq2+Wm1lJ3ACB8Fe8BPUHByKDxACYj35Qs4TL7ThSRdBk1wTQd6nFmjJ6Zt+MhDpj3b41Y1U2Ss+yoKuA0/nFQsx5j40HuoVj+yV+/jRMsNc328jLfHDOLAbg3PruuQ6xbcac/qbAfrLSfZ5nNmuyoerQAH/cK/N2pGNvTE5B7jIl6Y5bdW3wAQ46E/AAhZa4WdwOFBZKQvmyleAv/Pu1VMxra0RjUcxyL9iyGP2/jLABWRywc/9MonIxlf12PBPGus4g7w1QRB/3q7hE80KyCP9adxLcx+/xqKcyaSVNB7ysTTXbsxHndu+AgX87Wt6EB63/YbDHytLgbz3hneIAFzKSh6TH/t5bbHQlr4AkIBHHeeZMKbicP9+rL7IqdcnHvUl4CkH5q0x+ATmnxzwqTGQU1Zfei6fvDcJcZNXfXueJyQmjJYGvbH6uHXs48ef96dJTrZLcvltxbfET9luX4EC/vY1PXqPvNm1XaDBjIFcNuR6s2t1TXluwlZbLACIY/kRIH1vn3MO41Y/isfhQx3tyHX83a+79xLwgB+QJQb1ja2nlk7s2zs4KZPoT/X49bgVAzk+ZUfuf6wl6JPrmHHpngFt50zKPobcd77ubjv3mLER1yr+Gddort+y21yBAv7mGp6UhwwcyiTAoNWwr2hbg3eItM7nOtn7TU5gzuOHGUA5DuITvLNfyhk+TBgtKL7w5z96CbSCLmBlf58c+NM/SXFoIlEceYWuG8l5S4dyy49PaPSp7SyfAIlH8ZFTJo6xG9Srzvb0n7TRZC3N9tR9dTOiwC6A/66I+POI+Jz90NUTI+IDEfGlIb9pOPeoiPiFiHhg+PnDZ1ib7mH94tXIFd3wFIB1mFBW4o07BlfZLckFB4AFUNkGARRjWzeKA8i24O39YytAkudJRavjDGrXwI8FcJ9I2PbRTWnGAJzzBNHT1f0wbuLRxOr3CfCnWMkpExe5jgX9QwCtrhF5pcNRYBfAf15EAG4H/psi4s6B4ORvHI5fHBG/HRGA/zkR8fEu5e1EAX/7LyC9QXkqxAGnlei2e1R/APQCWK9++C9Qcz1gVPK2QI54gZzbyJZJIY8HKNOnVs2ryeY191ys5N0+H9/+jt9d9aPJhn59ZQ389cdW2CjlOHSOsQjw5JQ5xwTxY2ny1bXwNpoYBXnaogM2lUqBrMAugA+ab0nA5wfK9cPl5JRJvxQRLxuOydzOqi8fFvDzZZxfBgQZCAKIVoiCHFAEvNl+fm9ty8v93QC2+hQIyVVHDuyIg/oM7BbsNM781AtlIMnYaOcThraQeALI+/Zj7PkHnIkJMOdJkpuysnEAc4w9uSfFSu7aKDb1T1ul3Gbb10j9VH5aCuwL+F+7jOz46lC+OyK+1859KCKeZWU/vGMI9r5r165d+VXwN9yVBzMzAIeJVpM0BRaCCzkrVmCoLZYWvMa6nNLG+9PqHqhxzDkSE41ARy44s6ft9fqiMuDLmIhVq16OtZ2jNkCdesrailmN1Vb4rPxl4/HRRmXOaxvHV/icv7CxrR7Xe0y7njb0nSeKMT91rhRoKXDVwL+nAfxnOuVbx1e9wu+BsyXwIdU5TICc4KrxUOcr1xYcAd0YvORLdr7ClRayoT89qiggC2rsU6tuLKcfAJsnAkGXPnyLhb61wifXKj1/4yWTAT60WicG+qLNjbgf/gveSxOH3YfQhEBb2khv6dDKV/HZr3ApPumiNtjhj7xSKTBXgX0B37dqjn5LpwfOuaJvarfum512wBr4ZGjLJ2Dh3Apu3IDUX7im7Y8evFwbgbAFf/WXb5aysidxXmBmxX0RR/pL295kQBuN0yedld/GX9di2/KliUPn2L5hawUQKz7y3Ac6SEvFQd9TyceN31Yb6nSN8nWc8l/nz1uBfQH/zemmLTdxSS9JN20/MdSPZoeywl/yRt7Wy2zTNzvtgVELJMSYgQ2sVyvU4RerpsaMX4EQWwHzxmr5kX8slFfylJUUK+DUvr0eUxSAWzl9aVXvWz3AkQlFY8LO41O8q5u5w4QhW/VDmX+Mke0i2hNbT09ib+3ba4w5d/2Jh3JObkMsbiPNevFkX1U+LwV2Afz3RMSfRcRfR8SfRMSPR8TNEcH+PI9lkvOYJomnc94eEQ9GxP0j+/eD+Y3sqoHPS+Sq3lj+Zu8BYZP4GBdgxDf/BDpy7ZcDsV6ivbZXMizli5W/IIW9tnXIKefkY8an7jEAZvnMOedkqzgYDxOKxpf397V6Z3zEQb9MGO7bJwgd5+sgyOfJhnp8tsaoMXNO8ZG3bPHjMVEmqS3j7bVVP5WfpwK7AP4lOO+icAjAv6qXi97UQIY3dQsisln3jU97wJS3W+hzymdu42DyY4eUVu+9lbLGk8ecV+vuXzDWtpLa4kvjA/6yI9eee4YlsWobh3P4YoVPvO6X1wS2zTjsJm/2n19Lio+8lbg2itsnT+p9cqNcqRRwBQr4rsaRHAsIwAV4ZAiv88aXT4cMx1pF08cYTNT++T/7kUvAc/jpGD/Amjgd2tT3ICX/OT4BOK/WiVswRif8elsuNWXffhobn14aHocf6zwTg8ZJjk/i8Cd5KDPZtGKSn7GcfjVunzx69WO+6tx5KVDAP6Dr3QLIWHgAowWppW982eMrA0RAZLultaIlPm+v7RlBTytRcu2/A2f80p8mFNkD51bqaaN6ACotyDWhcL6XOKdPF4pJk8RYu54/6vMKn20drpMmZ/zr00HWe8xvPqdx5zh79bl9lc9TgQL+gVx33qiCD3l+I7fCxKa10sO298Zv1eeJQ6tPh+jYqjS3569R+eMl9sQV32qyGJ6wAXQ+EQj2vj3h49U4xwApmyXAznHPmSQ8rt4xcG/dqFU9216MhXETL3FUKgX2oUABfx8qj/QhAOe9b+AzJ6k9eS/JRqtMgZMysFG9Vp+sdgHy3FUv/i/Anp5eUR95fII8uW+/tMaRwdwDpMbZ8tHSBjufZBXr3PYtn726VV+DrmOflmiPLWMci2OOTS+Wqj9fBQr4V3jtedMCSgCsJ1sEQlbX20jeh25K0oduZgr+bD2wKs1/gASop+BDnLRnVZ+/dVITF+PR2DwnDn2iIFYHmY59QkKvHphln/30dMTuYsvKtpnog3PbTHn8/FFbS1f61WuiF8ccm23GXr5OR4EC/hVeS97w+mi/gv6w1QGEMnCAXGubYCr8S30MT6Kwkr8EfytzzoE8Z+IhNm/jx2rPhOD19MM/h5qDLO9zC/LkLSDSVqt1fTLRZJa1lGauDZ9otM1EXD4JyX6TnInPx6+JMPv0mIiDck5zbHKbKpcCKFDAv8LXgQAn8AlqGVAZqLoRmO1aQ8FGq1hy9SFw0rc/QSLoCU7YTaX8BWWCp09c2YaneQCXj8FBJh/E4eBzG6/PQFX8bpPHQd9MHtgwWRDv6nh45HJqwsj+xsqr62BfmeDj9nYek0+GS23cvo5LASlQwJcSG+S8STO85rqb07b1qJ9gJICPAUQrX3K3oy2+mUAEPoc/ffhKtxdr3gZiW0d6qI8XveXyD4ywVZQT/hUH8CVeAEydxkkuG3KNhzgFeXK2ipg0fNLJ/VH2MemYyYOx58mm1X5Jnfwr5l7bOXbSlbxSKTBXgQL+XKU6drw5AY8APPVm7rgZreZN7TDTMX1qa8bh5856K+IcN9AX/IEksNTNRfqhTjdz88SRb8gK5jluQRQ/PZ2o12ShY/y4xpRbNhdx8907M772wHXyY2mjyaYXq7chpnW23PChcc7pR/aux9x2Hm8dn6cCBfwNr3sPqNntOm9qQQ1fAkpvNQ6csFdSf4Jlhhe2QJ3J4wbcbzwXDzR1AxlAu40mGnLfg86ra8qkvI3zPW/44AUUFd8cWLnGxKRx0tbBp4mA/jW5ZF2kz1S+JD76dW0oz015DEv1WHd8c+Mru9NSoIC/4fXUGzYD1d3KBgj1VuLYAwqtsh1kGQKUgR722OW+Oe/bONhh736oc0j1wI5v/XN7QV1x+zndY8hP7DB+/q22aoZn8sdW+9Iwx0qZ5BMBMeaJIOsif9vOuWY+fspzU28MY+25jn7dW9d3rH2dO18FCvhbuPYCMHnreM6ecIaaAOwga4Xq/el8voHpj1bK3lfB9EU/6tPhpf14IO71gi59Ai1vq20mfHqb3jH3APBBbK3k/tmbZ3zUEYODz9trnF7X8r2NunztXJsp/8TXG8NYW41PGkwtJsZ81bnzUaCAv8VrrTevVrFsj6yO0w3IFoTyKpF2vRWq3uwtPwwn76njS3FoH558tX0z7M9rGydDmadpSA5d4E5ZKQNP8AfO9IvP2+yrGW5JEwH22AG+1pioExT5dMC9BdoQv+49LIGs4iaf0tJte8f4QE/GOecTS/azSQxchwuN7VNO7qPKpQAKFPC38DrQG9ZX8gBJ4APcrKh5c2LbSnkFzdcStOxpD/zGAElfGdyUFY/OaeWfJwidJ+cPhEgZ6g7Y3B/j5V+GM20YUx6r+qMN51uJtkyKfG2D7MlpIy2Wwn+Olq1Ych0xXxV0NQZ06E2YOd4qn68CBfwNr73ecLzhWXGu9qcFO3tSRLDDvpWAhoBM3gPfHLjQB7HgR0/aAAT+OSwBNSkDW3HQVvF6fKzcPb7eFhJ+eyAUwIG0Vu89YLnGvU8iilnjw/9UmqPllA/OK76rgi79MxZdqzkxl815KlDA3/C6Z2gAOeoAzgV07Sf6qGu9MedCY8yOc3rjt46JSd9OSU45x0p8qseHUu7XbTjHRAd0ydVurI38kmOnuL1ex5zTxEEO9OnLt6V0XsAfu3Gq/hhDK271uySXT/I5ye39eE7bsikF1lVg38D/yvDLVp+2jvn1qw8Mv4ZFftPUj6Yc0g+g8GZtrVAdUnn1qZV1vmhz3/huB7SAm1bKgG9spXwxCQ176rLPAG8BWP1iSx9qS73OkXtSfauN27WOva2DuRVr3ibCRkl+yPknX0wYfj+Ac/tI9CP9iIVr4lruI4bq4zwVMO5OYXYr5wH+tyVP/L7tnUMd+RvT+UcUDwH4vGkFRT/Wy0hv6tVWyvXLP8XHFohSq63OTeVATStack0s9ElsOeVJqGWvuFsAUqx+r6LX11jfc9p4HEDRwdwCPvbUM/ll2Auu5L37FXNiymNatzznOqzru9qVAmMKHALwvxARTx6oTk55NO0a+AIbeSs5jICI23lbHfdWn3P9tGKgDrhdAr6+fM22Vbyt+gNurCoBKcc+BoeRQ1BtmQhabTVW8laiXp8uyHt2autxMDFpcuL+gR77VBytyanlh/HkPwajLmugtrvKGTua069W+PuOYVdjK7+HrcC+gf9HEfGpiPhkRNwxUP1rie5fTWUVsb+Pf9euXduZqnozLoEIcCL12jq88Ct7r+cNr3r8AAIgR07ZE2Vs80TCo4+rNiNAVVtyP5Z/6lp9059Dl2fn+TpkYqANAGtppj5Ydbf8qt+cy2eGomCvTzSKCTs+eRAnbZXcDzGu4tDN9M79CrXdZS5dyP14l32W71Jg38D/WwO9/0ZEfCYinhcRc4Ev8McuV/gAA3ABFIewv1RaEKFd76mUnj3w0UpPMMJP3nbIW0AOV4DLSp82vbh7QGnVU+crcWIkpjy5+CeL3LffuFasgNrhjM+p5PHp2DXTCt8nhbFJBx8k+VJ5Ko46XwqcigL7Bv4FtCPitRHxqmEL58q3dAQBBwqw6kEBu3yzlBUsq2xgyFMw3rZl75BXvwALgDlQAajiy/vnwNbjoK3HTTtBN9e3VtyAWBOHb584sD02jtkmwfcKvMNWET58Na5yji+/kTRO127MRva9yTa3rXIpcM4K7BP43xwRTxiIz/F/i4gXRsSb001bbuKOpm2s8AUKcv45FIEv4KO+lagXLPWIIODTClZAxA/J/TsEgZ9WupdAO0Aff6xi8cNNS/yuoDrsveuvO9Ufq/Acd/ar1XfvU4RipR+PVfCnPvdLfLSjL5+QvA366tOIdMnaqm8mB+yxy+NptcEGW0065PhSUmxep3OVlwLnpMA+gX/bsI3DVs7nI+Kugeo3R8SHhscyyXlMczRtCvwMFocUQKM8BhrOC7IrCF+/8cMZWhnrHCtvEr50DghqkmDSEIQUE/1nOPLXrvJJzvfb4JuvPfB69UefAJAyf7HrNsCaWBSPzukvamlLLIJoa3sH3/oDKHKNQW0dvIK2gEy/Gci0I7lOTHaacHr20kw+1VcrHtn4uaHbykqBs1Fgn8AfhfiSk5sC38ECYFn1ClJAGMiNAaIH4AxXAEQSmOgL//6IoQOIY4GWeBTD83/udy5Bm++i4VxrpU1/9CuQew5E9SlEuc6z4qfvHI8+yfjklCc8yp40DveVNaecU45bMaJby36Ozzk2OY4qlwKnqsBZAh8QCfBaPQpSwF+gYTWuLRCHV94OAb6Cc2/bwv1jC2gzyHo2eYK5iM9W6kwiijGv/NVXvsmpHwkhB+gag/z0YIkmmijIKU8lfGbNcxv609jwywofjXSNsv0cn3Nsst8qlwKnqsBZAp+LCQgADLmnvMrUFohDJwNP8MsAd786pj/fJlH/5PQBdIEvNg474mKLhglF4ASIAqT3/Q/f8MFLQH7Wz/zXi7HSj8atY1borUlIMXkcjIP61hg0xl6u/shbKWvfuieR2/V8er0f5/ZVLgXOSYGzBX7vIs+BeQYTq+sMxZ5/4NPaJsmraSAsMOPLoaVj4hD8fULKvzFLeSzhr+Un9+s+FAP5WJprhw/GqwmMT1eUp1LLP3WMJ39imfJV50uBU1fgbIGfQaFy3q7hpqRgru0abLQiJqfM6hsAT6Ue2DO8KQv4GWB+jmP1rTHkLaC5Wy7en46nxjN2PsdNeSzJXnrPtc9gzxpTrlQKlAJn+n34AotAIdhSZvWtvW2OBVdgr60bcv1Va2//O7+46BPwqC+gpq0bj8NtVO9bLv6UD9tNbK2s4rZ9+NUYZvzVbY6RctZmCrryofG5/TrgbflRHznv+cdH7xNL9lHlUuCcFDjLFX4GBStkoAnIyX3FLgDl72Bh64F/gFttOcZ3TgIQdoBIkwgr71bbHB92Apgeh9Tkoy0QxbOajNKjpRoD+VTKfbfGk33k8akf8nX2+rP/Xln9tj4RcI7YFUvPR9WXAuekwFkBXxDwVTYgzat39uQBsa/AWckLsuQCLSvuqadJehDNwNJEQE7f9EGOnWLPv/gk0BMztoKf+2KMmmzwM5ZyTFP2+BobXx7HWN/rnJMuc+Jcx3+1KQVOSYGzAb5AJvAJiAKGAO4wF0ypox3/OPbfZ9WEoX301otDfQvGDifioC2TjsAscNOXP26Jb7Z3qNc/xcT2jsZELl+9J3lacapOmnicOtfKe+PrTQQtH1VXCpQCu1fgbIA/Bh8HFrDVI5F+nMGpb4vkj60EV3JBN8OSMjF4Pcf64ynA7ZOOgE7Olo7a508jbsdWFH34VtFqohomiDx5bPPlpfjy+NCkNdFts+/yVQqUAvMUOBvgAyJty5A7mJDKgeXHeQUOvORHsBWotb0DZAFd7iNfEgAtH2M5dppUfOLJbYiNvi9NVGkrivHsM7mW++y3+ioFSoFHKnA2wAd0DsgMvhaYqBNoyWnDCjrfwAWyq4ng+o0nZuiHMittrepZmev743UZWn8RqxjxyUQCvP0pHep0z4BPIkw+1NGfJh6O9Rx/jpXto0qlQClwngqcDfABnWBK7uAD7K2nSYA14MWenDIpTx7AnHPUA+gVlO0xSX1lsvrHnjS2wudZek0Wvf6IWxMVNkxKwJ6c+las2FUqBUqB81TgbICfoengYyUuGJNTJuU2Ajsw5RyTBrlDVxOHr7jdN8fPfv0HLiYIbQ8xKWhiyHvtgF+r97G/QFUcgr1e0h6r6sh79m7TO96kbc9n1ZcCpcBuFTgb4CNjD3z5yRfKJAftatU+bNn4ChrwUeYTwNj+ukMfW/7Rjpj06UDwJ3doq4+8eifGdcErn4rD+1sNfuS/TdqOuK1TpUApsGMFzgr4PThSr60YcsFPYAO0DnPK2p8nB5oAXatwh/vYMX6APan3KUPXvxV7L261GcvpV3F7HGNtdG6TtvJReSlQCuxfgbMBvuDdW9G2gMrlUD0rcVbkwJFtGyYGfJFTpt4nBUCvm6ts0Tj4+WtZJgefXPKnDD1iSf+9lNvok0nP3uulB3H7J42x/tQ+t53TRm0rLwVKgatT4JCAz88dfiEiHrCfPGz+Lso6P4CyjVUpYMMPYPXVMWXq2eN3sGvPn8lCz9sDeyaAFfBt6wbfTADU+3fkAOMeUKc+FUy9rLTFRZz005sMW36kRS+2VpuqKwVKgatV4FCA/+iIeDAi+BnErx9+CvFpTdpHxDrAB0xaoY9BlMvhMPNjXSrqBGdfpQN9Bz5lErkmCIDOP+zyVor68m2ibOPxAWzdJCan/dyErSDPJxHF1+pvrs+yKwVKgcNW4FCA/9yIuNcAfz0i+NdM6wCfy6AVLXkvOQiBOSDNK19sWqBtrfDpZ2WfVu/aSuFcToqhZaNziomxMKG0/GS/XvZJSH8w1urP29RxKVAKHLcChwL82yPil43uPxYRb7Myh3cMwd537dq1xapnUPYA6SDsrcbdxlfEvWf96Uv7+ORzIN2bnHp9LxVEegjyc2Ja2kfZlwKlwGEpcCjA/5EG8N+agH9RXGeFn0HJtgl1GfwOQq3wMxSBY2t7iHrf0qFMynvt/kdVrZcDMWjPn9xj9PiIYRNQ46ulQSumqisFSoHjV+BQgL/zLR0HpbZpVvvo1y8DlUvqINQxYPVtnB5o2dbJX6GQn6ZhO4ZPD77/7y+l/Be4lD31YqK+UilQCpQCPQUOBfiPiYgvR8StdtP26RdL+nSwzgofAQTKF73lo5dW4lO/+UrbvEqnnBP+dSOUXAAmB+5AXjdH9Umg9Shl/v4byq00FpPGqhha7efYtNpVXSlQChynAocCfJD+4oj44vC0O9TAmgAACXBJREFUzl2J8ZeK6wJfl4ivNhBwySl7chDqOK+6HdSyoU5A9719fMsm+2lNHHx68Pgot1L+5KCY6Ks18biPOTZuX8elQClw/AocEvAvQX2ssCnwe0/TcDkdhGzhsDIH4hyzn563Ylr22vPnXE7U+dZQy4Y2QF7f1ZN9qLzyNXxy8O2hfL+Cck5zbHKbKpcCpcBxK3CWwOeStfbaqXcQAnettHl0kdU45x3Sbg/o3Qa7bE8fc2CeX1Y9X6166ljhT008UzY5hiqXAqXAcStwtsDPl03gBMYCoR6lFPRbWys9uKqeTwf4o0zq1ed4vLxum9Zkk/1O2bh9HZcCpcBxK1DAb0CY1T/bKey3a0+eHDi2EkDO4KSstr6f36tv+VXdOm3UtvJSoBQoBaRAAX/ka5C1hz+2NSIhc65VeW7bq8/tvbxOG29fx6VAKVAKoEABf9hT17aN5719+7kvHV/5947X8eVt3K/XLz3elp+l/ZZ9KVAK7E+BAv7IjVrg39q3X3p5gCn7+Hk/f6mfbL8tv9vyk+OrcilQChyWAgX8YQ9fj0qyqvdVfus5+aWXcFd78Nvyuy0/S3Up+1KgFNivAgV8AX/BX8IuvURaQef9/KV+sv22/G7LT46vyqVAKXBYChTwG1s6rV+k2vSyAVVW0uSeevVuM3a8aXv53pYf+au8FCgFDk+BAn7jpu0r3vOpyb9y3calBLK72NvfRmzloxQoBU5PgQJ+44vR2HrZ9g3W1kun9s5bqlRdKVAK7EqBswW+b2HkLyHTVyoAfqC8JLnfqXZa4W97b3+q3zpfCpQC56nAWQFfMNbXJ2gVn79M7amvuWf0e2h6LxUBXH4pTyXFNMd2yledLwVKgVJgTIGzAb7DOP9oN1+joFX92B9bTcHZt2iA/tJPB2MXqs6VAqVAKbCpAmcD/EswfvXdDwF9baVoxa9ya7XtE4Z/GZpfAPz4M/zb+KMt91/HpUApUApsosDZAF/AFtSBMZOA4E7u5SyqTxj4oJwTdf5JoWWT21S5FCgFSoF9KbAv4L82Iv40Ij49/OPXrZSuR8QDEfGFiHiBKsfydX8AZQrqY6LnCUMThbeZY+P2dVwKlAKlwD4V2CfwX9WA+NMi4jMR8bjh92wfjIhHN+wuVa0L/E2FnTNhzLHZNI5qXwqUAqXAOgpcNfBZ3fNP6d6IeK4KvfyqgL+OwNWmFCgFSoFDUWCfwP9KRHw2It4VETcNMH9bRLzcwP7OiLjdys3DAv6hvHwqjlKgFDgmBbYJ/A9GxOca//5JRDxp2Kr5uoh4/QB9YP72BvB/uEn5iDuGYO+7du3aMWlcsZYCpUApcBAKbBP4HU4/ovqWYVLgxMFv6dSe/EG8TiuIUqAU2IIC+wL+kw37r4yI9w7lp6ebtl8+pJu2eupmyV/ObuGalItSoBQoBXaiwL6A/+6IuH/Yw39/RPgEcFdE8HQOj2W+yCaG7uG+9vDnPHu/k6tSTkuBUqAU2IEC+wJ+F97rnNgX8LXC1x9rUa5UCpQCpcCxKlDAn7hytYc/IVCdLgVKgaNRoIB/NJeqAi0FSoFSYDMFzhb4tXLf7IVTrUuBUuD4FDhL4Gtvvp6+Ob4XbEVcCpQC6ytwlsCvp2/Wf8FUy1KgFDheBc4S+Frh19M3x/vCrchLgVJguQJnCXxkqj385S+WalEKlALHrcDZAv+4L1tFXwqUAqXAcgUK+Ms1qxalQClQChylAgX8o7xsFXQpUAqUAssVKOAv16xalAKlQClwlAoU8I/yslXQpUApUAosV6CAv1yzalEKlAKlwFEqUMA/ystWQZcCpUApsFyBowR+RPzFEPh9a+T8tu467Y69zTmO+xzHzOv0HMd9jmNe51rDzrNKiHSO6RzHfY5j5rV9juM+xzGf67VexO96YSyS66iN61of9eVbFHxd60VynY9xvTDqWp+6Auf4Gj/HMfM6Ptdxz34P3zHb8rQMz3Hc5zhmXrXnOO5zHPO5XuvTInONphQoBUqBUqAUKAVKgVKgFCgFZirwwoj4QkQ8EBF3zmxzbGZPiYiPRMQfRsTnI+IVwwCeGBEfiIgvDflNxzawmfE+OiL+ICLuHuxvjYiPD+P+9Yj4+pl+jsXsWyPiP0XE/xiu+XMj4hyu9SuH1/fnIuI9EfENEXGK1/pdEfHnEcE4lXrX91ER8QsD3z4bEc9Qg3PMAcGDEXHb8Kb/TEQ87QSFeLJd6CdExBeHcb7JJjkmuzee4NgZ0k9HxH804P9GRPzoMNZfjIifPLFx/0pE/MQwJiYzJoBTv9Z/OyL+KCK+cRg31/ifRcQpXuvnDe9nB37v+r44In47IgD/c4aFzom93OcPh5XPvWZ+PSL4d+rpfRHxA8MnGyYDEjmfdE4tfUdEfCgi/vEAfF74fxkRjxkGml8Dxz7+bxnAxzg9cW1P+VoD/P81fJLh2vJp7gUnfK1vSSv83vX9pYh4mb0Q3M6qz+Pw9oj4ZRvqj0XE26x8ioe8UP44IgDD19IAv5rKp1Bka+OZEfGPBgh82/DxVmNju8tXSqo/1vwfRMQnIuI/DNtYvL6/+UyuNVuVfzX81f2vRcQpX+sM/N57mYnve+3FzOLnWVY+q8MfaQD/rSeswOMj4pMR8dJhjL0XyalI8IMR8e+HwQj4394A/v2nMuDhzfz/IuLZw5j+XUT8zBkAn/tPH44Iru9jI+K/RAQLOO7NKTG5n8q1ngv8exrAZwF0lil/nD/lLR3eBGxfsZ+t5B/vTnFL5w0R8SfD98j874j4vxHByu+Ut3T+5jBeXePviwje9Kd+rVm8vVODjoh/GhHvOOFrnYHfu761pWMvCvb6vjzcyefmFjdtn27nT+WQ/dxfjYi3pAG9Od205cbPqSat8Bnfb6abtj91YoP+WER81zCm10YE1/nUrzWfaHgC7ZuGG5TcuP6XJ3ytM/B71/cl6aYt231nnbiLzVMrPK1z14kqwR7eQxHBY1mfHv4x7puHG5o8lsneHo92nWpy4PNUFi98Pu4D/8ed2KDZx+fP67nebG2w3XEO1/p1w6Oo3JN593BdT/Fa88jpn0XEXw+fYH985Pqy2Hv7wDe2s852//7E3uM1nFKgFCgFSoFSoBQoBUqBUqAUKAVKgVKgFCgFSoFSoBQoBUqBUqAUKAVKgVKgFCgFSoFSoBQoBUqBUqAUKAVKgVKgFCgFSoFSoBQoBUqBUqAUKAVKgVKgFDgEBf4/ZIJgE/SDF1IAAAAASUVORK5CYII=)"
            ]
        },
        {
            "cell_type": "markdown",
            "metadata": {
                "id": "ILCfa8okI7ZQ"
            },
            "source": [
                "**Pergunta:** O que você consegue perceber neste gráfico?"
            ]
        },
        {
            "cell_type": "markdown",
            "metadata": {
                "id": "y3yIIA58I7ZQ"
            },
            "source": [
                "Mas como podemos fazer um gráfico com tantos pontos assim?\n",
                "\n",
                "Certamente não queremos digitar cada um dos pontos!\n",
                "\n",
                "**Vamos usar a biblioteca ``numpy``, que implementa várias funções matemáticas lidando com listas de números.**"
            ]
        },
        {
            "cell_type": "code",
            "metadata": {
                "id": "7z5yhJUOI7ZR"
            },
            "source": [
                "import numpy as np"
            ],
            "execution_count": null,
            "outputs": []
        },
        {
            "cell_type": "markdown",
            "metadata": {
                "id": "PyK9VmmZI7ZT"
            },
            "source": [
                "Execute a célula abaixo:"
            ]
        },
        {
            "cell_type": "code",
            "metadata": {
                "id": "tl5UE_nQI7ZT"
            },
            "source": [
                "x = np.arange(0,10,0.1)\n",
                "x"
            ],
            "execution_count": null,
            "outputs": []
        },
        {
            "cell_type": "markdown",
            "metadata": {
                "id": "t2U03zAqI7ZW"
            },
            "source": [
                "**Note que $x$ contém uma lista dos números de 0.0 a 9.9 em incrementos de 0.1.**\n",
                "\n",
                "Note que o número 10 não foi incluso na lista!\n",
                "\n",
                "Se você não especificar o incremento, é usado 1 por padrão. Veja:"
            ]
        },
        {
            "cell_type": "code",
            "metadata": {
                "id": "7kHDnB0LI7ZW"
            },
            "source": [
                "x = np.arange(0,10)\n",
                "x"
            ],
            "execution_count": null,
            "outputs": []
        },
        {
            "cell_type": "markdown",
            "metadata": {
                "id": "vuGalG-4I7ZY"
            },
            "source": [
                "### Exercício:\n",
                "Crie e mostre um vetor/lista $x$ com início em $-10$, fim em $10$ (não incluso) com incrementos de 0.5."
            ]
        },
        {
            "cell_type": "code",
            "metadata": {
                "id": "wBXYc01AI7ZY"
            },
            "source": [
                "# Sua resposta\n"
            ],
            "execution_count": null,
            "outputs": []
        },
        {
            "cell_type": "markdown",
            "metadata": {
                "id": "fTM0GE8II7Za"
            },
            "source": [
                "### Exercício:\n",
                "Crie e mostre um vetor/lista $x$ com início em $-10$, fim em $10$ (**incluso**) com incrementos de 0.5."
            ]
        },
        {
            "cell_type": "code",
            "metadata": {
                "id": "8YxLCXfyI7Zb"
            },
            "source": [
                "# Sua resposta\n"
            ],
            "execution_count": null,
            "outputs": []
        },
        {
            "cell_type": "markdown",
            "metadata": {
                "id": "XabQBFHEI7Zd"
            },
            "source": [
                "**Podemos criar os valores de $y$ usando o $x$ e operações matemáticas:**"
            ]
        },
        {
            "cell_type": "code",
            "metadata": {
                "id": "PGdIi8qkI7Zd"
            },
            "source": [
                "x = np.arange(-10, 10.1, 4)\n",
                "print (x)              # mostra os valores de x\n",
                "y = x*x - 2*x + 1      # calcula os valores de y = xˆ2 -2x +1\n",
                "print (y)              # mostra os valores de y"
            ],
            "execution_count": null,
            "outputs": []
        },
        {
            "cell_type": "code",
            "metadata": {
                "id": "FFdSf40zI7Zf"
            },
            "source": [
                "plt.plot(x,y,'.')"
            ],
            "execution_count": null,
            "outputs": []
        },
        {
            "cell_type": "markdown",
            "metadata": {
                "id": "FKu74eIvymvL"
            },
            "source": [
                "<hr>"
            ]
        },
        {
            "cell_type": "markdown",
            "metadata": {
                "id": "0blds-ObI7Zh"
            },
            "source": [
                "# Funções matemáticas"
            ]
        },
        {
            "cell_type": "markdown",
            "metadata": {
                "id": "z8Qfy8A1I7Zi"
            },
            "source": [
                "**Olhe o que acontece se repetirmos o gráfico anterior, sem colocar o '.'**\n",
                "\n",
                "Ou seja, o comando agora é `plt.plot(x,y))`\n",
                "\n"
            ]
        },
        {
            "cell_type": "code",
            "metadata": {
                "id": "I2lzLh_xI7Zi"
            },
            "source": [
                "plt.plot(x,y)"
            ],
            "execution_count": null,
            "outputs": []
        },
        {
            "cell_type": "markdown",
            "metadata": {
                "id": "MlkOPgKqI7Zk"
            },
            "source": [
                "**Ao invés de colocar círculos, os pontos são ligados por uma linha reta.**\n",
                "\n",
                "**É por isso que o nosso gráfico (que é uma parábola) ficou com \"quinas\".**\n",
                "\n",
                "**Como consertar isso?**\n",
                "\n",
                "Basta **gerar pontos que são mais próximos**. Para isso, diminuímos o incremento."
            ]
        },
        {
            "cell_type": "code",
            "metadata": {
                "id": "VVECHjYWI7Zk"
            },
            "source": [
                "x = np.arange(-10,10.1, 0.2)     #em vez de 4, o incremento vai ser 0.2\n",
                "y = x*x - 2*x + 1\n",
                "plt.plot(x,y)"
            ],
            "execution_count": null,
            "outputs": []
        },
        {
            "cell_type": "markdown",
            "metadata": {
                "id": "i_QYL4oQI7Zm"
            },
            "source": [
                "Assim, obtemos um gráfico para função $f(x) = x^2-2x+1$ para x entre $-10$ e $10$."
            ]
        },
        {
            "cell_type": "markdown",
            "metadata": {
                "id": "4rxkNXfkI7Zm"
            },
            "source": [
                "### Exercício\n",
                "\n",
                "Faça um gráfico para a função $f(x) = x^3-3x^2+100$ para $x$ entre $-5$ e $2$."
            ]
        },
        {
            "cell_type": "code",
            "metadata": {
                "id": "CEOX2oMyI7Zn"
            },
            "source": [
                "# Sua resposta\n"
            ],
            "execution_count": null,
            "outputs": []
        },
        {
            "cell_type": "markdown",
            "metadata": {
                "id": "JsBQpSJFI7Zs"
            },
            "source": [
                "**Para usar funções como seno, co-seno e raiz, temos que usar o ``numpy`` e não a ``math``.**\n",
                "\n",
                "**Pois estamos calculando para uma lista de números (a ``math`` é apenas para números).**\n",
                "\n",
                "Veja um exemplo:\n",
                "\n",
                "$$f(x) = \\sqrt{\\text{sen}(x)\\cdot\\text{cos}(x)+2}$$"
            ]
        },
        {
            "cell_type": "code",
            "metadata": {
                "id": "kzvM_vCZI7Zt"
            },
            "source": [
                "x = np.arange(0,10.1, 0.1)         # 𝑥 tem início em 0, fim em 10 (incluso) com incrementos de 0.1\n",
                "y = np.sqrt(np.sin(x)*np.cos(x)+2) # sin para seno!\n",
                "plt.plot(x,y)"
            ],
            "execution_count": null,
            "outputs": []
        },
        {
            "cell_type": "markdown",
            "metadata": {
                "id": "fhsa1-37EeqS"
            },
            "source": [
                "**Note que usamos `np.sin() ` para calcular o seno!**"
            ]
        },
        {
            "cell_type": "markdown",
            "metadata": {
                "id": "-P-E9nzzI7Zu"
            },
            "source": [
                "### Exercício\n",
                "\n",
                "O algoritmo para fazer o gráfico da função $f(x) = \\text{sen}(x)\\cdot(\\text{sen}(x)+\\text{cos}(x))^2$ para $x$ entre $-5$ e $5$ está correto?"
            ]
        },
        {
            "cell_type": "code",
            "metadata": {
                "id": "zFSxlJHiI7Zv"
            },
            "source": [
                "x = np.arange(-5,5.1, 0.1)\n",
                "y = np.sin(x)*(np.sin(x)+np.cos(x))**2\n",
                "plt.plot(x,y)"
            ],
            "execution_count": null,
            "outputs": []
        },
        {
            "cell_type": "markdown",
            "metadata": {
                "id": "whQUsHT2I7Zx"
            },
            "source": [
                "### Dois ou mais funções juntas\n",
                "\n",
                "Se fizermos mais de um plot na mesma célula, eles irão aparecer juntos.\n",
                "\n",
                "Isso é muito útil se quisermos combinar gráficos:"
            ]
        },
        {
            "cell_type": "code",
            "metadata": {
                "id": "wb_cYZSdI7Zx"
            },
            "source": [
                "x = np.arange(-10,10.1, 0.1)\n",
                "y = np.sin(x)\n",
                "plt.plot(x,y)\n",
                "z = np.cos(x)\n",
                "plt.plot(x,z)"
            ],
            "execution_count": null,
            "outputs": []
        },
        {
            "cell_type": "markdown",
            "metadata": {
                "id": "hsYwznm6I7Zz"
            },
            "source": [
                "### Exercício\n",
                "\n",
                "Faça dois gráficos juntos:\n",
                "\n",
                "- $f_1(x) = \\cos(x)$ para $x$ de $-25$ a $25$.\n",
                "- $f_2(x) = \\sqrt{226-x^2}$  para $x$ de $-15$ a $15$."
            ]
        },
        {
            "cell_type": "code",
            "metadata": {
                "id": "ng53DUd8I7Zz"
            },
            "source": [
                "# Sua resposta\n"
            ],
            "execution_count": null,
            "outputs": []
        },
        {
            "cell_type": "markdown",
            "metadata": {
                "id": "Xt0Bw3SnXElD"
            },
            "source": [
                "### OBS: Algumas Funções Matemáticas\n",
                "\n",
                "A biblioteca numpy possui diversas funções matemáticas, tais como:\n",
                "* sin(x) : seno em radianos\n",
                "* cos(x) : cosseno em radianos\n",
                "* tan(x) : tangente em radianos\n",
                "* log(x) : logaritmo base natural\n",
                "* log10(x): logaritmo base 10\n",
                "* sqrt(x) : raiz quadrada $\\sqrt(x)$\n",
                "* exp(x): exponencial $e^x$\n"
            ]
        },
        {
            "cell_type": "markdown",
            "metadata": {
                "id": "aO2cApxgyrnv"
            },
            "source": [
                "<hr>"
            ]
        },
        {
            "cell_type": "markdown",
            "metadata": {
                "id": "rMoU1uGKI7ad"
            },
            "source": [
                "# Elementos do gráfico"
            ]
        },
        {
            "cell_type": "markdown",
            "metadata": {
                "id": "yZzuyh7LI7ad"
            },
            "source": [
                "Vamos começar com um gráfico simples com $3$ funções:"
            ]
        },
        {
            "cell_type": "code",
            "metadata": {
                "id": "9mMVgsiGI7ad"
            },
            "source": [
                "x = np.arange(-10,10)\n",
                "y1 = x*x\n",
                "y2 = -x*x\n",
                "y3 = x\n",
                "plt.plot(x,y1)\n",
                "plt.plot(x,y2)\n",
                "plt.plot(x,y3)"
            ],
            "execution_count": null,
            "outputs": []
        },
        {
            "cell_type": "markdown",
            "metadata": {
                "id": "NBR41dFRI7af"
            },
            "source": [
                "**Para mudar as cores das linhas, você pode incluir um parâmetro extra:**\n",
                "- 'b' para azul\n",
                "- 'r' para vermelho\n",
                "- 'g' para verde"
            ]
        },
        {
            "cell_type": "code",
            "metadata": {
                "id": "b6-YpN-TI7ag"
            },
            "source": [
                "x = np.arange(-10,10,1)\n",
                "y1 = x*x\n",
                "y2 = -x*x\n",
                "y3 = x\n",
                "plt.plot(x,y1,'r')\n",
                "plt.plot(x,y2,'g')\n",
                "plt.plot(x,y3,'b')"
            ],
            "execution_count": null,
            "outputs": []
        },
        {
            "cell_type": "markdown",
            "metadata": {
                "id": "tMMBz_WUI7ai"
            },
            "source": [
                "**Podemos também mudar o estilo da linha:**\n",
                "- '.-' para colocar um pequeno círculo em cada ponto e ligá-los com uma reta\n",
                "- 'o' para colocar um círculo em cada ponto"
            ]
        },
        {
            "cell_type": "code",
            "metadata": {
                "id": "4HyT4rfII7ai"
            },
            "source": [
                "x = np.arange(-10,10,1)\n",
                "y1 = x*x\n",
                "y2 = -x*x\n",
                "y3 = x\n",
                "plt.plot(x,y1,'b.-')\n",
                "plt.plot(x,y2,'ro')\n",
                "plt.plot(x,y3,'g')"
            ],
            "execution_count": null,
            "outputs": []
        },
        {
            "cell_type": "markdown",
            "metadata": {
                "id": "Pfqyv7GKI7ak"
            },
            "source": [
                "**Para colocar um título**, usamos ``plt.title``"
            ]
        },
        {
            "cell_type": "code",
            "metadata": {
                "id": "oxbEF2zYI7ak"
            },
            "source": [
                "x = np.arange(-10,10,1)\n",
                "y1 = x*x\n",
                "y2 = -x*x\n",
                "y3 = x\n",
                "plt.plot(x,y1,'b.-')\n",
                "plt.plot(x,y2,'ro')\n",
                "plt.plot(x,y3,'g')\n",
                "plt.title(\"Meu gráfico maravilhoso\")  # coloca título"
            ],
            "execution_count": null,
            "outputs": []
        },
        {
            "cell_type": "markdown",
            "metadata": {
                "id": "aKaQX_3PI7am"
            },
            "source": [
                "**Muitas vezes é útil colocarmos uma grade para melhorar a visualização.**\n",
                "Para isso usamos ``plt.grid()``"
            ]
        },
        {
            "cell_type": "code",
            "metadata": {
                "id": "C2zqFS1_I7am"
            },
            "source": [
                "x = np.arange(-10,10,1)\n",
                "y1 = x*x\n",
                "y2 = -x*x\n",
                "y3 = x\n",
                "plt.plot(x,y1,'b.-')\n",
                "plt.plot(x,y2,'ro')\n",
                "plt.plot(x,y3,'g')\n",
                "plt.title(\"Meu gráfico maravilhoso\")\n",
                "plt.grid()  # coloca grade"
            ],
            "execution_count": null,
            "outputs": []
        },
        {
            "cell_type": "markdown",
            "metadata": {
                "id": "t7_WRmU5I7ao"
            },
            "source": [
                "**Podemos também colocar rótulos no eixo $x$ e no eixo $y$ usando:**\n",
                "``plt.xlabel`` e ``plt.ylabel``"
            ]
        },
        {
            "cell_type": "code",
            "metadata": {
                "id": "2YRX7k9MI7ap"
            },
            "source": [
                "x = np.arange(-10,10,1)\n",
                "y1 = x*x\n",
                "y2 = -x*x\n",
                "y3 = x\n",
                "plt.plot(x,y1,'b.-')\n",
                "plt.plot(x,y2,'ro')\n",
                "plt.plot(x,y3,'g')\n",
                "plt.title(\"Meu gráfico maravilhoso\")\n",
                "plt.grid()\n",
                "plt.xlabel(\"tempo\")    # coloca rótulo no eixo x\n",
                "plt.ylabel(\"pontos\")  # coloca rótulo no eixo y"
            ],
            "execution_count": null,
            "outputs": []
        },
        {
            "cell_type": "markdown",
            "metadata": {
                "id": "2M6VfiMyI7ar"
            },
            "source": [
                "**Também pode ser útil ter um rótulo para cada função.**\n",
                "Usamos um parâmetro extra ``label`` no ``plot`` e depois usamos a função ``plt.legend()``:"
            ]
        },
        {
            "cell_type": "code",
            "metadata": {
                "id": "ddmmlHabI7ar"
            },
            "source": [
                "x = np.arange(-10,10,1)\n",
                "y1 = x*x\n",
                "y2 = -x*x\n",
                "y3 = x\n",
                "plt.plot(x,y1,'b.-',label='trajetória 1') # colocamos legenda para funcao y1\n",
                "plt.plot(x,y2,'ro',label='reflexo')       # colocamos legenda para funcao y2\n",
                "plt.plot(x,y3,'g',label='reta')           # colocamos legenda para funcao y3\n",
                "plt.title(\"Meu gráfico maravilhoso\")\n",
                "plt.grid()\n",
                "plt.xlabel(\"tempo\")\n",
                "plt.ylabel(\"pontos\")\n",
                "plt.legend()                              # precisa colocar esta linha para que legendas funcionarem"
            ],
            "execution_count": null,
            "outputs": []
        },
        {
            "cell_type": "markdown",
            "metadata": {
                "id": "dk_3ZjFCKi21"
            },
            "source": [
                "**A biblioteca escolhe a escala dos eixos x e y automaticamente. Se você quiser que os eixos estejam na mesma escala, utilize o comando**  ``plt.axis('equal')``."
            ]
        },
        {
            "cell_type": "code",
            "metadata": {
                "id": "_p81UJ8LKufh"
            },
            "source": [
                "x = np.arange(-10,10,1)\n",
                "y1 = x*x\n",
                "y2 = -x*x\n",
                "y3 = x\n",
                "plt.plot(x,y1,'b.-',label='trajetória 1')\n",
                "plt.plot(x,y2,'ro',label='reflexo')\n",
                "plt.plot(x,y3,'g',label='reta')\n",
                "plt.title(\"Meu gráfico maravilhoso\")\n",
                "plt.grid()\n",
                "plt.xlabel(\"tempo\")\n",
                "plt.ylabel(\"pontos\")\n",
                "plt.legend()\n",
                "plt.axis('equal')    # colocar se quiser que os eixos estejam na mesma escala,"
            ],
            "execution_count": null,
            "outputs": []
        },
        {
            "cell_type": "markdown",
            "metadata": {
                "id": "I2rfS6S3I7au"
            },
            "source": [
                "### Exercício\n",
                "Modifique o título, eixos, os rótulos, cores e estilos das linhas."
            ]
        },
        {
            "cell_type": "code",
            "metadata": {
                "id": "nhJIBzMaI7av"
            },
            "source": [
                "x = np.arange(-10,10,1)\n",
                "y1 = x*x\n",
                "y2 = -x*x\n",
                "y3 = x\n",
                "plt.plot(x,y1,'b.-',label='trajetória 1')\n",
                "plt.plot(x,y2,'ro',label='reflexo')\n",
                "plt.plot(x,y3,'g',label='reta')\n",
                "plt.title(\"Meu gráfico maravilhoso\")\n",
                "plt.grid()\n",
                "plt.legend()\n",
                "plt.xlabel(\"tempo\")\n",
                "plt.ylabel(\"pontos\")"
            ],
            "execution_count": null,
            "outputs": []
        }
    ]
}
