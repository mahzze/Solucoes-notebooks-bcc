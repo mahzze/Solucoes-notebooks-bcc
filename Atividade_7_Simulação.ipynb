{
  "nbformat": 4,
  "nbformat_minor": 0,
  "metadata": {
    "colab": {
      "provenance": []
    },
    "kernelspec": {
      "name": "python3",
      "display_name": "Python 3"
    },
    "language_info": {
      "name": "python"
    }
  },
  "cells": [
    {
      "cell_type": "markdown",
      "source": [
        "### Bases Computacionais da Ciência - Raphael Y. de Camargo - 2024.2\n",
        "\n",
        "## Lista 7 - Entregar até o dia 28/08"
      ],
      "metadata": {
        "id": "nQ9ja00_pZR4"
      }
    },
    {
      "cell_type": "markdown",
      "source": [
        "### Problema 1: Simulação de Jogo de Azar\n",
        "\n",
        "Implemente uma simulação para o jogo de azar feito em aula, com 2 opções de número com mesma probabilidade, e onde o jogador recebe o mesmo valor que apostou quando acerta a jogada.\n",
        "\n",
        "O jogador sempre aposta 10 reais no número 1. Ele começa com 100 reais e para de jogar quando atingir 200 reais ou perder todo o dinheiro. Realize a simulação e exiba quantas rodadas foram necessárias para o jogador atingir um dos dois objetivos e qual foi o resultado."
      ],
      "metadata": {
        "id": "96Lrn3W9ws-O"
      }
    },
    {
      "cell_type": "code",
      "source": [
        "import random as rd\n",
        "\n",
        "saldo = 100\n",
        "aposta = 10\n",
        "rodada = 0\n",
        "\n",
        "while saldo > 0 and saldo < 200:\n",
        "  sorteio = rd.randint(1,2)\n",
        "  rodada += 1\n",
        "  if sorteio == 1:\n",
        "    saldo = saldo+aposta\n",
        "    print(\"Ganhou\", aposta, \"reais\")\n",
        "  else:\n",
        "    saldo = saldo-aposta\n",
        "    print(\"Perdeu\", aposta, \"reais\")\n",
        "print(\"O jogador tem\", saldo, \"reais\")\n",
        "print(\"O jogo durou\", rodada, \"rodadas\")"
      ],
      "metadata": {
        "id": "PlNzPG_Yw97z",
        "colab": {
          "base_uri": "https://localhost:8080/"
        },
        "outputId": "48810483-27af-42f7-ea0b-c7f0a50a64c4"
      },
      "execution_count": null,
      "outputs": [
        {
          "output_type": "stream",
          "name": "stdout",
          "text": [
            "Perdeu 10 reais\n",
            "Perdeu 10 reais\n",
            "Ganhou 10 reais\n",
            "Ganhou 10 reais\n",
            "Perdeu 10 reais\n",
            "Perdeu 10 reais\n",
            "Perdeu 10 reais\n",
            "Ganhou 10 reais\n",
            "Ganhou 10 reais\n",
            "Perdeu 10 reais\n",
            "Ganhou 10 reais\n",
            "Ganhou 10 reais\n",
            "Ganhou 10 reais\n",
            "Ganhou 10 reais\n",
            "Perdeu 10 reais\n",
            "Perdeu 10 reais\n",
            "Perdeu 10 reais\n",
            "Perdeu 10 reais\n",
            "Perdeu 10 reais\n",
            "Ganhou 10 reais\n",
            "Ganhou 10 reais\n",
            "Perdeu 10 reais\n",
            "Perdeu 10 reais\n",
            "Ganhou 10 reais\n",
            "Perdeu 10 reais\n",
            "Perdeu 10 reais\n",
            "Perdeu 10 reais\n",
            "Ganhou 10 reais\n",
            "Perdeu 10 reais\n",
            "Perdeu 10 reais\n",
            "Ganhou 10 reais\n",
            "Perdeu 10 reais\n",
            "Perdeu 10 reais\n",
            "Perdeu 10 reais\n",
            "Perdeu 10 reais\n",
            "Perdeu 10 reais\n",
            "O jogador tem 0 reais\n",
            "O jogo durou 36 rodadas\n"
          ]
        }
      ]
    },
    {
      "cell_type": "markdown",
      "source": [
        "### Problema 2: Estatísticas de Jogo de Azar\n",
        "\n",
        "Realize 1.000 simulações do jogo descrito anteriormente e imprima: (i) A média do número de rodadas necessárias para que o jogador atinja um dos objetivos e (ii) A porcentagem de vezes em que o jogador conseguiu alcançar os 200 reais.\n",
        "\n",
        "Em seguida, realize o mesmo procedimento, mas considerando que o operador do jogo fica com 2% do valor ganho em cada rodada, isto é, ao invés de receber 10 reais ao acertar o número, ele recebe 9,80."
      ],
      "metadata": {
        "id": "WkcI15AO5-Jj"
      }
    },
    {
      "cell_type": "code",
      "source": [
        "import random as rd\n",
        "\n",
        "falhas = [0,0]\n",
        "sucessos = [0,0]\n",
        "total_rodadas = [0,0]\n",
        "\n",
        "for i in range(0, 1000):\n",
        "  #médias calculadas no print\n",
        "  #daria pra usar array em tudo, mas por pressa, vai com var1 e var2\n",
        "  saldo1 = 100\n",
        "  aposta1 = 10\n",
        "  rodada1 = 0\n",
        "\n",
        "  while saldo1 > 0 and saldo1 < 200:\n",
        "    sorteio1 = rd.randint(1,2)\n",
        "    rodada1 += 1\n",
        "    if sorteio1 == 1:\n",
        "      saldo1 = saldo1+aposta1\n",
        "    else:\n",
        "      saldo1 = saldo1-aposta1\n",
        "  if saldo1 >= 200:\n",
        "    sucessos[0] += 1\n",
        "  else:\n",
        "    falhas[0] += 1\n",
        "  total_rodadas[0] += rodada1\n",
        "\n",
        "\n",
        "  saldo2 = 100\n",
        "  aposta2 = 10\n",
        "  rodada2 = 0\n",
        "\n",
        "  while saldo2 > 0 and saldo2 < 200:\n",
        "    sorteio2 = rd.randint(1,2)\n",
        "    rodada2 += 1\n",
        "    if sorteio2 == 1:\n",
        "      saldo2 = saldo2+(0.98*aposta2)\n",
        "    else:\n",
        "      saldo2 = saldo2-aposta2\n",
        "  if saldo2 >= 200:\n",
        "    sucessos[1] += 1\n",
        "  else:\n",
        "    falhas[1] += 1\n",
        "  total_rodadas[1] += rodada2\n",
        "\n",
        "\n",
        "print(\"CASO SEM OS 2% DO OPERADOR =======================\")\n",
        "print(f\"Total:\\n Sucessos: {sucessos[0]}\\n Falhas: {falhas[0]}\")\n",
        "print(f\"Médias:\\n número médio de rodadas: {total_rodadas[0]/1000}\\n chance de sucessos: {sucessos[0]/1000}, chance de falhas: {falhas[0]/1000}\\n\")\n",
        "\n",
        "print(\"CASO COM OS 2% DO OPERADOR =======================\")\n",
        "print(f\"Total:\\n Sucessos: {sucessos[1]}\\n Falhas: {falhas[1]}\")\n",
        "print(f\"Médias:\\n número médio de rodadas: {total_rodadas[1]/1000}\\n chance de sucessos: {sucessos[1]/1000}, chance de falhas: {falhas[1]/1000}\")"
      ],
      "metadata": {
        "id": "qNgmwJSw5-hZ",
        "colab": {
          "base_uri": "https://localhost:8080/"
        },
        "outputId": "2f9e6ecc-2224-4a19-d4d3-290e5df2cf97"
      },
      "execution_count": null,
      "outputs": [
        {
          "output_type": "stream",
          "name": "stdout",
          "text": [
            "CASO SEM OS 2% DO OPERADOR =======================\n",
            "Total:\n",
            " Sucessos: 474\n",
            " Falhas: 526\n",
            "Médias:\n",
            " número médio de rodadas: 97.122\n",
            " chance de sucessos: 0.474, chance de falhas: 0.526\n",
            "\n",
            "CASO COM OS 2% DO OPERADOR =======================\n",
            "Total:\n",
            " Sucessos: 445\n",
            " Falhas: 555\n",
            "Médias:\n",
            " número médio de rodadas: 112.716\n",
            " chance de sucessos: 0.445, chance de falhas: 0.555\n"
          ]
        }
      ]
    },
    {
      "cell_type": "markdown",
      "source": [
        "### Problema 3:\n",
        "\n",
        "Você tem um quadrado de lado `k` unidades, onde o calor de `k` é lido do teclado, e um círculo inscrito dentro desse quadrado (ou seja, o círculo toca os lados do quadrado). Usando o método de Monte Carlo, estime a área do círculo. Para isso, gere pontos aleatórios dentro do quadrado e determine a proporção desses pontos que caem dentro do círculo. Com base nessa proporção, estime a área do círculo.\n"
      ],
      "metadata": {
        "id": "ZSXN3CfT2ku3"
      }
    },
    {
      "cell_type": "code",
      "source": [
        "import random as rd\n",
        "\n",
        "k = float(input())\n",
        "r = k/2\n",
        "dentro = 0\n",
        "pontos = 1000\n",
        "\n",
        "for i in range(0, pontos):\n",
        "  x=rd.uniform(0,k)\n",
        "  y=rd.uniform(0,k)\n",
        "  dist = ((x-r)**2+(y-r)**2)**0.5\n",
        "  if dist <= r:\n",
        "    dentro += 1\n",
        "  proporcao = dentro/pontos\n",
        "  pi = proporcao*4\n",
        "  area = pi*r**2\n",
        "print(f\"valor estimado de pi = {pi}, área estimada = {area} u.a²\")\n"
      ],
      "metadata": {
        "id": "Aw5u1qyk2kBw",
        "colab": {
          "base_uri": "https://localhost:8080/"
        },
        "outputId": "a7e4532f-db02-4240-cbfb-5ad96479daf9"
      },
      "execution_count": null,
      "outputs": [
        {
          "output_type": "stream",
          "name": "stdout",
          "text": [
            "20\n",
            "valor estimado de pi = 3.088, área estimada = 308.8 u.a²\n"
          ]
        }
      ]
    },
    {
      "cell_type": "markdown",
      "source": [
        "### Problema 4\n",
        "\n",
        "No jogo de tabuleiro War, um jogador pode atacar o território do outro com suas tropas. O atacante pode atacar com 1, 2 ou 3 tropas e o defensor pode se defender com 1, 2 ou 3 tropas.\n",
        "\n",
        "No caso mais simples, tanto o atacante quanto o defensor possuem 1 tropa. Neste caso, o atacante e o defensor jogam um dado de 6 faces cada. Se o atacante tirar o maior número, ele vence. Se o defensor tirar um número maior ou igual ao atacante, o defensor vence.\n",
        "\n",
        "Agora vamos simular o caso do ataque e defensor terem 2 tropas cada. Neste caso, o atacante e o defensor jogam 2 dados cada.\n",
        "\n",
        "Você deve então comparar:\n",
        "\n",
        "(i) o dado de maior valor obtido pelo atacante e o de maior valor obtido pelo defensor. Isso gerará o vencedor para uma das tropas\n",
        "\n",
        "(ii) o dado de menor valor obtido pelo atacante e o de menor valor obtido pelo defensor. Isso gerará o vencedor para a segunda tropa\n",
        "\n",
        "Exemplo:\n",
        "\n",
        "ataque: 6 2\n",
        "\n",
        "defesa: 2 5\n",
        "\n",
        "Neste caso, iremos juntar os dados de valores 6 e 5, de modo que o atacante venceu a primeira batalha. Em seguida, comparamos os valores 2 e 2, de modo que a defesa venceu a segunda batalha. No final, o ataque perdeu uma tropa e a defesa perdeu 1 tropa.\n",
        "\n",
        "Escreva um programa que simula o caso do ataque e defesa com 2 tropas cada. Ele deve devolver quantas tropas cada jogador perdeu (ataque, defesa)."
      ],
      "metadata": {
        "id": "CznfUhIl5flN"
      }
    },
    {
      "cell_type": "code",
      "source": [
        "import random as rd\n",
        "\n",
        "num_batalhas = 1000\n",
        "\n",
        "ataque_perdeu = 0\n",
        "defesa_perdeu = 0\n",
        "\n",
        "for _ in range(num_batalhas):\n",
        "  dados_ataque = [rd.randint(1, 6), rd.randint(1, 6)]\n",
        "  dados_defesa = [rd.randint(1, 6), rd.randint(1, 6)]\n",
        "\n",
        "  dados_ataque.sort(reverse=True)\n",
        "  dados_defesa.sort(reverse=True)\n",
        "\n",
        "  if dados_ataque[0] > dados_defesa[0]:\n",
        "    defesa_perdeu += 1\n",
        "  elif dados_defesa[0] > dados_ataque[0]:\n",
        "    ataque_perdeu += 1\n",
        "\n",
        "  if dados_ataque[1] > dados_defesa[1]:\n",
        "    defesa_perdeu += 1\n",
        "  elif dados_defesa[1] > dados_ataque[1]:\n",
        "    ataque_perdeu += 1\n",
        "\n",
        "print(f\"Ataque perdeu {ataque_perdeu} tropas e a defesa perdeu {defesa_perdeu} tropas.\")"
      ],
      "metadata": {
        "id": "WM7HxAM-5Ceg",
        "outputId": "9c0f1889-219e-496b-887c-e8df6ae873fa",
        "colab": {
          "base_uri": "https://localhost:8080/"
        }
      },
      "execution_count": 4,
      "outputs": [
        {
          "output_type": "stream",
          "name": "stdout",
          "text": [
            "Ataque perdeu 793 tropas e a defesa perdeu 761 tropas.\n"
          ]
        }
      ]
    },
    {
      "cell_type": "markdown",
      "source": [
        "### Problema 5\n",
        "\n",
        "Você está simulando um jogo RPG, onde 2 personagens X e Y se revezam em uma batalha. Cada um possui 3 atributos: habilidade de ataque (entre 2 e 10), de defesa (entre 2 e 10) e vida (entre 10 e 20). Estes atributos são lidos a partir do teclado.\n",
        "\n",
        "Na primeira rodada o personagem X ataca, na segunda o Y ataca e os ataques seguem alternados até que um dos personagens seja derrotado.\n",
        "\n",
        "O personagem que ataca A deve jogar um dado de 10 faces. Se o valor sorteado `dado` for menor do que sua habilidade de ataque, ele acertou o ataque. Neste caso, o outro personagem tentará se defender jogando um dado. Se o valor sorteado for menor do que sua habilidade de defesa, ele conseguiu se defender.\n",
        "\n",
        "Caso o ataque seja bem sucedido, isto é, o atacante acertou o ataque e o defensor errou a defesa, deve ser calculado qual foi o dano de ataque. Este dano será igual à diferença entre o valor que o atacante tirou em seus dados durante o ataque (`dado`) e sua habilidade.\n",
        "\n",
        "Você deve repetir o processo até que um dos personagens fique com vida zero. Em cada rodada, imprima qual o personagem que atacou, se ele e o defensor acertaram o ataque e defesa, o dano causado (se aplicável) e a vida restante para o personagem que foi ferido.\n",
        "\n",
        "O programa deve imprimir qual o personagem vencedor \"X\" ou \"Y\", e qual a vida restante do vencedor."
      ],
      "metadata": {
        "id": "-4cZjqEdG0Y-"
      }
    },
    {
      "cell_type": "code",
      "source": [
        "import random as rd\n",
        "\n",
        "vidaX = int(input(\"Vida de X:\"))\n",
        "ataqueX = int(input(\"Ataque de X:\"))\n",
        "defesaX = int(input(\"Defesa de x:\"))\n",
        "vidaY = int(input(\"Vida de Y:\"))\n",
        "ataqueY = int(input(\"Ataque de Y:\"))\n",
        "defesaY = int(input(\"Defesa de Y:\"))\n",
        "\n",
        "if ataqueX < 2 or ataqueX > 10 or defesaX < 2 or defesaX > 10 or vidaX < 10 or vidaX > 20:\n",
        "    print(\"Atributos do personagem X inválidos\")\n",
        "    exit()\n",
        "\n",
        "if ataqueY < 2 or ataqueY > 10 or defesaY < 2 or defesaY > 10 or vidaY < 10 or vidaY > 20:\n",
        "    print(\"Atributos do personagem Y inválidos\")\n",
        "    exit()\n",
        "\n",
        "while vidaX > 0 and vidaY > 0:\n",
        "  # Turno de X atacar\n",
        "  dadoX = rd.randint(0,10)\n",
        "  if dadoX < ataqueX:\n",
        "    print(\"Personagem X acertou o ataque\")\n",
        "    dadoY = rd.randint(0,10)\n",
        "    if dadoY < defesaY:\n",
        "      print(\"Personagem Y conseguiu defender\")\n",
        "      continue\n",
        "    else:\n",
        "      print(\"Personagem Y errou a defesa\")\n",
        "      vidaY -= ataqueX - dadoX\n",
        "      print(f\"Personagem X causou {abs(ataqueX-dadoX)} de dano\")\n",
        "      print(f\"Vida restante do personagem Y: {vidaY}\")\n",
        "      if vidaY <= 0:\n",
        "        break\n",
        "  else:\n",
        "    print(\"Personagem X errou o ataque\")\n",
        "\n",
        "  #Turno de Y\n",
        "  dadoY = rd.randint(0, 10)\n",
        "  if dadoY < ataqueY:\n",
        "    print(\"Personagem Y acertou o ataque\")\n",
        "    dadoX = rd.randint(0,10)\n",
        "    if dadoX < defesaX:\n",
        "      print(\"Personagem X conseguiu defender\")\n",
        "      continue\n",
        "    else:\n",
        "      print(\"Personagem X errou a defesa\")\n",
        "      vidaX -= ataqueY - dadoY\n",
        "      print(f\"Personagem Y causou {abs(ataqueY-dadoY)} de dano\")\n",
        "      print(f\"Vida restante do personagem X: {vidaX}\")\n",
        "      if vidaX <= 0:\n",
        "        break\n",
        "  else:\n",
        "    print(\"Personagem Y errou o ataque\")\n",
        "\n",
        "if vidaX > vidaY:\n",
        "  print(f\"X venceu com {vidaX} de vida restante\")\n",
        "else:\n",
        "  print(f\"Y venceu com {vidaY} de vida restante\")\n"
      ],
      "metadata": {
        "id": "dztWBNywI6ey",
        "colab": {
          "base_uri": "https://localhost:8080/"
        },
        "outputId": "6abd025e-7295-40fc-d94d-9cc77b452872"
      },
      "execution_count": 1,
      "outputs": [
        {
          "output_type": "stream",
          "name": "stdout",
          "text": [
            "Vida de X:20\n",
            "Ataque de X:10\n",
            "Defesa de x:10\n",
            "Vida de Y:20\n",
            "Ataque de Y:10\n",
            "Defesa de Y:10\n",
            "Personagem X acertou o ataque\n",
            "Personagem Y conseguiu defender\n",
            "Personagem X acertou o ataque\n",
            "Personagem Y conseguiu defender\n",
            "Personagem X acertou o ataque\n",
            "Personagem Y conseguiu defender\n",
            "Personagem X acertou o ataque\n",
            "Personagem Y conseguiu defender\n",
            "Personagem X acertou o ataque\n",
            "Personagem Y conseguiu defender\n",
            "Personagem X acertou o ataque\n",
            "Personagem Y conseguiu defender\n",
            "Personagem X acertou o ataque\n",
            "Personagem Y errou a defesa\n",
            "Personagem X causou 3 de dano\n",
            "Vida restante do personagem Y: 17\n",
            "Personagem Y acertou o ataque\n",
            "Personagem X conseguiu defender\n",
            "Personagem X acertou o ataque\n",
            "Personagem Y conseguiu defender\n",
            "Personagem X acertou o ataque\n",
            "Personagem Y conseguiu defender\n",
            "Personagem X acertou o ataque\n",
            "Personagem Y conseguiu defender\n",
            "Personagem X acertou o ataque\n",
            "Personagem Y conseguiu defender\n",
            "Personagem X acertou o ataque\n",
            "Personagem Y errou a defesa\n",
            "Personagem X causou 6 de dano\n",
            "Vida restante do personagem Y: 11\n",
            "Personagem Y acertou o ataque\n",
            "Personagem X conseguiu defender\n",
            "Personagem X acertou o ataque\n",
            "Personagem Y conseguiu defender\n",
            "Personagem X acertou o ataque\n",
            "Personagem Y conseguiu defender\n",
            "Personagem X acertou o ataque\n",
            "Personagem Y conseguiu defender\n",
            "Personagem X acertou o ataque\n",
            "Personagem Y conseguiu defender\n",
            "Personagem X acertou o ataque\n",
            "Personagem Y conseguiu defender\n",
            "Personagem X acertou o ataque\n",
            "Personagem Y conseguiu defender\n",
            "Personagem X acertou o ataque\n",
            "Personagem Y conseguiu defender\n",
            "Personagem X acertou o ataque\n",
            "Personagem Y conseguiu defender\n",
            "Personagem X acertou o ataque\n",
            "Personagem Y conseguiu defender\n",
            "Personagem X acertou o ataque\n",
            "Personagem Y conseguiu defender\n",
            "Personagem X acertou o ataque\n",
            "Personagem Y conseguiu defender\n",
            "Personagem X errou o ataque\n",
            "Personagem Y acertou o ataque\n",
            "Personagem X conseguiu defender\n",
            "Personagem X acertou o ataque\n",
            "Personagem Y conseguiu defender\n",
            "Personagem X errou o ataque\n",
            "Personagem Y acertou o ataque\n",
            "Personagem X conseguiu defender\n",
            "Personagem X acertou o ataque\n",
            "Personagem Y conseguiu defender\n",
            "Personagem X acertou o ataque\n",
            "Personagem Y errou a defesa\n",
            "Personagem X causou 8 de dano\n",
            "Vida restante do personagem Y: 3\n",
            "Personagem Y acertou o ataque\n",
            "Personagem X conseguiu defender\n",
            "Personagem X acertou o ataque\n",
            "Personagem Y conseguiu defender\n",
            "Personagem X acertou o ataque\n",
            "Personagem Y conseguiu defender\n",
            "Personagem X acertou o ataque\n",
            "Personagem Y conseguiu defender\n",
            "Personagem X acertou o ataque\n",
            "Personagem Y conseguiu defender\n",
            "Personagem X acertou o ataque\n",
            "Personagem Y conseguiu defender\n",
            "Personagem X acertou o ataque\n",
            "Personagem Y conseguiu defender\n",
            "Personagem X acertou o ataque\n",
            "Personagem Y conseguiu defender\n",
            "Personagem X acertou o ataque\n",
            "Personagem Y conseguiu defender\n",
            "Personagem X errou o ataque\n",
            "Personagem Y acertou o ataque\n",
            "Personagem X conseguiu defender\n",
            "Personagem X acertou o ataque\n",
            "Personagem Y conseguiu defender\n",
            "Personagem X errou o ataque\n",
            "Personagem Y acertou o ataque\n",
            "Personagem X errou a defesa\n",
            "Personagem Y causou 7 de dano\n",
            "Vida restante do personagem X: 13\n",
            "Personagem X acertou o ataque\n",
            "Personagem Y conseguiu defender\n",
            "Personagem X acertou o ataque\n",
            "Personagem Y conseguiu defender\n",
            "Personagem X acertou o ataque\n",
            "Personagem Y conseguiu defender\n",
            "Personagem X acertou o ataque\n",
            "Personagem Y conseguiu defender\n",
            "Personagem X acertou o ataque\n",
            "Personagem Y conseguiu defender\n",
            "Personagem X acertou o ataque\n",
            "Personagem Y conseguiu defender\n",
            "Personagem X acertou o ataque\n",
            "Personagem Y conseguiu defender\n",
            "Personagem X acertou o ataque\n",
            "Personagem Y conseguiu defender\n",
            "Personagem X acertou o ataque\n",
            "Personagem Y conseguiu defender\n",
            "Personagem X acertou o ataque\n",
            "Personagem Y conseguiu defender\n",
            "Personagem X errou o ataque\n",
            "Personagem Y acertou o ataque\n",
            "Personagem X conseguiu defender\n",
            "Personagem X acertou o ataque\n",
            "Personagem Y conseguiu defender\n",
            "Personagem X acertou o ataque\n",
            "Personagem Y conseguiu defender\n",
            "Personagem X acertou o ataque\n",
            "Personagem Y conseguiu defender\n",
            "Personagem X acertou o ataque\n",
            "Personagem Y conseguiu defender\n",
            "Personagem X acertou o ataque\n",
            "Personagem Y conseguiu defender\n",
            "Personagem X acertou o ataque\n",
            "Personagem Y conseguiu defender\n",
            "Personagem X acertou o ataque\n",
            "Personagem Y conseguiu defender\n",
            "Personagem X acertou o ataque\n",
            "Personagem Y conseguiu defender\n",
            "Personagem X acertou o ataque\n",
            "Personagem Y errou a defesa\n",
            "Personagem X causou 3 de dano\n",
            "Vida restante do personagem Y: 0\n",
            "X venceu com 13 de vida restante\n"
          ]
        }
      ]
    }
  ]
}